{
 "cells": [
  {
   "cell_type": "markdown",
   "metadata": {},
   "source": [
    "# normal distribution"
   ]
  },
  {
   "cell_type": "code",
   "execution_count": 1,
   "metadata": {},
   "outputs": [],
   "source": [
    "import scipy.stats as ss"
   ]
  },
  {
   "cell_type": "markdown",
   "metadata": {},
   "source": [
    "x is a normally distributed variable with mean μ =30 and standard deviation σ=4\n",
    "find\n",
    "a)p(x<40)\n",
    "b)p(x>21)\n",
    "c)p(30<x<35)\n"
   ]
  },
  {
   "cell_type": "code",
   "execution_count": 2,
   "metadata": {},
   "outputs": [
    {
     "data": {
      "text/plain": [
       "0.43381616738909634"
      ]
     },
     "execution_count": 2,
     "metadata": {},
     "output_type": "execute_result"
    }
   ],
   "source": [
    "nd=ss.norm(100,12).cdf(98)\n",
    "#prob of getting 98 in normal distribution\n",
    "nd"
   ]
  },
  {
   "cell_type": "code",
   "execution_count": 3,
   "metadata": {},
   "outputs": [
    {
     "data": {
      "text/plain": [
       "0.9937903346742238"
      ]
     },
     "execution_count": 3,
     "metadata": {},
     "output_type": "execute_result"
    }
   ],
   "source": [
    "#a)\n",
    "ss.norm(30,4).cdf(40)"
   ]
  },
  {
   "cell_type": "code",
   "execution_count": 4,
   "metadata": {},
   "outputs": [
    {
     "data": {
      "text/plain": [
       "0.9877755273449553"
      ]
     },
     "execution_count": 4,
     "metadata": {},
     "output_type": "execute_result"
    }
   ],
   "source": [
    "#b)\n",
    "x=ss.norm(30,4).cdf(21)\n",
    "1-x"
   ]
  },
  {
   "cell_type": "code",
   "execution_count": 5,
   "metadata": {},
   "outputs": [
    {
     "data": {
      "text/plain": [
       "0.39435022633314465"
      ]
     },
     "execution_count": 5,
     "metadata": {},
     "output_type": "execute_result"
    }
   ],
   "source": [
    "x=(ss.norm(30,4).cdf(35))-(ss.norm(30,4).cdf(30))\n",
    "x\n"
   ]
  },
  {
   "cell_type": "markdown",
   "metadata": {},
   "source": [
    "2)let x be therandom varible that represents the speed of cars x has μ=90 and σ=10.we have to find the probability that x is higher than 100 or p(x>100)"
   ]
  },
  {
   "cell_type": "code",
   "execution_count": 6,
   "metadata": {},
   "outputs": [
    {
     "data": {
      "text/plain": [
       "0.15865525393145707"
      ]
     },
     "execution_count": 6,
     "metadata": {},
     "output_type": "execute_result"
    }
   ],
   "source": [
    "1-ss.norm(90,10).cdf(100)\n"
   ]
  },
  {
   "cell_type": "markdown",
   "metadata": {},
   "source": [
    "3)let x be the random variable that represents the length of time.it has a mean of 50 and a standard deviation of 15.wehave to find the probability that x is between 50 and 70 "
   ]
  },
  {
   "cell_type": "code",
   "execution_count": 7,
   "metadata": {},
   "outputs": [
    {
     "data": {
      "text/plain": [
       "0.4087887802741321"
      ]
     },
     "execution_count": 7,
     "metadata": {},
     "output_type": "execute_result"
    }
   ],
   "source": [
    "ss.norm(50,15).cdf(70)-ss.norm(50,15).cdf(50)"
   ]
  },
  {
   "cell_type": "markdown",
   "metadata": {},
   "source": [
    "4)the length of similar components produced bya company are approximated by a normal distribution model with a mean of 5cm and a standard deviation of 0.02cm.if a component is choosen at random\n",
    "a)what is the probability that the length of this components is between 4.98 and 5.02cm\n",
    "b)what is the probability that the length of this components is between 4.96 and 5.04cm"
   ]
  },
  {
   "cell_type": "code",
   "execution_count": 8,
   "metadata": {},
   "outputs": [
    {
     "data": {
      "text/plain": [
       "0.6826894921370756"
      ]
     },
     "execution_count": 8,
     "metadata": {},
     "output_type": "execute_result"
    }
   ],
   "source": [
    "#a)\n",
    "ss.norm(5,0.02).cdf(5.02)-ss.norm(5,0.02).cdf(4.98)"
   ]
  },
  {
   "cell_type": "code",
   "execution_count": 9,
   "metadata": {},
   "outputs": [
    {
     "data": {
      "text/plain": [
       "0.9544997361036418"
      ]
     },
     "execution_count": 9,
     "metadata": {},
     "output_type": "execute_result"
    }
   ],
   "source": [
    "#b)\n",
    "ss.norm(5,0.02).cdf(5.04)-ss.norm(5,0.02).cdf(4.96)"
   ]
  },
  {
   "cell_type": "code",
   "execution_count": 10,
   "metadata": {},
   "outputs": [
    {
     "data": {
      "text/plain": [
       "0.9973002039367396"
      ]
     },
     "execution_count": 10,
     "metadata": {},
     "output_type": "execute_result"
    }
   ],
   "source": [
    "ss.norm(5,0.02).cdf(5.06)-ss.norm(5,0.02).cdf(4.94)"
   ]
  },
  {
   "cell_type": "markdown",
   "metadata": {},
   "source": [
    "5) the length of life of an instrument produced by a machine has a normal distribution witha mean of 12 months and std deviation of 2 months find the probability that an instrument produced by thios machine will  last\n",
    "a)less than 7months\n",
    "b)between 7 and 12 months\n"
   ]
  },
  {
   "cell_type": "code",
   "execution_count": 11,
   "metadata": {},
   "outputs": [
    {
     "name": "stdout",
     "output_type": "stream",
     "text": [
      "0.006209665325776132\n",
      "0.49379033467422384\n"
     ]
    }
   ],
   "source": [
    "x=ss.norm(12,2).cdf(7)\n",
    "y=ss.norm(12,2).cdf(12)-ss.norm(12,2).cdf(7)\n",
    "print(x)\n",
    "print(y)"
   ]
  },
  {
   "cell_type": "code",
   "execution_count": 12,
   "metadata": {},
   "outputs": [
    {
     "data": {
      "text/plain": [
       "0.26367187499999994"
      ]
     },
     "execution_count": 12,
     "metadata": {},
     "output_type": "execute_result"
    }
   ],
   "source": [
    "from scipy.stats import binom\n",
    "binom.pmf(3,5,0.75)\n",
    "#binom.pmf(x,n,p)"
   ]
  },
  {
   "cell_type": "markdown",
   "metadata": {},
   "source": [
    "1) your basketball team is playing a series of 5 games against your opponent.the winner is those who wins more games (out of 5).let assume that your team is more skilled and has 75\n",
    "% chance of winning .it means there is s 25% chance of losing.what is the probability of your team get 3 wins "
   ]
  },
  {
   "cell_type": "code",
   "execution_count": 13,
   "metadata": {},
   "outputs": [
    {
     "data": {
      "text/plain": [
       "0.26367187499999994"
      ]
     },
     "execution_count": 13,
     "metadata": {},
     "output_type": "execute_result"
    }
   ],
   "source": [
    "ss.binom.pmf(3,5,0.75)"
   ]
  },
  {
   "cell_type": "markdown",
   "metadata": {},
   "source": [
    "2)a box of candies has many different colors in it.there is a 15% chance of gettying a pink candy.what is the probability that exactly 4 candies in a box are pink out of 10?"
   ]
  },
  {
   "cell_type": "code",
   "execution_count": 14,
   "metadata": {},
   "outputs": [
    {
     "data": {
      "text/plain": [
       "0.04009570787988284"
      ]
     },
     "execution_count": 14,
     "metadata": {},
     "output_type": "execute_result"
    }
   ],
   "source": [
    "ss.binom.pmf(4,10,0.15)"
   ]
  },
  {
   "cell_type": "markdown",
   "metadata": {},
   "source": [
    "3)lets say that 80% of all business startups in the it industry report that they generate a profit in their first year.if a sample of 10 new it business startup are selcted,find their probability that exactly seven will generate the profit?"
   ]
  },
  {
   "cell_type": "code",
   "execution_count": 15,
   "metadata": {},
   "outputs": [
    {
     "data": {
      "text/plain": [
       "0.20132659200000014"
      ]
     },
     "execution_count": 15,
     "metadata": {},
     "output_type": "execute_result"
    }
   ],
   "source": [
    "binom.pmf(7,10,0.8)"
   ]
  },
  {
   "cell_type": "markdown",
   "metadata": {},
   "source": [
    "# poision distribution"
   ]
  },
  {
   "cell_type": "markdown",
   "metadata": {},
   "source": [
    "1)the average number of homes sold by the acme realty company is 2 homes per day.what is the probability that exactly 3 homes will be sold tommorow?"
   ]
  },
  {
   "cell_type": "code",
   "execution_count": 16,
   "metadata": {},
   "outputs": [
    {
     "data": {
      "text/plain": [
       "0.18044704431548356"
      ]
     },
     "execution_count": 16,
     "metadata": {},
     "output_type": "execute_result"
    }
   ],
   "source": [
    "ss.poisson.pmf(3,2)\n",
    "#ss.poisson.pmf(x,mean)"
   ]
  },
  {
   "cell_type": "code",
   "execution_count": 17,
   "metadata": {},
   "outputs": [
    {
     "data": {
      "text/plain": [
       "0.18044704431548356"
      ]
     },
     "execution_count": 17,
     "metadata": {},
     "output_type": "execute_result"
    }
   ],
   "source": [
    "#alternate method\n",
    "from scipy.stats import poisson\n",
    "poisson.pmf(3,2)"
   ]
  },
  {
   "cell_type": "markdown",
   "metadata": {},
   "source": [
    "2)suppose the average number of lions seen on a 1-day safari is 5.what is the probability that tourists will see fewer than four lions on the next 1-day safari.calculate p(x<4)  "
   ]
  },
  {
   "cell_type": "code",
   "execution_count": 18,
   "metadata": {},
   "outputs": [
    {
     "data": {
      "text/plain": [
       "0.26502591529736164"
      ]
     },
     "execution_count": 18,
     "metadata": {},
     "output_type": "execute_result"
    }
   ],
   "source": [
    "poisson.pmf(0,5)+poisson.pmf(1,5)+poisson.pmf(2,5)+poisson.pmf(3,5)"
   ]
  },
  {
   "cell_type": "markdown",
   "metadata": {},
   "source": [
    "#excercise:\n",
    "\n",
    "1)wool fibre breaking strengths are normally distributed with mean (m)=23.56 newtons and std deviation=4.55.what proportion of fibers would have breaking strength of 14.45 or less?"
   ]
  },
  {
   "cell_type": "code",
   "execution_count": 19,
   "metadata": {},
   "outputs": [
    {
     "data": {
      "text/plain": [
       "0.022631730991261142"
      ]
     },
     "execution_count": 19,
     "metadata": {},
     "output_type": "execute_result"
    }
   ],
   "source": [
    "ss.norm(23.56,4.55).cdf(14.45)"
   ]
  },
  {
   "cell_type": "raw",
   "metadata": {},
   "source": [
    "2)the finish times for marathon runners during a race are normally distributed with a mean of 195 minutes and a standard deviation of 25 minutes \n",
    "\n",
    "a)what is the probability that a runner will complete the marathon with in 3  hours\n",
    "b)calculate to the nearest minute,the time by which the first 8% runners have completed the marathon\n",
    "c)what proportion of the runners will complete the marathon between 3 and 4 hours?"
   ]
  },
  {
   "cell_type": "code",
   "execution_count": 20,
   "metadata": {},
   "outputs": [
    {
     "data": {
      "text/plain": [
       "0.2742531177500736"
      ]
     },
     "execution_count": 20,
     "metadata": {},
     "output_type": "execute_result"
    }
   ],
   "source": [
    "#a)\n",
    "ss.norm(195,25).cdf(180)"
   ]
  },
  {
   "cell_type": "code",
   "execution_count": 21,
   "metadata": {},
   "outputs": [],
   "source": [
    "#b)\n"
   ]
  },
  {
   "cell_type": "code",
   "execution_count": 22,
   "metadata": {},
   "outputs": [
    {
     "data": {
      "text/plain": [
       "0.6898165631370006"
      ]
     },
     "execution_count": 22,
     "metadata": {},
     "output_type": "execute_result"
    }
   ],
   "source": [
    "#c)\n",
    "ss.norm(195,25).cdf(240)-ss.norm(195,25).cdf(180)"
   ]
  },
  {
   "cell_type": "raw",
   "metadata": {},
   "source": [
    "3)an automatic camera record the no of cars running a redlight at an intersection (that is ,the cars were going through when the red light was agains the car) analysis of the data shows that on average 15% of light changes record a car running a red light.assume that the data has a binomial distribution.what is the probability that in 20 light changes there will be exactly three(3) cars running a red light?"
   ]
  },
  {
   "cell_type": "code",
   "execution_count": 23,
   "metadata": {},
   "outputs": [
    {
     "data": {
      "text/plain": [
       "0.24282889614926725"
      ]
     },
     "execution_count": 23,
     "metadata": {},
     "output_type": "execute_result"
    }
   ],
   "source": [
    "ss.binom.pmf(3,20,0.15)"
   ]
  },
  {
   "cell_type": "raw",
   "metadata": {},
   "source": [
    "4)the average no of accidents at a level crossing every year is 5.calculate the probability that there are exactly 3 accidents there this year? "
   ]
  },
  {
   "cell_type": "code",
   "execution_count": 24,
   "metadata": {},
   "outputs": [
    {
     "data": {
      "text/plain": [
       "0.1403738958142805"
      ]
     },
     "execution_count": 24,
     "metadata": {},
     "output_type": "execute_result"
    }
   ],
   "source": [
    "poisson.pmf(3,5)"
   ]
  },
  {
   "cell_type": "raw",
   "metadata": {},
   "source": [
    "5)a radio active source emits  4 particles on average during a five-secound period\n",
    "a)calculate the probability that it emits 3 particles during a 5 secound period\n",
    "b)calculate the probability that it emits atleast one particles during a 5 secound period\n",
    "c)during a ten-secound period,what is the probability that 6 particles are emitted?"
   ]
  },
  {
   "cell_type": "code",
   "execution_count": 25,
   "metadata": {},
   "outputs": [
    {
     "data": {
      "text/plain": [
       "0.19536681481316454"
      ]
     },
     "execution_count": 25,
     "metadata": {},
     "output_type": "execute_result"
    }
   ],
   "source": [
    "#a)\n",
    "poisson.pmf(3,4)"
   ]
  },
  {
   "cell_type": "code",
   "execution_count": 26,
   "metadata": {},
   "outputs": [
    {
     "data": {
      "text/plain": [
       "0.9816843611112658"
      ]
     },
     "execution_count": 26,
     "metadata": {},
     "output_type": "execute_result"
    }
   ],
   "source": [
    "#b)\n",
    "1-poisson.pmf(0,4)"
   ]
  },
  {
   "cell_type": "code",
   "execution_count": 27,
   "metadata": {},
   "outputs": [
    {
     "data": {
      "text/plain": [
       "0.12213821545677205"
      ]
     },
     "execution_count": 27,
     "metadata": {},
     "output_type": "execute_result"
    }
   ],
   "source": [
    "#c)\n",
    "poisson.pmf(6,8)"
   ]
  },
  {
   "cell_type": "raw",
   "metadata": {},
   "source": [
    "6)the time taken to asemble a car in a certain plant is a random variable having a normal distribution of 20 hours and std.dv is 2 hrs.what is the prob that a car can be assembled at this plant in a period of time\n",
    "a)less than 19.5hrs\n",
    "b) between 20 and 22 hrs?"
   ]
  },
  {
   "cell_type": "code",
   "execution_count": 28,
   "metadata": {},
   "outputs": [
    {
     "data": {
      "text/plain": [
       "0.4012936743170763"
      ]
     },
     "execution_count": 28,
     "metadata": {},
     "output_type": "execute_result"
    }
   ],
   "source": [
    "#a)\n",
    "ss.norm(20,2).cdf(19.5)"
   ]
  },
  {
   "cell_type": "code",
   "execution_count": 29,
   "metadata": {},
   "outputs": [
    {
     "data": {
      "text/plain": [
       "0.3413447460685429"
      ]
     },
     "execution_count": 29,
     "metadata": {},
     "output_type": "execute_result"
    }
   ],
   "source": [
    "#b)\n",
    "ss.norm(20,2).cdf(22)-ss.norm(20,2).cdf(20)"
   ]
  },
  {
   "cell_type": "raw",
   "metadata": {},
   "source": [
    "7)A Large group of students took a test in physics and the final grades have a mean of 70 and std dev 10.if we can approx the distribution of these grades by a normal distribution what percent of the students?\n",
    "a) scored higher than 80?\n",
    "b)should pass the test(grades>=60)?"
   ]
  },
  {
   "cell_type": "code",
   "execution_count": 30,
   "metadata": {},
   "outputs": [
    {
     "data": {
      "text/plain": [
       "0.15865525393145707"
      ]
     },
     "execution_count": 30,
     "metadata": {},
     "output_type": "execute_result"
    }
   ],
   "source": [
    "#a)\n",
    "1-ss.norm(70,10).cdf(80)"
   ]
  },
  {
   "cell_type": "code",
   "execution_count": 31,
   "metadata": {},
   "outputs": [
    {
     "data": {
      "text/plain": [
       "0.8413447460685429"
      ]
     },
     "execution_count": 31,
     "metadata": {},
     "output_type": "execute_result"
    }
   ],
   "source": [
    "#b)\n",
    "1-ss.norm(70,10).cdf(60)"
   ]
  },
  {
   "cell_type": "markdown",
   "metadata": {},
   "source": [
    "exercise:\n",
    "\n",
    "1)Two teams A and B are playing a series of 5 games. The team who wins the three or more games will win the series. Assume that the outcome of the games are independent and probability of winning for each team is 0.5. What is the probability that A will win the series? \n"
   ]
  },
  {
   "cell_type": "code",
   "execution_count": 32,
   "metadata": {},
   "outputs": [
    {
     "data": {
      "text/plain": [
       "0.49999999999999994"
      ]
     },
     "execution_count": 32,
     "metadata": {},
     "output_type": "execute_result"
    }
   ],
   "source": [
    "ss.binom.pmf(3,5,0.5)+ss.binom.pmf(4,5,0.5)+ss.binom.pmf(5,5,0.5)"
   ]
  },
  {
   "cell_type": "code",
   "execution_count": 57,
   "metadata": {},
   "outputs": [
    {
     "data": {
      "text/plain": [
       "0.5"
      ]
     },
     "execution_count": 57,
     "metadata": {},
     "output_type": "execute_result"
    }
   ],
   "source": [
    "#alternate method\n",
    "1-ss.binom.cdf(2,5,0.5)"
   ]
  },
  {
   "cell_type": "markdown",
   "metadata": {},
   "source": [
    "2)In a call center 180 calls are received at random over a period of 12 hours. Then the probability to receive calls between 180 to 200 every 12 hours is: "
   ]
  },
  {
   "cell_type": "code",
   "execution_count": 45,
   "metadata": {},
   "outputs": [
    {
     "name": "stdout",
     "output_type": "stream",
     "text": [
      "0.44470580831133655\n"
     ]
    }
   ],
   "source": [
    "i=180\n",
    "x=0\n",
    "while i<201:\n",
    "    x=x+poisson.pmf(i,180)\n",
    "    i=i+1\n",
    "print(x)\n",
    "\n"
   ]
  },
  {
   "cell_type": "code",
   "execution_count": 42,
   "metadata": {},
   "outputs": [
    {
     "data": {
      "text/plain": [
       "0.4149841695649299"
      ]
     },
     "execution_count": 42,
     "metadata": {},
     "output_type": "execute_result"
    }
   ],
   "source": [
    "#alternate method\n",
    "poisson.cdf(200,180)-poisson.cdf(180,180)"
   ]
  },
  {
   "cell_type": "markdown",
   "metadata": {},
   "source": [
    " 3)A call center receives 20 call per hour on an average. Should the center be employing more people if they expect more than 25 calls in an hour, when the center cannot take more than 8 percent of the risk? \n"
   ]
  },
  {
   "cell_type": "code",
   "execution_count": 47,
   "metadata": {},
   "outputs": [
    {
     "data": {
      "text/plain": [
       "0.1121849727179699"
      ]
     },
     "execution_count": 47,
     "metadata": {},
     "output_type": "execute_result"
    }
   ],
   "source": [
    "1-poisson.cdf(25,20)"
   ]
  },
  {
   "cell_type": "markdown",
   "metadata": {},
   "source": [
    "4) A sample contains 1000 pieces and chances that a piece is defective in the sample is 0.2. The probability of seeing more than 200 defective piece is \n"
   ]
  },
  {
   "cell_type": "code",
   "execution_count": 49,
   "metadata": {},
   "outputs": [
    {
     "data": {
      "text/plain": [
       "0.48108856444185344"
      ]
     },
     "execution_count": 49,
     "metadata": {},
     "output_type": "execute_result"
    }
   ],
   "source": [
    "1-ss.binom.cdf(200,1000,0.2)"
   ]
  },
  {
   "cell_type": "code",
   "execution_count": 55,
   "metadata": {},
   "outputs": [
    {
     "data": {
      "text/plain": [
       "0.06786199515844335"
      ]
     },
     "execution_count": 55,
     "metadata": {},
     "output_type": "execute_result"
    }
   ],
   "source": [
    "#5)When rolling a die 100 times, what is the probability of rolling a 6 exactly 20 times\n",
    "ss.binom.pmf(20,100,1/6)"
   ]
  },
  {
   "cell_type": "markdown",
   "metadata": {},
   "source": [
    "6)On an average the number of hits on a certain web page are 20 hits per day. What is the probability of observing more than 30 hits in a day? \n"
   ]
  },
  {
   "cell_type": "code",
   "execution_count": 56,
   "metadata": {},
   "outputs": [
    {
     "data": {
      "text/plain": [
       "0.01347468127992224"
      ]
     },
     "execution_count": 56,
     "metadata": {},
     "output_type": "execute_result"
    }
   ],
   "source": [
    "1-poisson.cdf(30,20)"
   ]
  },
  {
   "cell_type": "markdown",
   "metadata": {},
   "source": [
    "# T-distribution"
   ]
  },
  {
   "cell_type": "markdown",
   "metadata": {},
   "source": [
    "1)Acme Corporation manufactures light bulbs. The CEO claims that an average Acme light bulb lasts 300 days. A researcher randomly selects 15 bulbs for testing. The sampled bulbs last an average of 290 days, with a standard deviation of 50 days. If the CEO's claim were true, what is the probability that 15 randomly selected bulbs would have an average life of no more than 290 days?"
   ]
  },
  {
   "cell_type": "code",
   "execution_count": 59,
   "metadata": {},
   "outputs": [
    {
     "data": {
      "text/plain": [
       "-0.7745966692414834"
      ]
     },
     "execution_count": 59,
     "metadata": {},
     "output_type": "execute_result"
    }
   ],
   "source": [
    "#t-distribution\n",
    "#H0:null hypothesis:average life of bulbs <= 290 days\n",
    "#Ha:alternate hypothesis:average life of bulbs >290 days\n",
    "import numpy as np\n",
    "import scipy.stats as ss\n",
    "mean=300\n",
    "N=15\n",
    "s=50\n",
    "X=290\n",
    "#df=N-1=14\n",
    "teststatistic=(X-mean)/(s/np.sqrt(N))\n",
    "teststatistic"
   ]
  },
  {
   "cell_type": "code",
   "execution_count": 60,
   "metadata": {},
   "outputs": [
    {
     "data": {
      "text/plain": [
       "0.22573129225779137"
      ]
     },
     "execution_count": 60,
     "metadata": {},
     "output_type": "execute_result"
    }
   ],
   "source": [
    "p=ss.t.cdf(teststatistic,14)\n",
    "p"
   ]
  },
  {
   "cell_type": "raw",
   "metadata": {},
   "source": [
    "significance level is 0.05\n",
    "p value=0.23>0.05\n",
    "accept the null hypothesis"
   ]
  },
  {
   "cell_type": "markdown",
   "metadata": {},
   "source": [
    "Hence,if the true bulb life were 300 days,there is a 22.6% chance that the average bulb life for 15 randomly selcted bulbs would be greater than 290 days"
   ]
  },
  {
   "cell_type": "markdown",
   "metadata": {},
   "source": [
    "2)An alternator manufacturer must produce its alternators so that they are 95% confident that it runs at less than 71.1o C under stress test in order to meet the production requirements for sale to the US government. The stress test is performed on random samples drawn from the production line on a daily basis. Today’s sample of 7 alternators has a mean of 71.3o C and a standard deviation of 0.214o . Is there a production quality issue?"
   ]
  },
  {
   "cell_type": "code",
   "execution_count": 96,
   "metadata": {},
   "outputs": [
    {
     "data": {
      "text/plain": [
       "2.4726647766959142"
      ]
     },
     "execution_count": 96,
     "metadata": {},
     "output_type": "execute_result"
    }
   ],
   "source": [
    "#t-distribution\n",
    "#H0:null hypothesis:average life of bulbs <71.1\n",
    "#Ha:alternate hypothesis:average life of bulbs >=71.1\n",
    "#one tailed test\n",
    "mean=71.1\n",
    "N=7\n",
    "s=0.214\n",
    "X=71.3\n",
    "#df=N-1=6\n",
    "teststatistic=(X-mean)/(s/np.sqrt(N))\n",
    "teststatistic"
   ]
  },
  {
   "cell_type": "code",
   "execution_count": 98,
   "metadata": {},
   "outputs": [
    {
     "data": {
      "text/plain": [
       "0.024141478825914442"
      ]
     },
     "execution_count": 98,
     "metadata": {},
     "output_type": "execute_result"
    }
   ],
   "source": [
    "p=ss.t.cdf(teststatistic,6)\n",
    "1-p"
   ]
  },
  {
   "cell_type": "raw",
   "metadata": {},
   "source": [
    "significance level is 0.05\n",
    "p value=0.023<0.05\n",
    "reject the null hypothesis"
   ]
  },
  {
   "cell_type": "markdown",
   "metadata": {},
   "source": [
    "3.A coffee shop relocates to Italy and wants to make sure that all lattes are consistent. \u000b",
    "They believe that each latte has an average of 4 Oz of espresso. If this is not the case,\u000b",
    " they must increase or decrease the amount. A random sample of 25 lattes shows a \u000b",
    "mean of 4.6 Oz of espresso and a standard deviation of .22 Oz. Use alpha = .05"
   ]
  },
  {
   "cell_type": "code",
   "execution_count": 65,
   "metadata": {},
   "outputs": [
    {
     "data": {
      "text/plain": [
       "13.63636363636363"
      ]
     },
     "execution_count": 65,
     "metadata": {},
     "output_type": "execute_result"
    }
   ],
   "source": [
    "#two tailed test\n",
    "#H0:latte=4\n",
    "#Ha:latte!=4\n",
    "mean=4\n",
    "N=25\n",
    "s=0.22\n",
    "X=4.6\n",
    "#df=25-1=24\n",
    "teststatistic=(X-mean)/(s/np.sqrt(N))\n",
    "teststatistic\n"
   ]
  },
  {
   "cell_type": "code",
   "execution_count": 100,
   "metadata": {},
   "outputs": [
    {
     "data": {
      "text/plain": [
       "0.9895577662014252"
      ]
     },
     "execution_count": 100,
     "metadata": {},
     "output_type": "execute_result"
    }
   ],
   "source": [
    "ss.t.cdf(teststatistic,24)"
   ]
  },
  {
   "cell_type": "code",
   "execution_count": 68,
   "metadata": {},
   "outputs": [
    {
     "data": {
      "text/plain": [
       "8.48542925590331e-13"
      ]
     },
     "execution_count": 68,
     "metadata": {},
     "output_type": "execute_result"
    }
   ],
   "source": [
    "ss.t.sf(teststatistic,24)*2 #two tail test. two sided p value"
   ]
  },
  {
   "cell_type": "code",
   "execution_count": null,
   "metadata": {},
   "outputs": [],
   "source": [
    "#reject the null hypothesis"
   ]
  },
  {
   "cell_type": "markdown",
   "metadata": {},
   "source": [
    "4)A sports company claim that the average life of their product is 1500 hours.  However a sample of size 10 is tested and life is reported as 1800 1200 1300 1500 1700 1500 1200 1500 1400 1300. Can we doubt company’s claim  at 10% significance level\n",
    "\n",
    "#H0:the average life of product=1500hrs\n",
    "#Hathe average life of product  is not equal to 1500hrs\n"
   ]
  },
  {
   "cell_type": "code",
   "execution_count": 73,
   "metadata": {},
   "outputs": [
    {
     "data": {
      "text/plain": [
       "-0.9434940806071744"
      ]
     },
     "execution_count": 73,
     "metadata": {},
     "output_type": "execute_result"
    }
   ],
   "source": [
    "popmean=1500\n",
    "N=10\n",
    "s=201.1\n",
    "sampmean=1440\n",
    "#df=9       (N-1)\n",
    "teststatistic=((sampmean)-(popmean))/(s/np.sqrt(N))\n",
    "teststatistic"
   ]
  },
  {
   "cell_type": "code",
   "execution_count": 71,
   "metadata": {},
   "outputs": [
    {
     "data": {
      "text/plain": [
       "0.18503242571862266"
      ]
     },
     "execution_count": 71,
     "metadata": {},
     "output_type": "execute_result"
    }
   ],
   "source": [
    "ss.t.cdf(teststatistic,9)"
   ]
  },
  {
   "cell_type": "code",
   "execution_count": 82,
   "metadata": {},
   "outputs": [
    {
     "data": {
      "text/plain": [
       "1.6672490349237888e-06"
      ]
     },
     "execution_count": 82,
     "metadata": {},
     "output_type": "execute_result"
    }
   ],
   "source": [
    "ss.t.sf(teststatistic,9)*2   #p value (two tail test - one sample)"
   ]
  },
  {
   "cell_type": "code",
   "execution_count": null,
   "metadata": {},
   "outputs": [],
   "source": [
    "#reject null hypothesis"
   ]
  },
  {
   "cell_type": "markdown",
   "metadata": {},
   "source": [
    "5)The average mortgage rates in a city A is 8.43 percent. However it is seen in the random sample of 11 banks that the mean rate is 8.61 with a standard deviation of 0.33 percent. At 2 percent significance level can we conclude that mortgage rates are more than 8.43%?\n",
    "\n",
    "#H0:the average mortage rate is 8.43%\n",
    "\n",
    "#Hathe average mortage rate is more than 8.43%"
   ]
  },
  {
   "cell_type": "code",
   "execution_count": 77,
   "metadata": {},
   "outputs": [
    {
     "data": {
      "text/plain": [
       "1.8090680674665787"
      ]
     },
     "execution_count": 77,
     "metadata": {},
     "output_type": "execute_result"
    }
   ],
   "source": [
    "mean=8.43\n",
    "N=11\n",
    "s=0.33\n",
    "X=8.61\n",
    "#df=25-1=24\n",
    "teststatistic=(X-mean)/(s/np.sqrt(N))\n",
    "teststatistic"
   ]
  },
  {
   "cell_type": "code",
   "execution_count": 101,
   "metadata": {},
   "outputs": [
    {
     "data": {
      "text/plain": [
       "0.016477081159621876"
      ]
     },
     "execution_count": 101,
     "metadata": {},
     "output_type": "execute_result"
    }
   ],
   "source": [
    "pvalue=1-ss.t.cdf(teststatistic,10)\n",
    "pvalue\n",
    "#significance level is 0.02\n",
    "#p value is greater than significance level\n",
    "# accept null hypothesis.hence the average mortage rate is 8.43%"
   ]
  },
  {
   "cell_type": "markdown",
   "metadata": {},
   "source": [
    "6)If the population the average IQ is 100. A team of scientists wants to test a new medication to see if it has either a positive of negative effect on intelligence, or no effect at all. A sample of 30 participants who have taken the medication has a mean of 140 with a standard deviation of 20. Did the medication affect intelligence?\n"
   ]
  },
  {
   "cell_type": "code",
   "execution_count": 80,
   "metadata": {},
   "outputs": [
    {
     "data": {
      "text/plain": [
       "10.954451150103322"
      ]
     },
     "execution_count": 80,
     "metadata": {},
     "output_type": "execute_result"
    }
   ],
   "source": [
    "mean=100\n",
    "N=30\n",
    "s=20\n",
    "X=140\n",
    "#df=30-1=29\n",
    "teststatistic=(X-mean)/(s/np.sqrt(N))\n",
    "teststatistic"
   ]
  },
  {
   "cell_type": "code",
   "execution_count": 81,
   "metadata": {},
   "outputs": [
    {
     "data": {
      "text/plain": [
       "0.9999999999959894"
      ]
     },
     "execution_count": 81,
     "metadata": {},
     "output_type": "execute_result"
    }
   ],
   "source": [
    "ss.t.cdf(teststatistic,29)"
   ]
  },
  {
   "cell_type": "code",
   "execution_count": 84,
   "metadata": {},
   "outputs": [
    {
     "data": {
      "text/plain": [
       "8.02128714022661e-12"
      ]
     },
     "execution_count": 84,
     "metadata": {},
     "output_type": "execute_result"
    }
   ],
   "source": [
    "#two tailed test\n",
    "ss.t.sf(teststatistic,29)*2\n",
    "# p value is less than the significance level\n",
    "# reject null hypothesis.medication affect intelligence"
   ]
  },
  {
   "cell_type": "markdown",
   "metadata": {},
   "source": [
    "7)At a traffic signal there are 3 cars arriving in a min. A random sample of 1500mins is taken and 7500 cars were observed arriving at the signal. Has the num of cars arriving at the signal increased at 5% significance level?"
   ]
  },
  {
   "cell_type": "code",
   "execution_count": 102,
   "metadata": {},
   "outputs": [
    {
     "data": {
      "text/plain": [
       "0.08391794203130343"
      ]
     },
     "execution_count": 102,
     "metadata": {},
     "output_type": "execute_result"
    }
   ],
   "source": [
    "#H0:the car arriavl rate is 3 per minute\n",
    "#Ha:the car arriavl rate is more than 3 per minute\n",
    "#poisson distribution\n",
    "popmean=3\n",
    "#samplemean=7500/1500=5\n",
    "p=1-ss.poisson.cdf(7500/1500,3)\n",
    "p"
   ]
  },
  {
   "cell_type": "code",
   "execution_count": 103,
   "metadata": {},
   "outputs": [],
   "source": [
    "#significnce level=0.05\n",
    "#accept null hypothesis"
   ]
  },
  {
   "cell_type": "markdown",
   "metadata": {},
   "source": [
    "8) the mean and varience of a binomial variate are 12 and 8 respectively.choose n and p from the following\n",
    "a)63,1/3\n",
    "b)36,1/2\n",
    "c)36,1/3\n",
    "d)64,1/3\n"
   ]
  },
  {
   "cell_type": "code",
   "execution_count": null,
   "metadata": {},
   "outputs": [],
   "source": [
    "#Solution:\n",
    "#np=12;npq=8;q=1-p\n",
    "a)63*1/3=21\n",
    "b)36*1/2=18\n",
    "c)36*1/3=12\n",
    "npq=np(1-q)\n",
    "8=36*(1/3)*(2/3)=8\n",
    "\n",
    "ans:c"
   ]
  },
  {
   "cell_type": "code",
   "execution_count": null,
   "metadata": {},
   "outputs": [],
   "source": []
  },
  {
   "cell_type": "code",
   "execution_count": null,
   "metadata": {},
   "outputs": [],
   "source": []
  },
  {
   "cell_type": "code",
   "execution_count": null,
   "metadata": {},
   "outputs": [],
   "source": []
  },
  {
   "cell_type": "code",
   "execution_count": null,
   "metadata": {},
   "outputs": [],
   "source": []
  },
  {
   "cell_type": "code",
   "execution_count": null,
   "metadata": {},
   "outputs": [],
   "source": []
  },
  {
   "cell_type": "code",
   "execution_count": null,
   "metadata": {},
   "outputs": [],
   "source": []
  },
  {
   "cell_type": "code",
   "execution_count": null,
   "metadata": {},
   "outputs": [],
   "source": []
  },
  {
   "cell_type": "code",
   "execution_count": null,
   "metadata": {},
   "outputs": [],
   "source": []
  },
  {
   "cell_type": "code",
   "execution_count": null,
   "metadata": {},
   "outputs": [],
   "source": []
  },
  {
   "cell_type": "code",
   "execution_count": null,
   "metadata": {},
   "outputs": [],
   "source": []
  },
  {
   "cell_type": "code",
   "execution_count": null,
   "metadata": {},
   "outputs": [],
   "source": []
  },
  {
   "cell_type": "code",
   "execution_count": null,
   "metadata": {},
   "outputs": [],
   "source": []
  },
  {
   "cell_type": "code",
   "execution_count": null,
   "metadata": {},
   "outputs": [],
   "source": []
  },
  {
   "cell_type": "code",
   "execution_count": null,
   "metadata": {},
   "outputs": [],
   "source": []
  },
  {
   "cell_type": "code",
   "execution_count": null,
   "metadata": {},
   "outputs": [],
   "source": []
  }
 ],
 "metadata": {
  "kernelspec": {
   "display_name": "Python 3",
   "language": "python",
   "name": "python3"
  },
  "language_info": {
   "codemirror_mode": {
    "name": "ipython",
    "version": 3
   },
   "file_extension": ".py",
   "mimetype": "text/x-python",
   "name": "python",
   "nbconvert_exporter": "python",
   "pygments_lexer": "ipython3",
   "version": "3.7.4"
  }
 },
 "nbformat": 4,
 "nbformat_minor": 2
}
