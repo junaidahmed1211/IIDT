{
 "cells": [
  {
   "cell_type": "code",
   "execution_count": 1,
   "metadata": {},
   "outputs": [
    {
     "name": "stdout",
     "output_type": "stream",
     "text": [
      "Hello world\n"
     ]
    }
   ],
   "source": [
    "x=\"Hello world\"\n",
    "print(x)"
   ]
  },
  {
   "cell_type": "code",
   "execution_count": 2,
   "metadata": {},
   "outputs": [],
   "source": [
    "import re"
   ]
  },
  {
   "cell_type": "code",
   "execution_count": 4,
   "metadata": {},
   "outputs": [
    {
     "name": "stdout",
     "output_type": "stream",
     "text": [
      "['4', '45', '87', '4']\n"
     ]
    }
   ],
   "source": [
    "x='hfchdjs 34 jefh 45 sdvjjksjdvks 9 ewjf 87 esdvh 3 fs 14 jdjfas'\n",
    "y=re.findall('[4-8]+',x)\n",
    "print(y)"
   ]
  },
  {
   "cell_type": "code",
   "execution_count": 9,
   "metadata": {},
   "outputs": [
    {
     "name": "stdout",
     "output_type": "stream",
     "text": [
      "461403.0\n"
     ]
    }
   ],
   "source": [
    "import re\n",
    "\n",
    "#Extracting Digits and Summing them\n",
    "hand = open(\"H://Actual data.txt\")\n",
    "numlist = []\n",
    "\n",
    "for line in hand:\n",
    "    line = line.rstrip()\n",
    "    extract = re.findall(\"([0-9]+)\", line)\n",
    "\n",
    "    if len(extract) < 1 : continue\n",
    "\n",
    "    for i in range(len(extract)):\n",
    "        num = float(extract[i])\n",
    "        numlist.append(num)\n",
    "\n",
    "print(sum(numlist))"
   ]
  },
  {
   "cell_type": "code",
   "execution_count": null,
   "metadata": {},
   "outputs": [],
   "source": []
  },
  {
   "cell_type": "code",
   "execution_count": null,
   "metadata": {},
   "outputs": [],
   "source": []
  },
  {
   "cell_type": "code",
   "execution_count": null,
   "metadata": {},
   "outputs": [],
   "source": []
  },
  {
   "cell_type": "code",
   "execution_count": 2,
   "metadata": {},
   "outputs": [
    {
     "name": "stdout",
     "output_type": "stream",
     "text": [
      "what is your name:junaid ahmed\n",
      "welcome junaid ahmed\n"
     ]
    }
   ],
   "source": [
    "x=input(\"what is your name:\")\n",
    "print(\"welcome\",x)"
   ]
  }
 ],
 "metadata": {
  "kernelspec": {
   "display_name": "Python 3",
   "language": "python",
   "name": "python3"
  },
  "language_info": {
   "codemirror_mode": {
    "name": "ipython",
    "version": 3
   },
   "file_extension": ".py",
   "mimetype": "text/x-python",
   "name": "python",
   "nbconvert_exporter": "python",
   "pygments_lexer": "ipython3",
   "version": "3.7.4"
  }
 },
 "nbformat": 4,
 "nbformat_minor": 2
}
