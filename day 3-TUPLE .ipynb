{
 "cells": [
  {
   "cell_type": "markdown",
   "metadata": {},
   "source": [
    "# TUPLE\n",
    "    "
   ]
  },
  {
   "cell_type": "code",
   "execution_count": null,
   "metadata": {},
   "outputs": [],
   "source": [
    "#tuple is sequence of items,similsr to lists\n",
    "    #tuple is denoted by ()\n",
    "    #the value stored in the tuple can be of any type and they are indexed using intergers\n",
    "    #they are immutable , literable\n",
    "    #they can be made as keys in dictionaries"
   ]
  },
  {
   "cell_type": "code",
   "execution_count": 2,
   "metadata": {},
   "outputs": [
    {
     "name": "stdout",
     "output_type": "stream",
     "text": [
      "()\n",
      "()\n",
      "<class 'tuple'>\n",
      "<class 'tuple'>\n"
     ]
    }
   ],
   "source": [
    "#CREATE EMPTY TUPLE\n",
    "t1=()    #or\n",
    "t2=tuple()\n",
    "print(t1)\n",
    "print(t2)\n",
    "print(type(t1))\n",
    "print(type(t2))"
   ]
  },
  {
   "cell_type": "code",
   "execution_count": 3,
   "metadata": {},
   "outputs": [
    {
     "data": {
      "text/plain": [
       "(3, 2, 4)"
      ]
     },
     "execution_count": 3,
     "metadata": {},
     "output_type": "execute_result"
    }
   ],
   "source": [
    "t3=(3,2,4)\n",
    "t3"
   ]
  },
  {
   "cell_type": "code",
   "execution_count": 4,
   "metadata": {},
   "outputs": [
    {
     "name": "stdout",
     "output_type": "stream",
     "text": [
      "['__add__', '__class__', '__contains__', '__delattr__', '__dir__', '__doc__', '__eq__', '__format__', '__ge__', '__getattribute__', '__getitem__', '__getnewargs__', '__gt__', '__hash__', '__init__', '__init_subclass__', '__iter__', '__le__', '__len__', '__lt__', '__mul__', '__ne__', '__new__', '__reduce__', '__reduce_ex__', '__repr__', '__rmul__', '__setattr__', '__sizeof__', '__str__', '__subclasshook__', 'count', 'index']\n"
     ]
    }
   ],
   "source": [
    "print(dir(t3))"
   ]
  },
  {
   "cell_type": "code",
   "execution_count": 5,
   "metadata": {},
   "outputs": [
    {
     "data": {
      "text/plain": [
       "(1, 21, 3, 'hi', 78)"
      ]
     },
     "execution_count": 5,
     "metadata": {},
     "output_type": "execute_result"
    }
   ],
   "source": [
    "j=(1,21,3,\"hi\",78)\n",
    "j"
   ]
  },
  {
   "cell_type": "code",
   "execution_count": 9,
   "metadata": {},
   "outputs": [
    {
     "name": "stdout",
     "output_type": "stream",
     "text": [
      "hi\n",
      "(3, 'hi', 78)\n"
     ]
    }
   ],
   "source": [
    "#indexing\n",
    "#extract \"hi\"\n",
    "#extract the range of items like position 3 to 5\n",
    "print(j[3])\n",
    "print(j[2:])"
   ]
  },
  {
   "cell_type": "code",
   "execution_count": 1,
   "metadata": {},
   "outputs": [
    {
     "data": {
      "text/plain": [
       "(5, 6, 'wel', [2, 3, 7], ['horse', 'pig'])"
      ]
     },
     "execution_count": 1,
     "metadata": {},
     "output_type": "execute_result"
    }
   ],
   "source": [
    "s=(5,6,\"wel\",[2,3,7],[\"horse\",\"pig\"])\n",
    "s"
   ]
  },
  {
   "cell_type": "code",
   "execution_count": 11,
   "metadata": {},
   "outputs": [
    {
     "name": "stdout",
     "output_type": "stream",
     "text": [
      "horse\n",
      "i\n",
      "7\n"
     ]
    }
   ],
   "source": [
    "#extract \"horse\" from tuple s\n",
    "#extract 'i'\n",
    "#extract 7\n",
    "print(s[4][0])\n",
    "print(s[4][1][1])\n",
    "print(s[3][2])"
   ]
  },
  {
   "cell_type": "code",
   "execution_count": 3,
   "metadata": {},
   "outputs": [
    {
     "name": "stdout",
     "output_type": "stream",
     "text": [
      "5\n",
      "6\n",
      "wel\n",
      "[2, 3, 7]\n",
      "['horse', 'pig']\n"
     ]
    }
   ],
   "source": [
    " # for loop\n",
    "for i in s:\n",
    "        print(i)"
   ]
  },
  {
   "cell_type": "code",
   "execution_count": 15,
   "metadata": {},
   "outputs": [
    {
     "data": {
      "text/plain": [
       "[2, 3, 7]"
      ]
     },
     "execution_count": 15,
     "metadata": {},
     "output_type": "execute_result"
    }
   ],
   "source": [
    "s[-2]"
   ]
  },
  {
   "cell_type": "code",
   "execution_count": 19,
   "metadata": {},
   "outputs": [
    {
     "name": "stdout",
     "output_type": "stream",
     "text": [
      "x is : 20 y is : 10\n"
     ]
    }
   ],
   "source": [
    "x=10\n",
    "y=20\n",
    "\n",
    "#swapping numbers\n",
    "+x,y=y,x\n",
    "print(\"x is :\",x,\"y is :\",y)"
   ]
  },
  {
   "cell_type": "code",
   "execution_count": null,
   "metadata": {
    "collapsed": true
   },
   "outputs": [],
   "source": []
  },
  {
   "cell_type": "markdown",
   "metadata": {},
   "source": [
    "# DICTIONARY"
   ]
  },
  {
   "cell_type": "code",
   "execution_count": null,
   "metadata": {
    "collapsed": true
   },
   "outputs": [],
   "source": [
    "#DICT[key:value,{}]\n",
    "#a collection of unordered set of keys:value pairs\n",
    "#keys are unique in one dictionary\n",
    "#the values in dictionary are accessed using keys,not indices\n",
    "#a key in dictionary can be any immutable type like strings,numbers and tuples"
   ]
  },
  {
   "cell_type": "code",
   "execution_count": 1,
   "metadata": {},
   "outputs": [
    {
     "name": "stdout",
     "output_type": "stream",
     "text": [
      "{}\n",
      "{}\n",
      "<class 'dict'>\n",
      "<class 'dict'>\n"
     ]
    }
   ],
   "source": [
    "#creating empty dictionary\n",
    "d={}      #empty list:[] or list(),empty tuple:() ortuple()\n",
    "print(d)\n",
    "\n",
    "d1=dict()\n",
    "print(d1)\n",
    "\n",
    "print(type(d))\n",
    "print(type(d1))"
   ]
  },
  {
   "cell_type": "code",
   "execution_count": 3,
   "metadata": {},
   "outputs": [
    {
     "data": {
      "text/plain": [
       "{'first': 4, 'secound': 9}"
      ]
     },
     "execution_count": 3,
     "metadata": {},
     "output_type": "execute_result"
    }
   ],
   "source": [
    "d3={\"first\":4,\"secound\":9}\n",
    "d3"
   ]
  },
  {
   "cell_type": "code",
   "execution_count": 27,
   "metadata": {},
   "outputs": [
    {
     "data": {
      "text/plain": [
       "{'first': [1, 2, 3],\n",
       " 'fourth': 'jigsaw',\n",
       " 'second': ['a', 'b'],\n",
       " 'third': (5, 6, 7)}"
      ]
     },
     "execution_count": 27,
     "metadata": {},
     "output_type": "execute_result"
    }
   ],
   "source": [
    "d4={'first':[1,2,3],'second':[\"a\",\"b\"],\"third\":(5,6,7),\"fourth\":'jigsaw'}\n",
    "(d4)"
   ]
  },
  {
   "cell_type": "code",
   "execution_count": 31,
   "metadata": {},
   "outputs": [
    {
     "name": "stdout",
     "output_type": "stream",
     "text": [
      "[1, 2, 3]\n",
      "b\n",
      "w\n"
     ]
    }
   ],
   "source": [
    "#extract [1,2,3] from d4\n",
    "print(d4[\"first\"])\n",
    "#extract \"b\"\n",
    "print(d4[\"second\"][1])\n",
    "#extract \"w\"\n",
    "print(d4[\"fourth\"][5])\n",
    "\n"
   ]
  },
  {
   "cell_type": "code",
   "execution_count": 38,
   "metadata": {},
   "outputs": [
    {
     "name": "stdout",
     "output_type": "stream",
     "text": [
      "{'one': {'e1_one': [3, 4, 6, {'e1_two': 'z'}]}}\n",
      "{'e1_one': [3, 4, 6, {'e1_two': 'z'}]}\n",
      "z\n"
     ]
    }
   ],
   "source": [
    "#extract \"z\"\n",
    "d1={\"one\":{\"e1_one\":[3,4,6,{\"e1_two\":\"z\"}]}}\n",
    "print(d1)\n",
    "print(d1[\"one\"])\n",
    "print(d1[\"one\"][\"e1_one\"][3][\"e1_two\"])"
   ]
  },
  {
   "cell_type": "code",
   "execution_count": 48,
   "metadata": {},
   "outputs": [
    {
     "name": "stdout",
     "output_type": "stream",
     "text": [
      "{'new': [9, 4, 5, ['split', 'merge', 10]], 'old': ('se', 17, 0), 'mid': {'junaid': 2, 'shivani': 3, 'last': 'poor'}}\n",
      "merge\n",
      "3\n"
     ]
    }
   ],
   "source": [
    "### extract \"merge\"\n",
    "#extract 3\n",
    "x={\"new\":[9,4,5,[\"split\",\"merge\",10]],\"old\":(\"se\",17,0),\"mid\":{\"junaid\":2,\"shivani\":3,\"last\":\"poor\"}}\n",
    "print(x)\n",
    "print(x[\"new\"][3][1])\n",
    "print(x[\"mid\"][\"shivani\"])"
   ]
  },
  {
   "cell_type": "markdown",
   "metadata": {},
   "source": []
  },
  {
   "cell_type": "code",
   "execution_count": null,
   "metadata": {
    "collapsed": true
   },
   "outputs": [],
   "source": []
  },
  {
   "cell_type": "code",
   "execution_count": null,
   "metadata": {
    "collapsed": true
   },
   "outputs": [],
   "source": []
  },
  {
   "cell_type": "code",
   "execution_count": null,
   "metadata": {
    "collapsed": true
   },
   "outputs": [],
   "source": []
  },
  {
   "cell_type": "code",
   "execution_count": null,
   "metadata": {
    "collapsed": true
   },
   "outputs": [],
   "source": []
  },
  {
   "cell_type": "code",
   "execution_count": null,
   "metadata": {
    "collapsed": true
   },
   "outputs": [],
   "source": []
  },
  {
   "cell_type": "code",
   "execution_count": null,
   "metadata": {
    "collapsed": true
   },
   "outputs": [],
   "source": []
  },
  {
   "cell_type": "code",
   "execution_count": null,
   "metadata": {
    "collapsed": true
   },
   "outputs": [],
   "source": []
  }
 ],
 "metadata": {
  "kernelspec": {
   "display_name": "Python 3",
   "language": "python",
   "name": "python3"
  },
  "language_info": {
   "codemirror_mode": {
    "name": "ipython",
    "version": 3
   },
   "file_extension": ".py",
   "mimetype": "text/x-python",
   "name": "python",
   "nbconvert_exporter": "python",
   "pygments_lexer": "ipython3",
   "version": "3.7.4"
  }
 },
 "nbformat": 4,
 "nbformat_minor": 2
}
