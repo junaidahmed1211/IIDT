{
 "cells": [
  {
   "cell_type": "markdown",
   "metadata": {},
   "source": [
    "# Python Libraries\n",
    "\n",
    "Numpy\n",
    "\n",
    "Pandas\n",
    "\n",
    "Matplotlib\n",
    "\n",
    "Seaborn\n",
    "\n",
    "scikit-learn"
   ]
  },
  {
   "cell_type": "code",
   "execution_count": 1,
   "metadata": {},
   "outputs": [
    {
     "ename": "SyntaxError",
     "evalue": "invalid syntax (<ipython-input-1-4cfa84633732>, line 1)",
     "output_type": "error",
     "traceback": [
      "\u001b[1;36m  File \u001b[1;32m\"<ipython-input-1-4cfa84633732>\"\u001b[1;36m, line \u001b[1;32m1\u001b[0m\n\u001b[1;33m    Numpy: allows to perform advanced mathematical and statistical operations on the object.\u001b[0m\n\u001b[1;37m                   ^\u001b[0m\n\u001b[1;31mSyntaxError\u001b[0m\u001b[1;31m:\u001b[0m invalid syntax\n"
     ]
    }
   ],
   "source": [
    "Numpy: allows to perform advanced mathematical and statistical operations on the object.\n",
    "       It provides vectorization of mathematical operations on arrays and matrices.\n",
    "        Pandas built on numpy.\n",
    "        \n",
    "Maplotlib: allows to perform Visualizations.(plotting library in Python)\n",
    "\n",
    "scikit-learn: It provides Machine learning algorithms: classification, regression, clustering, model validation\n",
    "    "
   ]
  },
  {
   "cell_type": "markdown",
   "metadata": {},
   "source": [
    "#To install packages\n",
    "\n",
    "pip install package name\n",
    "\n",
    "conda install package name"
   ]
  },
  {
   "cell_type": "code",
   "execution_count": null,
   "metadata": {
    "collapsed": true
   },
   "outputs": [],
   "source": [
    "#Numpy:\n",
    "#Creating Numpy Arrays \n",
    "\n",
    "import numpy as np\n",
    "array_1d=np.array([11,22,33,44,55])# 1 dimensional array\n",
    "array_2d=np.array ([[10,20,30],[40,50,90]]) # 2 dimensional array\n",
    "print(array_1d)\n",
    "print(array_2d)"
   ]
  },
  {
   "cell_type": "code",
   "execution_count": null,
   "metadata": {
    "collapsed": true
   },
   "outputs": [],
   "source": [
    "#Find Shape of the array\n",
    "array_2d.shape[1]"
   ]
  },
  {
   "cell_type": "code",
   "execution_count": null,
   "metadata": {
    "collapsed": true
   },
   "outputs": [],
   "source": [
    "array_1d.shape"
   ]
  },
  {
   "cell_type": "code",
   "execution_count": null,
   "metadata": {
    "collapsed": true
   },
   "outputs": [],
   "source": [
    "#Number of Dimensions\n",
    "print(array_2d.ndim)\n",
    "print(array_1d.ndim)"
   ]
  },
  {
   "cell_type": "code",
   "execution_count": null,
   "metadata": {
    "collapsed": true
   },
   "outputs": [],
   "source": [
    "##creating numpy array using numpy.arange\n",
    "\n",
    "array_1=np.arange(5)\n",
    "array_1"
   ]
  },
  {
   "cell_type": "code",
   "execution_count": 2,
   "metadata": {},
   "outputs": [
    {
     "ename": "NameError",
     "evalue": "name 'np' is not defined",
     "output_type": "error",
     "traceback": [
      "\u001b[1;31m---------------------------------------------------------------------------\u001b[0m",
      "\u001b[1;31mNameError\u001b[0m                                 Traceback (most recent call last)",
      "\u001b[1;32m<ipython-input-2-9c306b8b59ef>\u001b[0m in \u001b[0;36m<module>\u001b[1;34m\u001b[0m\n\u001b[0;32m      1\u001b[0m \u001b[1;31m#creating numpy array using numpy.arange\u001b[0m\u001b[1;33m\u001b[0m\u001b[1;33m\u001b[0m\u001b[1;33m\u001b[0m\u001b[0m\n\u001b[0;32m      2\u001b[0m \u001b[1;33m\u001b[0m\u001b[0m\n\u001b[1;32m----> 3\u001b[1;33m \u001b[0marray_2\u001b[0m\u001b[1;33m=\u001b[0m\u001b[0mnp\u001b[0m\u001b[1;33m.\u001b[0m\u001b[0marange\u001b[0m\u001b[1;33m(\u001b[0m\u001b[1;36m2\u001b[0m\u001b[1;33m,\u001b[0m\u001b[1;36m10\u001b[0m\u001b[1;33m,\u001b[0m\u001b[1;36m2\u001b[0m\u001b[1;33m)\u001b[0m \u001b[1;31m##(start,end,step)\u001b[0m\u001b[1;33m\u001b[0m\u001b[1;33m\u001b[0m\u001b[0m\n\u001b[0m\u001b[0;32m      4\u001b[0m \u001b[0marray_2\u001b[0m\u001b[1;33m\u001b[0m\u001b[1;33m\u001b[0m\u001b[0m\n",
      "\u001b[1;31mNameError\u001b[0m: name 'np' is not defined"
     ]
    }
   ],
   "source": [
    "#creating numpy array using numpy.arange\n",
    "\n",
    "array_2=np.arange(2,10,2) ##(start,end,step)\n",
    "array_2"
   ]
  },
  {
   "cell_type": "code",
   "execution_count": null,
   "metadata": {
    "collapsed": true
   },
   "outputs": [],
   "source": [
    "##creating numpy array using numpy.linspace\n",
    "#generates linear evenly spaced elements between the start and the end\n",
    "\n",
    "array_3=np.linspace(0,0.75,4)\n",
    "array_3"
   ]
  },
  {
   "cell_type": "code",
   "execution_count": null,
   "metadata": {
    "collapsed": true
   },
   "outputs": [],
   "source": [
    "##Numpy array creation via various functions\n",
    "\n",
    "##numpy.zeros, numpy.ones, numpy.eye, nrandom.rand, numpy.random.randn, and numpy.empty.\n",
    "\n",
    "##numpy.ones\n",
    "# Produces 3x2 array of 1's.\n",
    "array_4=np.ones((2,3))\n",
    "array_4"
   ]
  },
  {
   "cell_type": "code",
   "execution_count": null,
   "metadata": {
    "collapsed": true
   },
   "outputs": [],
   "source": [
    "##numpy.zeros\n",
    "# Produce 3X4 array of zeros.\n",
    "array_5=np.zeros((2,3))\n",
    "array_5"
   ]
  },
  {
   "cell_type": "code",
   "execution_count": null,
   "metadata": {
    "collapsed": true
   },
   "outputs": [],
   "source": [
    "print(array_4+array_5)\n",
    "print(array_4 *array_5)"
   ]
  },
  {
   "cell_type": "code",
   "execution_count": null,
   "metadata": {
    "collapsed": true
   },
   "outputs": [],
   "source": [
    "#Day 4"
   ]
  },
  {
   "cell_type": "code",
   "execution_count": null,
   "metadata": {
    "collapsed": true
   },
   "outputs": [],
   "source": [
    "arra=np.eye(3)\n",
    "arra"
   ]
  },
  {
   "cell_type": "code",
   "execution_count": null,
   "metadata": {
    "collapsed": true
   },
   "outputs": [],
   "source": [
    "##numpy.random.rand\n",
    "##Using the rand, randn functions\n",
    "#rand(m) produces uniformly distributed random numbers with range 0 to m\n",
    "\n",
    "np.random.seed(200)   # Set seed\n",
    "array_8=np.random.rand(4)\n",
    "array_8"
   ]
  },
  {
   "cell_type": "code",
   "execution_count": null,
   "metadata": {
    "collapsed": true
   },
   "outputs": [],
   "source": [
    "arra2=np.diag((2,3,6))\n",
    "arra2"
   ]
  },
  {
   "cell_type": "code",
   "execution_count": null,
   "metadata": {
    "collapsed": true
   },
   "outputs": [],
   "source": [
    "##numpy.empty\n",
    "##creating uninitialised array\n",
    "#numpy.empty(shape)\n",
    "import numpy as np\n",
    "array_10=np.empty((4,3))\n",
    "array_10"
   ]
  },
  {
   "cell_type": "code",
   "execution_count": null,
   "metadata": {
    "collapsed": true
   },
   "outputs": [],
   "source": [
    "arr_11=np.array([10,11,12,13])\n",
    "print(arr_11.dtype)\n",
    "print(type(arr_11))"
   ]
  },
  {
   "cell_type": "code",
   "execution_count": null,
   "metadata": {
    "collapsed": true
   },
   "outputs": [],
   "source": [
    "##default dtype in NumPy is float.\n",
    "#change the data type \n",
    "arr_11=arr_11.astype(float)\n",
    "arr_11.dtype"
   ]
  },
  {
   "cell_type": "code",
   "execution_count": null,
   "metadata": {
    "collapsed": true
   },
   "outputs": [],
   "source": [
    "##NumPy indexing and slicing\n",
    "\n",
    "##Array indices in NumPy start at 0\n",
    "\n",
    "#import numpy as np\n",
    "arr_1 = np.arange(6)\n",
    "\n",
    "#print entire array\n",
    "arr_1"
   ]
  },
  {
   "cell_type": "code",
   "execution_count": null,
   "metadata": {
    "collapsed": true
   },
   "outputs": [],
   "source": [
    "arr_1[2]"
   ]
  },
  {
   "cell_type": "code",
   "execution_count": null,
   "metadata": {
    "collapsed": true
   },
   "outputs": [],
   "source": [
    "arr_1[:]"
   ]
  },
  {
   "cell_type": "code",
   "execution_count": null,
   "metadata": {
    "collapsed": true
   },
   "outputs": [],
   "source": [
    "arr_1[2:5]"
   ]
  },
  {
   "cell_type": "code",
   "execution_count": null,
   "metadata": {
    "collapsed": true
   },
   "outputs": [],
   "source": [
    "#last element\n",
    "arr_1[-1]"
   ]
  },
  {
   "cell_type": "code",
   "execution_count": null,
   "metadata": {
    "collapsed": true
   },
   "outputs": [],
   "source": [
    "##Modify value at arr_1[1]\n",
    "arr_1[1] = 8\n",
    "arr_1"
   ]
  },
  {
   "cell_type": "code",
   "execution_count": null,
   "metadata": {
    "collapsed": true
   },
   "outputs": [],
   "source": [
    "array_2d"
   ]
  },
  {
   "cell_type": "code",
   "execution_count": null,
   "metadata": {
    "collapsed": true
   },
   "outputs": [],
   "source": [
    "#[row,column]\n",
    "array_2d[1,2]"
   ]
  },
  {
   "cell_type": "code",
   "execution_count": null,
   "metadata": {
    "collapsed": true
   },
   "outputs": [],
   "source": [
    "array_2d[0:2]"
   ]
  },
  {
   "cell_type": "code",
   "execution_count": null,
   "metadata": {
    "collapsed": true
   },
   "outputs": [],
   "source": [
    "array_2d"
   ]
  },
  {
   "cell_type": "code",
   "execution_count": null,
   "metadata": {
    "collapsed": true
   },
   "outputs": [],
   "source": [
    "array_2d[0:2][0:1,2]"
   ]
  },
  {
   "cell_type": "code",
   "execution_count": null,
   "metadata": {
    "collapsed": true
   },
   "outputs": [],
   "source": [
    "array_2d[0:2,0:2]"
   ]
  },
  {
   "cell_type": "code",
   "execution_count": null,
   "metadata": {
    "collapsed": true
   },
   "outputs": [],
   "source": [
    "array_3=np.array ([[10,20,30],[40,50,90],[35,65,76],[90,80,70],[23,34,56]])\n",
    "array_3"
   ]
  },
  {
   "cell_type": "code",
   "execution_count": null,
   "metadata": {
    "collapsed": true
   },
   "outputs": [],
   "source": [
    "#extract the value 80\n",
    "array_3[3,1]"
   ]
  },
  {
   "cell_type": "code",
   "execution_count": null,
   "metadata": {
    "collapsed": true
   },
   "outputs": [],
   "source": [
    "#extract the 2nd position row and 1st column values\n",
    "array_3[2,1]"
   ]
  },
  {
   "cell_type": "code",
   "execution_count": null,
   "metadata": {
    "collapsed": true
   },
   "outputs": [],
   "source": [
    "#extract 2nd position column values\n",
    "array_3[:,2]"
   ]
  },
  {
   "cell_type": "markdown",
   "metadata": {},
   "source": [
    "# Introduction to Pandas\n",
    "\n",
    "Pandas is a powerful package in Python. It is used for Data cleaning and manipulating data to get summary insights from the data.\n",
    "\n",
    "Pandas is basically used to manipulate tabular data, it is ability select columns and filter rows sort data and do groupby tasks\n",
    "\n",
    "Pandas has two Data structures: Series and DataFrame"
   ]
  },
  {
   "cell_type": "markdown",
   "metadata": {},
   "source": [
    "Series: One dimensional labeled array (Capable of holding any data type). The axis labels are called index.\n",
    "    Create Series by using pandas: pandas.Series(data, index)                                                )\n",
    "DataFrame: Two dimensional array"
   ]
  },
  {
   "cell_type": "markdown",
   "metadata": {},
   "source": [
    "#To intall packages\n",
    "pip install package name\n",
    "!pip install package name (Jupyter notebook)\n",
    "conda install package name"
   ]
  },
  {
   "cell_type": "code",
   "execution_count": 2,
   "metadata": {
    "collapsed": true
   },
   "outputs": [],
   "source": [
    "import pandas as pd\n",
    "from pandas import Series,DataFrame"
   ]
  },
  {
   "cell_type": "code",
   "execution_count": null,
   "metadata": {
    "collapsed": true
   },
   "outputs": [],
   "source": [
    "#Creating a Series object\n",
    "#General syntax is:\n",
    "#s= Series(data,index)   (or)\n",
    "#s=pd.Series(data,index)"
   ]
  },
  {
   "cell_type": "code",
   "execution_count": null,
   "metadata": {
    "collapsed": true
   },
   "outputs": [],
   "source": [
    "#Series from a list\n",
    "S=Series([1,2,3,4,5])\n",
    "print(S)\n",
    "print (S[0])\n",
    "print (S[2])\n",
    "print(S.values)\n",
    "print(S.index)\n",
    "print (list(S.index))\n",
    "S[5]=6\n"
   ]
  },
  {
   "cell_type": "code",
   "execution_count": null,
   "metadata": {
    "collapsed": true
   },
   "outputs": [],
   "source": [
    "S=Series([1,2,3,4,5],index=['a','b','c','d','e'])\n",
    "print(S)\n",
    "print(S[0])\n",
    "print(S['b'])\n",
    "S.index"
   ]
  },
  {
   "cell_type": "code",
   "execution_count": null,
   "metadata": {
    "collapsed": true
   },
   "outputs": [],
   "source": [
    "print(S)"
   ]
  },
  {
   "cell_type": "code",
   "execution_count": null,
   "metadata": {
    "collapsed": true
   },
   "outputs": [],
   "source": [
    "#Adding one element to the series\n",
    "S['g']=7\n",
    "print(S)"
   ]
  },
  {
   "cell_type": "code",
   "execution_count": null,
   "metadata": {
    "collapsed": true
   },
   "outputs": [],
   "source": [
    "#add 1 to each element in 's'\n",
    "s=pd.Series([8,9,10])\n",
    "print(s)\n",
    "S=s+1\n",
    "print(type(s))\n",
    "S"
   ]
  },
  {
   "cell_type": "code",
   "execution_count": null,
   "metadata": {
    "collapsed": true
   },
   "outputs": [],
   "source": [
    "#Deleting elements from a series\n",
    "#drop(index)\n",
    "series1=s.drop(1)\n",
    "series1"
   ]
  },
  {
   "cell_type": "code",
   "execution_count": null,
   "metadata": {
    "collapsed": true
   },
   "outputs": [],
   "source": [
    "#More than one element from a series\n",
    "series2=Series([8,9,10],index=['h','i','j'])\n",
    "print(series2)\n",
    "series3=series2.drop(['i','j'])\n",
    "print(series3)"
   ]
  },
  {
   "cell_type": "code",
   "execution_count": null,
   "metadata": {
    "collapsed": true
   },
   "outputs": [],
   "source": [
    "#Series from a dictionary\n",
    "d={'a':3,'b':4}\n",
    "d1=Series(d)\n",
    "d1"
   ]
  },
  {
   "cell_type": "code",
   "execution_count": null,
   "metadata": {
    "collapsed": true
   },
   "outputs": [],
   "source": [
    "#We can make changes to a series in place also\n",
    "d1['a']=8\n",
    "d1"
   ]
  },
  {
   "cell_type": "markdown",
   "metadata": {},
   "source": [
    "# Pandas DataFrame\n",
    "\n",
    "#Creating a dataframe\n",
    "\n",
    "#From a dictionary of lists, dictionaries, series\n",
    "\n",
    "#From a list of dictionaries"
   ]
  },
  {
   "cell_type": "code",
   "execution_count": null,
   "metadata": {
    "collapsed": true
   },
   "outputs": [],
   "source": [
    "#create empty dataframe\n",
    "D=DataFrame()\n",
    "D"
   ]
  },
  {
   "cell_type": "code",
   "execution_count": null,
   "metadata": {
    "collapsed": true
   },
   "outputs": [],
   "source": [
    "D1=pd.DataFrame()\n",
    "D1"
   ]
  },
  {
   "cell_type": "code",
   "execution_count": 6,
   "metadata": {},
   "outputs": [
    {
     "name": "stdout",
     "output_type": "stream",
     "text": [
      "   Price  Sales\n",
      "0     19    600\n",
      "1     22    756\n",
      "2     13    587\n",
      "3     54    859\n",
      "4     65    990\n"
     ]
    }
   ],
   "source": [
    "#Dictionary of lists\n",
    "d={'Price':[19,22,13,54,65],'Sales':[600,756,587,859,990]}\n",
    "frame1=DataFrame(d)\n",
    "print(frame1)"
   ]
  },
  {
   "cell_type": "code",
   "execution_count": 7,
   "metadata": {},
   "outputs": [
    {
     "name": "stdout",
     "output_type": "stream",
     "text": [
      "    Price  Sales\n",
      "r1     19    600\n",
      "r2     22    756\n"
     ]
    }
   ],
   "source": [
    "#Dictionary of dictionaries\n",
    "d1={'Price':{'r1':19,'r2':22},'Sales':{'r1':600,'r2':756}}\n",
    "frame2=DataFrame(d1)\n",
    "print(frame2)"
   ]
  },
  {
   "cell_type": "code",
   "execution_count": 8,
   "metadata": {},
   "outputs": [
    {
     "name": "stdout",
     "output_type": "stream",
     "text": [
      "   Price  Sales\n",
      "0     19    600\n",
      "1     22    756\n",
      "2     13    587\n",
      "3     54    859\n",
      "4     65    990\n"
     ]
    }
   ],
   "source": [
    "#Dictionary of Series\n",
    "d2={'Price':Series([19,22,13,54,65]),'Sales':Series([600,756,587,859,990])}\n",
    "frame3=DataFrame(d2)\n",
    "print(frame3)"
   ]
  },
  {
   "cell_type": "code",
   "execution_count": 9,
   "metadata": {},
   "outputs": [
    {
     "name": "stdout",
     "output_type": "stream",
     "text": [
      "   Price  Qty  Sales\n",
      "0     19   30    600\n",
      "1     22   65    756\n"
     ]
    }
   ],
   "source": [
    "#list of Dictionaries\n",
    "list1=[{'Price':19,'Sales':600,'Qty':30},{'Price':22,'Sales':756,'Qty':65}]\n",
    "frame4=DataFrame(list1)\n",
    "print(frame4)"
   ]
  },
  {
   "cell_type": "code",
   "execution_count": 10,
   "metadata": {},
   "outputs": [
    {
     "data": {
      "text/html": [
       "<div>\n",
       "<style scoped>\n",
       "    .dataframe tbody tr th:only-of-type {\n",
       "        vertical-align: middle;\n",
       "    }\n",
       "\n",
       "    .dataframe tbody tr th {\n",
       "        vertical-align: top;\n",
       "    }\n",
       "\n",
       "    .dataframe thead th {\n",
       "        text-align: right;\n",
       "    }\n",
       "</style>\n",
       "<table border=\"1\" class=\"dataframe\">\n",
       "  <thead>\n",
       "    <tr style=\"text-align: right;\">\n",
       "      <th></th>\n",
       "      <th>Base_Price</th>\n",
       "      <th>Unit Sales</th>\n",
       "    </tr>\n",
       "  </thead>\n",
       "  <tbody>\n",
       "    <tr>\n",
       "      <th>0</th>\n",
       "      <td>19</td>\n",
       "      <td>600</td>\n",
       "    </tr>\n",
       "    <tr>\n",
       "      <th>1</th>\n",
       "      <td>22</td>\n",
       "      <td>756</td>\n",
       "    </tr>\n",
       "    <tr>\n",
       "      <th>2</th>\n",
       "      <td>13</td>\n",
       "      <td>587</td>\n",
       "    </tr>\n",
       "    <tr>\n",
       "      <th>3</th>\n",
       "      <td>54</td>\n",
       "      <td>859</td>\n",
       "    </tr>\n",
       "    <tr>\n",
       "      <th>4</th>\n",
       "      <td>65</td>\n",
       "      <td>990</td>\n",
       "    </tr>\n",
       "  </tbody>\n",
       "</table>\n",
       "</div>"
      ],
      "text/plain": [
       "   Base_Price  Unit Sales\n",
       "0          19         600\n",
       "1          22         756\n",
       "2          13         587\n",
       "3          54         859\n",
       "4          65         990"
      ]
     },
     "execution_count": 10,
     "metadata": {},
     "output_type": "execute_result"
    }
   ],
   "source": [
    "#rename(columns={'oldname1':'newname1','oldname2':'newname2'})\n",
    "frame1.rename(columns={'Price':'Base_Price','Sales':'Unit Sales'},inplace=True)\n",
    "frame1"
   ]
  },
  {
   "cell_type": "code",
   "execution_count": 11,
   "metadata": {},
   "outputs": [
    {
     "data": {
      "text/html": [
       "<div>\n",
       "<style scoped>\n",
       "    .dataframe tbody tr th:only-of-type {\n",
       "        vertical-align: middle;\n",
       "    }\n",
       "\n",
       "    .dataframe tbody tr th {\n",
       "        vertical-align: top;\n",
       "    }\n",
       "\n",
       "    .dataframe thead th {\n",
       "        text-align: right;\n",
       "    }\n",
       "</style>\n",
       "<table border=\"1\" class=\"dataframe\">\n",
       "  <thead>\n",
       "    <tr style=\"text-align: right;\">\n",
       "      <th></th>\n",
       "      <th>Base_Price</th>\n",
       "      <th>Quantity</th>\n",
       "      <th>Unit Sales</th>\n",
       "    </tr>\n",
       "  </thead>\n",
       "  <tbody>\n",
       "    <tr>\n",
       "      <th>0</th>\n",
       "      <td>19</td>\n",
       "      <td>30</td>\n",
       "      <td>600</td>\n",
       "    </tr>\n",
       "    <tr>\n",
       "      <th>1</th>\n",
       "      <td>22</td>\n",
       "      <td>65</td>\n",
       "      <td>756</td>\n",
       "    </tr>\n",
       "  </tbody>\n",
       "</table>\n",
       "</div>"
      ],
      "text/plain": [
       "   Base_Price  Quantity  Unit Sales\n",
       "0          19        30         600\n",
       "1          22        65         756"
      ]
     },
     "execution_count": 11,
     "metadata": {},
     "output_type": "execute_result"
    }
   ],
   "source": [
    "frame4.rename(columns={'Price':'Base_Price','Qty':'Quantity','Sales':'Unit Sales'})\n"
   ]
  },
  {
   "cell_type": "code",
   "execution_count": 12,
   "metadata": {},
   "outputs": [
    {
     "data": {
      "text/html": [
       "<div>\n",
       "<style scoped>\n",
       "    .dataframe tbody tr th:only-of-type {\n",
       "        vertical-align: middle;\n",
       "    }\n",
       "\n",
       "    .dataframe tbody tr th {\n",
       "        vertical-align: top;\n",
       "    }\n",
       "\n",
       "    .dataframe thead th {\n",
       "        text-align: right;\n",
       "    }\n",
       "</style>\n",
       "<table border=\"1\" class=\"dataframe\">\n",
       "  <thead>\n",
       "    <tr style=\"text-align: right;\">\n",
       "      <th></th>\n",
       "      <th>Price</th>\n",
       "      <th>Qty</th>\n",
       "      <th>Sales</th>\n",
       "    </tr>\n",
       "  </thead>\n",
       "  <tbody>\n",
       "    <tr>\n",
       "      <th>0</th>\n",
       "      <td>19</td>\n",
       "      <td>30</td>\n",
       "      <td>600</td>\n",
       "    </tr>\n",
       "    <tr>\n",
       "      <th>1</th>\n",
       "      <td>22</td>\n",
       "      <td>65</td>\n",
       "      <td>756</td>\n",
       "    </tr>\n",
       "  </tbody>\n",
       "</table>\n",
       "</div>"
      ],
      "text/plain": [
       "   Price  Qty  Sales\n",
       "0     19   30    600\n",
       "1     22   65    756"
      ]
     },
     "execution_count": 12,
     "metadata": {},
     "output_type": "execute_result"
    }
   ],
   "source": [
    "frame4"
   ]
  },
  {
   "cell_type": "markdown",
   "metadata": {},
   "source": [
    "# loc and iloc"
   ]
  },
  {
   "cell_type": "markdown",
   "metadata": {},
   "source": [
    "loc method is label-based, which means that you have to specify rows and columns based on their row and column labels.\n",
    "\n",
    "iloc is integer index based, so you have to specify rows and columns by their integer index."
   ]
  },
  {
   "cell_type": "code",
   "execution_count": 29,
   "metadata": {},
   "outputs": [
    {
     "name": "stdout",
     "output_type": "stream",
     "text": [
      "   Base_Price  Unit Sales\n",
      "0          19         600\n",
      "1          22         756\n",
      "2          13         587\n",
      "3          54         859\n",
      "4          65         990\n"
     ]
    },
    {
     "data": {
      "text/plain": [
       "Base_Price     13\n",
       "Unit Sales    587\n",
       "Name: 2, dtype: int64"
      ]
     },
     "execution_count": 29,
     "metadata": {},
     "output_type": "execute_result"
    }
   ],
   "source": [
    "#.loc  label index\n",
    "#.iloc integer index.\n",
    "\n",
    "print(frame1)\n",
    "frame1.iloc[0]\n",
    "frame1.loc[2]"
   ]
  },
  {
   "cell_type": "code",
   "execution_count": 17,
   "metadata": {},
   "outputs": [
    {
     "name": "stdout",
     "output_type": "stream",
     "text": [
      "    Price  Sales\n",
      "r1     19    600\n",
      "r2     22    756\n"
     ]
    },
    {
     "data": {
      "text/plain": [
       "Price     19\n",
       "Sales    600\n",
       "Name: r1, dtype: int64"
      ]
     },
     "execution_count": 17,
     "metadata": {},
     "output_type": "execute_result"
    }
   ],
   "source": [
    "print(frame2)\n",
    "frame2.loc['r1']"
   ]
  },
  {
   "cell_type": "code",
   "execution_count": 18,
   "metadata": {},
   "outputs": [
    {
     "data": {
      "text/plain": [
       "Base_Price     19\n",
       "Unit Sales    600\n",
       "Name: 0, dtype: int64"
      ]
     },
     "execution_count": 18,
     "metadata": {},
     "output_type": "execute_result"
    }
   ],
   "source": [
    "frame1.loc[0]"
   ]
  },
  {
   "cell_type": "code",
   "execution_count": 31,
   "metadata": {},
   "outputs": [
    {
     "data": {
      "text/plain": [
       "756"
      ]
     },
     "execution_count": 31,
     "metadata": {},
     "output_type": "execute_result"
    }
   ],
   "source": []
  },
  {
   "cell_type": "code",
   "execution_count": 19,
   "metadata": {},
   "outputs": [
    {
     "ename": "TypeError",
     "evalue": "Cannot index by location index with a non-integer key",
     "output_type": "error",
     "traceback": [
      "\u001b[1;31m---------------------------------------------------------------------------\u001b[0m",
      "\u001b[1;31mTypeError\u001b[0m                                 Traceback (most recent call last)",
      "\u001b[1;32m<ipython-input-19-25958fddc8c7>\u001b[0m in \u001b[0;36m<module>\u001b[1;34m\u001b[0m\n\u001b[1;32m----> 1\u001b[1;33m \u001b[0mframe2\u001b[0m\u001b[1;33m.\u001b[0m\u001b[0miloc\u001b[0m\u001b[1;33m[\u001b[0m\u001b[1;34m'r1'\u001b[0m\u001b[1;33m]\u001b[0m\u001b[1;33m\u001b[0m\u001b[1;33m\u001b[0m\u001b[0m\n\u001b[0m",
      "\u001b[1;32m~\\Anaconda3\\lib\\site-packages\\pandas\\core\\indexing.py\u001b[0m in \u001b[0;36m__getitem__\u001b[1;34m(self, key)\u001b[0m\n\u001b[0;32m   1498\u001b[0m \u001b[1;33m\u001b[0m\u001b[0m\n\u001b[0;32m   1499\u001b[0m             \u001b[0mmaybe_callable\u001b[0m \u001b[1;33m=\u001b[0m \u001b[0mcom\u001b[0m\u001b[1;33m.\u001b[0m\u001b[0mapply_if_callable\u001b[0m\u001b[1;33m(\u001b[0m\u001b[0mkey\u001b[0m\u001b[1;33m,\u001b[0m \u001b[0mself\u001b[0m\u001b[1;33m.\u001b[0m\u001b[0mobj\u001b[0m\u001b[1;33m)\u001b[0m\u001b[1;33m\u001b[0m\u001b[1;33m\u001b[0m\u001b[0m\n\u001b[1;32m-> 1500\u001b[1;33m             \u001b[1;32mreturn\u001b[0m \u001b[0mself\u001b[0m\u001b[1;33m.\u001b[0m\u001b[0m_getitem_axis\u001b[0m\u001b[1;33m(\u001b[0m\u001b[0mmaybe_callable\u001b[0m\u001b[1;33m,\u001b[0m \u001b[0maxis\u001b[0m\u001b[1;33m=\u001b[0m\u001b[0maxis\u001b[0m\u001b[1;33m)\u001b[0m\u001b[1;33m\u001b[0m\u001b[1;33m\u001b[0m\u001b[0m\n\u001b[0m\u001b[0;32m   1501\u001b[0m \u001b[1;33m\u001b[0m\u001b[0m\n\u001b[0;32m   1502\u001b[0m     \u001b[1;32mdef\u001b[0m \u001b[0m_is_scalar_access\u001b[0m\u001b[1;33m(\u001b[0m\u001b[0mself\u001b[0m\u001b[1;33m,\u001b[0m \u001b[0mkey\u001b[0m\u001b[1;33m)\u001b[0m\u001b[1;33m:\u001b[0m\u001b[1;33m\u001b[0m\u001b[1;33m\u001b[0m\u001b[0m\n",
      "\u001b[1;32m~\\Anaconda3\\lib\\site-packages\\pandas\\core\\indexing.py\u001b[0m in \u001b[0;36m_getitem_axis\u001b[1;34m(self, key, axis)\u001b[0m\n\u001b[0;32m   2224\u001b[0m         \u001b[1;32melse\u001b[0m\u001b[1;33m:\u001b[0m\u001b[1;33m\u001b[0m\u001b[1;33m\u001b[0m\u001b[0m\n\u001b[0;32m   2225\u001b[0m             \u001b[1;32mif\u001b[0m \u001b[1;32mnot\u001b[0m \u001b[0mis_integer\u001b[0m\u001b[1;33m(\u001b[0m\u001b[0mkey\u001b[0m\u001b[1;33m)\u001b[0m\u001b[1;33m:\u001b[0m\u001b[1;33m\u001b[0m\u001b[1;33m\u001b[0m\u001b[0m\n\u001b[1;32m-> 2226\u001b[1;33m                 raise TypeError(\"Cannot index by location index with a \"\n\u001b[0m\u001b[0;32m   2227\u001b[0m                                 \"non-integer key\")\n\u001b[0;32m   2228\u001b[0m \u001b[1;33m\u001b[0m\u001b[0m\n",
      "\u001b[1;31mTypeError\u001b[0m: Cannot index by location index with a non-integer key"
     ]
    }
   ],
   "source": [
    "frame2.iloc['r1']"
   ]
  },
  {
   "cell_type": "code",
   "execution_count": 32,
   "metadata": {},
   "outputs": [
    {
     "data": {
      "text/plain": [
       "756"
      ]
     },
     "execution_count": 32,
     "metadata": {},
     "output_type": "execute_result"
    }
   ],
   "source": [
    "#extract the value 756 from frame1\n",
    "frame1.iloc[1]['Unit Sales']"
   ]
  },
  {
   "cell_type": "code",
   "execution_count": 33,
   "metadata": {},
   "outputs": [
    {
     "data": {
      "text/plain": [
       "587"
      ]
     },
     "execution_count": 33,
     "metadata": {},
     "output_type": "execute_result"
    }
   ],
   "source": [
    "#extract 587 from frame1\n",
    "frame1.loc[2]['Unit Sales']"
   ]
  },
  {
   "cell_type": "code",
   "execution_count": 7,
   "metadata": {},
   "outputs": [
    {
     "data": {
      "text/html": [
       "<div>\n",
       "<style scoped>\n",
       "    .dataframe tbody tr th:only-of-type {\n",
       "        vertical-align: middle;\n",
       "    }\n",
       "\n",
       "    .dataframe tbody tr th {\n",
       "        vertical-align: top;\n",
       "    }\n",
       "\n",
       "    .dataframe thead th {\n",
       "        text-align: right;\n",
       "    }\n",
       "</style>\n",
       "<table border=\"1\" class=\"dataframe\">\n",
       "  <thead>\n",
       "    <tr style=\"text-align: right;\">\n",
       "      <th></th>\n",
       "      <th>col1</th>\n",
       "      <th>col2</th>\n",
       "    </tr>\n",
       "  </thead>\n",
       "  <tbody>\n",
       "    <tr>\n",
       "      <th>0</th>\n",
       "      <td>1</td>\n",
       "      <td>6</td>\n",
       "    </tr>\n",
       "    <tr>\n",
       "      <th>1</th>\n",
       "      <td>2</td>\n",
       "      <td>7</td>\n",
       "    </tr>\n",
       "    <tr>\n",
       "      <th>2</th>\n",
       "      <td>3</td>\n",
       "      <td>8</td>\n",
       "    </tr>\n",
       "  </tbody>\n",
       "</table>\n",
       "</div>"
      ],
      "text/plain": [
       "   col1  col2\n",
       "0     1     6\n",
       "1     2     7\n",
       "2     3     8"
      ]
     },
     "execution_count": 7,
     "metadata": {},
     "output_type": "execute_result"
    }
   ],
   "source": [
    "d3={'col1':Series([1,2,3]),'col2':Series([6,7,8])}\n",
    "frame3=DataFrame(d3)\n",
    "frame3"
   ]
  },
  {
   "cell_type": "code",
   "execution_count": 37,
   "metadata": {},
   "outputs": [
    {
     "data": {
      "text/html": [
       "<div>\n",
       "<style scoped>\n",
       "    .dataframe tbody tr th:only-of-type {\n",
       "        vertical-align: middle;\n",
       "    }\n",
       "\n",
       "    .dataframe tbody tr th {\n",
       "        vertical-align: top;\n",
       "    }\n",
       "\n",
       "    .dataframe thead th {\n",
       "        text-align: right;\n",
       "    }\n",
       "</style>\n",
       "<table border=\"1\" class=\"dataframe\">\n",
       "  <thead>\n",
       "    <tr style=\"text-align: right;\">\n",
       "      <th></th>\n",
       "      <th>col1</th>\n",
       "      <th>col2</th>\n",
       "    </tr>\n",
       "  </thead>\n",
       "  <tbody>\n",
       "    <tr>\n",
       "      <th>1</th>\n",
       "      <td>2</td>\n",
       "      <td>7</td>\n",
       "    </tr>\n",
       "    <tr>\n",
       "      <th>0</th>\n",
       "      <td>1</td>\n",
       "      <td>6</td>\n",
       "    </tr>\n",
       "  </tbody>\n",
       "</table>\n",
       "</div>"
      ],
      "text/plain": [
       "   col1  col2\n",
       "1     2     7\n",
       "0     1     6"
      ]
     },
     "execution_count": 37,
     "metadata": {},
     "output_type": "execute_result"
    }
   ],
   "source": [
    "#extract more than one element\n",
    "frame3.iloc[[1,0]]"
   ]
  },
  {
   "cell_type": "code",
   "execution_count": 3,
   "metadata": {
    "collapsed": true
   },
   "outputs": [],
   "source": [
    "df1=DataFrame({'price':[23,45,67],'sales':[3,6,7]},index=['a','b','c'])"
   ]
  },
  {
   "cell_type": "code",
   "execution_count": 39,
   "metadata": {},
   "outputs": [
    {
     "data": {
      "text/plain": [
       "price    23\n",
       "sales     3\n",
       "Name: a, dtype: int64"
      ]
     },
     "execution_count": 39,
     "metadata": {},
     "output_type": "execute_result"
    }
   ],
   "source": [
    "df1.loc['a']"
   ]
  },
  {
   "cell_type": "code",
   "execution_count": 40,
   "metadata": {},
   "outputs": [
    {
     "data": {
      "text/html": [
       "<div>\n",
       "<style scoped>\n",
       "    .dataframe tbody tr th:only-of-type {\n",
       "        vertical-align: middle;\n",
       "    }\n",
       "\n",
       "    .dataframe tbody tr th {\n",
       "        vertical-align: top;\n",
       "    }\n",
       "\n",
       "    .dataframe thead th {\n",
       "        text-align: right;\n",
       "    }\n",
       "</style>\n",
       "<table border=\"1\" class=\"dataframe\">\n",
       "  <thead>\n",
       "    <tr style=\"text-align: right;\">\n",
       "      <th></th>\n",
       "      <th>price</th>\n",
       "      <th>sales</th>\n",
       "    </tr>\n",
       "  </thead>\n",
       "  <tbody>\n",
       "    <tr>\n",
       "      <th>a</th>\n",
       "      <td>23</td>\n",
       "      <td>3</td>\n",
       "    </tr>\n",
       "    <tr>\n",
       "      <th>c</th>\n",
       "      <td>67</td>\n",
       "      <td>7</td>\n",
       "    </tr>\n",
       "  </tbody>\n",
       "</table>\n",
       "</div>"
      ],
      "text/plain": [
       "   price  sales\n",
       "a     23      3\n",
       "c     67      7"
      ]
     },
     "execution_count": 40,
     "metadata": {},
     "output_type": "execute_result"
    }
   ],
   "source": [
    "df1.loc[['a','c']]"
   ]
  },
  {
   "cell_type": "code",
   "execution_count": 41,
   "metadata": {},
   "outputs": [
    {
     "data": {
      "text/html": [
       "<div>\n",
       "<style scoped>\n",
       "    .dataframe tbody tr th:only-of-type {\n",
       "        vertical-align: middle;\n",
       "    }\n",
       "\n",
       "    .dataframe tbody tr th {\n",
       "        vertical-align: top;\n",
       "    }\n",
       "\n",
       "    .dataframe thead th {\n",
       "        text-align: right;\n",
       "    }\n",
       "</style>\n",
       "<table border=\"1\" class=\"dataframe\">\n",
       "  <thead>\n",
       "    <tr style=\"text-align: right;\">\n",
       "      <th></th>\n",
       "      <th>price</th>\n",
       "      <th>sales</th>\n",
       "    </tr>\n",
       "  </thead>\n",
       "  <tbody>\n",
       "    <tr>\n",
       "      <th>a</th>\n",
       "      <td>23</td>\n",
       "      <td>3</td>\n",
       "    </tr>\n",
       "    <tr>\n",
       "      <th>b</th>\n",
       "      <td>45</td>\n",
       "      <td>6</td>\n",
       "    </tr>\n",
       "  </tbody>\n",
       "</table>\n",
       "</div>"
      ],
      "text/plain": [
       "   price  sales\n",
       "a     23      3\n",
       "b     45      6"
      ]
     },
     "execution_count": 41,
     "metadata": {},
     "output_type": "execute_result"
    }
   ],
   "source": [
    "df1.iloc[[0,1]]"
   ]
  },
  {
   "cell_type": "code",
   "execution_count": 42,
   "metadata": {},
   "outputs": [
    {
     "data": {
      "text/plain": [
       "a    3\n",
       "Name: sales, dtype: int64"
      ]
     },
     "execution_count": 42,
     "metadata": {},
     "output_type": "execute_result"
    }
   ],
   "source": [
    "df1.iloc[[0]]['sales']"
   ]
  },
  {
   "cell_type": "code",
   "execution_count": 44,
   "metadata": {},
   "outputs": [
    {
     "data": {
      "text/html": [
       "<div>\n",
       "<style scoped>\n",
       "    .dataframe tbody tr th:only-of-type {\n",
       "        vertical-align: middle;\n",
       "    }\n",
       "\n",
       "    .dataframe tbody tr th {\n",
       "        vertical-align: top;\n",
       "    }\n",
       "\n",
       "    .dataframe thead th {\n",
       "        text-align: right;\n",
       "    }\n",
       "</style>\n",
       "<table border=\"1\" class=\"dataframe\">\n",
       "  <thead>\n",
       "    <tr style=\"text-align: right;\">\n",
       "      <th></th>\n",
       "      <th>sales</th>\n",
       "    </tr>\n",
       "  </thead>\n",
       "  <tbody>\n",
       "    <tr>\n",
       "      <th>a</th>\n",
       "      <td>3</td>\n",
       "    </tr>\n",
       "    <tr>\n",
       "      <th>b</th>\n",
       "      <td>6</td>\n",
       "    </tr>\n",
       "    <tr>\n",
       "      <th>c</th>\n",
       "      <td>7</td>\n",
       "    </tr>\n",
       "  </tbody>\n",
       "</table>\n",
       "</div>"
      ],
      "text/plain": [
       "   sales\n",
       "a      3\n",
       "b      6\n",
       "c      7"
      ]
     },
     "execution_count": 44,
     "metadata": {},
     "output_type": "execute_result"
    }
   ],
   "source": [
    "#all values from the sales column\n",
    "df1.iloc[:,[1]]"
   ]
  },
  {
   "cell_type": "markdown",
   "metadata": {},
   "source": [
    "# Zip function"
   ]
  },
  {
   "cell_type": "code",
   "execution_count": 73,
   "metadata": {},
   "outputs": [
    {
     "data": {
      "text/plain": [
       "[('first', 56), ('second', 7), ('third', 8), ('fourth', 9)]"
      ]
     },
     "execution_count": 73,
     "metadata": {},
     "output_type": "execute_result"
    }
   ],
   "source": [
    "list1=['first','second','third','fourth']\n",
    "list2=[56,7,8,9]\n",
    "list(zip(list1,list2))"
   ]
  },
  {
   "cell_type": "code",
   "execution_count": 74,
   "metadata": {
    "collapsed": true
   },
   "outputs": [],
   "source": [
    "zipped=list(zip(list1,list2))"
   ]
  },
  {
   "cell_type": "code",
   "execution_count": 69,
   "metadata": {
    "collapsed": true
   },
   "outputs": [],
   "source": [
    "#data=list(zipped)"
   ]
  },
  {
   "cell_type": "code",
   "execution_count": 76,
   "metadata": {
    "collapsed": true
   },
   "outputs": [],
   "source": [
    "data=pd.DataFrame(zipped,columns=['class','marks'])"
   ]
  },
  {
   "cell_type": "code",
   "execution_count": 79,
   "metadata": {},
   "outputs": [
    {
     "name": "stdout",
     "output_type": "stream",
     "text": [
      "    class  marks\n",
      "0   first     56\n",
      "1  second      7\n",
      "2   third      8\n",
      "3  fourth      9\n",
      "<class 'pandas.core.frame.DataFrame'>\n"
     ]
    }
   ],
   "source": [
    "print(data)\n",
    "print(type(data))"
   ]
  },
  {
   "cell_type": "markdown",
   "metadata": {},
   "source": [
    "#Day 5\n",
    "# Importing Data in Python\n"
   ]
  },
  {
   "cell_type": "markdown",
   "metadata": {},
   "source": [
    "#Load CSV file"
   ]
  },
  {
   "cell_type": "code",
   "execution_count": 9,
   "metadata": {
    "collapsed": true
   },
   "outputs": [],
   "source": [
    "#path of the file\n",
    "path=\"https://s3.us-east-2.amazonaws.com/datafaculty/Store.csv\""
   ]
  },
  {
   "cell_type": "code",
   "execution_count": 10,
   "metadata": {
    "collapsed": true
   },
   "outputs": [],
   "source": [
    "#reading a file\n",
    "import pandas as pd\n",
    "data=pd.read_csv(path)"
   ]
  },
  {
   "cell_type": "code",
   "execution_count": 11,
   "metadata": {},
   "outputs": [
    {
     "data": {
      "text/plain": [
       "pandas.core.frame.DataFrame"
      ]
     },
     "execution_count": 11,
     "metadata": {},
     "output_type": "execute_result"
    }
   ],
   "source": [
    "type(data)"
   ]
  },
  {
   "cell_type": "code",
   "execution_count": 13,
   "metadata": {},
   "outputs": [
    {
     "data": {
      "text/html": [
       "<div>\n",
       "<style scoped>\n",
       "    .dataframe tbody tr th:only-of-type {\n",
       "        vertical-align: middle;\n",
       "    }\n",
       "\n",
       "    .dataframe tbody tr th {\n",
       "        vertical-align: top;\n",
       "    }\n",
       "\n",
       "    .dataframe thead th {\n",
       "        text-align: right;\n",
       "    }\n",
       "</style>\n",
       "<table border=\"1\" class=\"dataframe\">\n",
       "  <thead>\n",
       "    <tr style=\"text-align: right;\">\n",
       "      <th></th>\n",
       "      <th>Unnamed: 0</th>\n",
       "      <th>Row ID</th>\n",
       "      <th>Order ID</th>\n",
       "      <th>Order Date</th>\n",
       "      <th>Ship Date</th>\n",
       "      <th>Ship Mode</th>\n",
       "      <th>Customer ID</th>\n",
       "      <th>Customer Name</th>\n",
       "      <th>Segment</th>\n",
       "      <th>Country</th>\n",
       "      <th>...</th>\n",
       "      <th>Postal Code</th>\n",
       "      <th>Region</th>\n",
       "      <th>Product ID</th>\n",
       "      <th>Category</th>\n",
       "      <th>Sub-Category</th>\n",
       "      <th>Product Name</th>\n",
       "      <th>Sales</th>\n",
       "      <th>Quantity</th>\n",
       "      <th>Discount</th>\n",
       "      <th>Profit</th>\n",
       "    </tr>\n",
       "  </thead>\n",
       "  <tbody>\n",
       "    <tr>\n",
       "      <th>0</th>\n",
       "      <td>0</td>\n",
       "      <td>1</td>\n",
       "      <td>CA-2013-152156</td>\n",
       "      <td>11/9/2013</td>\n",
       "      <td>11/12/2013</td>\n",
       "      <td>Second Class</td>\n",
       "      <td>CG-12520</td>\n",
       "      <td>Claire Gute</td>\n",
       "      <td>Consumer</td>\n",
       "      <td>United States</td>\n",
       "      <td>...</td>\n",
       "      <td>42420</td>\n",
       "      <td>South</td>\n",
       "      <td>FUR-BO-10001798</td>\n",
       "      <td>Furniture</td>\n",
       "      <td>Bookcases</td>\n",
       "      <td>Bush Somerset Collection Bookcase</td>\n",
       "      <td>261.96</td>\n",
       "      <td>2</td>\n",
       "      <td>0.0</td>\n",
       "      <td>41.9136</td>\n",
       "    </tr>\n",
       "    <tr>\n",
       "      <th>1</th>\n",
       "      <td>1</td>\n",
       "      <td>2</td>\n",
       "      <td>CA-2013-152156</td>\n",
       "      <td>11/9/2013</td>\n",
       "      <td>11/12/2013</td>\n",
       "      <td>Second Class</td>\n",
       "      <td>CG-12520</td>\n",
       "      <td>Claire Gute</td>\n",
       "      <td>Consumer</td>\n",
       "      <td>United States</td>\n",
       "      <td>...</td>\n",
       "      <td>42420</td>\n",
       "      <td>South</td>\n",
       "      <td>FUR-CH-10000454</td>\n",
       "      <td>Furniture</td>\n",
       "      <td>Chairs</td>\n",
       "      <td>Hon Deluxe Fabric Upholstered Stacking Chairs,...</td>\n",
       "      <td>731.94</td>\n",
       "      <td>3</td>\n",
       "      <td>0.0</td>\n",
       "      <td>219.5820</td>\n",
       "    </tr>\n",
       "  </tbody>\n",
       "</table>\n",
       "<p>2 rows × 22 columns</p>\n",
       "</div>"
      ],
      "text/plain": [
       "   Unnamed: 0  Row ID        Order ID Order Date   Ship Date     Ship Mode  \\\n",
       "0           0       1  CA-2013-152156  11/9/2013  11/12/2013  Second Class   \n",
       "1           1       2  CA-2013-152156  11/9/2013  11/12/2013  Second Class   \n",
       "\n",
       "  Customer ID Customer Name   Segment        Country  ... Postal Code Region  \\\n",
       "0    CG-12520   Claire Gute  Consumer  United States  ...       42420  South   \n",
       "1    CG-12520   Claire Gute  Consumer  United States  ...       42420  South   \n",
       "\n",
       "        Product ID   Category Sub-Category  \\\n",
       "0  FUR-BO-10001798  Furniture    Bookcases   \n",
       "1  FUR-CH-10000454  Furniture       Chairs   \n",
       "\n",
       "                                        Product Name   Sales Quantity  \\\n",
       "0                  Bush Somerset Collection Bookcase  261.96        2   \n",
       "1  Hon Deluxe Fabric Upholstered Stacking Chairs,...  731.94        3   \n",
       "\n",
       "   Discount    Profit  \n",
       "0       0.0   41.9136  \n",
       "1       0.0  219.5820  \n",
       "\n",
       "[2 rows x 22 columns]"
      ]
     },
     "execution_count": 13,
     "metadata": {},
     "output_type": "execute_result"
    }
   ],
   "source": [
    "#view data\n",
    "data.head(2)"
   ]
  },
  {
   "cell_type": "code",
   "execution_count": 16,
   "metadata": {},
   "outputs": [
    {
     "data": {
      "text/plain": [
       "(9994, 22)"
      ]
     },
     "execution_count": 16,
     "metadata": {},
     "output_type": "execute_result"
    }
   ],
   "source": [
    "#Number of observations(Number of rows, number of cols)\n",
    "data.shape"
   ]
  },
  {
   "cell_type": "code",
   "execution_count": 19,
   "metadata": {},
   "outputs": [
    {
     "name": "stdout",
     "output_type": "stream",
     "text": [
      "9994\n",
      "22\n"
     ]
    }
   ],
   "source": [
    "#number of rows\n",
    "print(data.shape[0])\n",
    "#number of cols\n",
    "print(data.shape[1])"
   ]
  },
  {
   "cell_type": "code",
   "execution_count": 17,
   "metadata": {},
   "outputs": [
    {
     "data": {
      "text/html": [
       "<div>\n",
       "<style scoped>\n",
       "    .dataframe tbody tr th:only-of-type {\n",
       "        vertical-align: middle;\n",
       "    }\n",
       "\n",
       "    .dataframe tbody tr th {\n",
       "        vertical-align: top;\n",
       "    }\n",
       "\n",
       "    .dataframe thead th {\n",
       "        text-align: right;\n",
       "    }\n",
       "</style>\n",
       "<table border=\"1\" class=\"dataframe\">\n",
       "  <thead>\n",
       "    <tr style=\"text-align: right;\">\n",
       "      <th></th>\n",
       "      <th>Unnamed: 0</th>\n",
       "      <th>Row ID</th>\n",
       "      <th>Order ID</th>\n",
       "      <th>Order Date</th>\n",
       "      <th>Ship Date</th>\n",
       "      <th>Ship Mode</th>\n",
       "      <th>Customer ID</th>\n",
       "      <th>Customer Name</th>\n",
       "      <th>Segment</th>\n",
       "      <th>Country</th>\n",
       "      <th>...</th>\n",
       "      <th>Postal Code</th>\n",
       "      <th>Region</th>\n",
       "      <th>Product ID</th>\n",
       "      <th>Category</th>\n",
       "      <th>Sub-Category</th>\n",
       "      <th>Product Name</th>\n",
       "      <th>Sales</th>\n",
       "      <th>Quantity</th>\n",
       "      <th>Discount</th>\n",
       "      <th>Profit</th>\n",
       "    </tr>\n",
       "  </thead>\n",
       "  <tbody>\n",
       "    <tr>\n",
       "      <th>0</th>\n",
       "      <td>0</td>\n",
       "      <td>1</td>\n",
       "      <td>CA-2013-152156</td>\n",
       "      <td>11/9/2013</td>\n",
       "      <td>11/12/2013</td>\n",
       "      <td>Second Class</td>\n",
       "      <td>CG-12520</td>\n",
       "      <td>Claire Gute</td>\n",
       "      <td>Consumer</td>\n",
       "      <td>United States</td>\n",
       "      <td>...</td>\n",
       "      <td>42420</td>\n",
       "      <td>South</td>\n",
       "      <td>FUR-BO-10001798</td>\n",
       "      <td>Furniture</td>\n",
       "      <td>Bookcases</td>\n",
       "      <td>Bush Somerset Collection Bookcase</td>\n",
       "      <td>261.9600</td>\n",
       "      <td>2</td>\n",
       "      <td>0.00</td>\n",
       "      <td>41.9136</td>\n",
       "    </tr>\n",
       "    <tr>\n",
       "      <th>1</th>\n",
       "      <td>1</td>\n",
       "      <td>2</td>\n",
       "      <td>CA-2013-152156</td>\n",
       "      <td>11/9/2013</td>\n",
       "      <td>11/12/2013</td>\n",
       "      <td>Second Class</td>\n",
       "      <td>CG-12520</td>\n",
       "      <td>Claire Gute</td>\n",
       "      <td>Consumer</td>\n",
       "      <td>United States</td>\n",
       "      <td>...</td>\n",
       "      <td>42420</td>\n",
       "      <td>South</td>\n",
       "      <td>FUR-CH-10000454</td>\n",
       "      <td>Furniture</td>\n",
       "      <td>Chairs</td>\n",
       "      <td>Hon Deluxe Fabric Upholstered Stacking Chairs,...</td>\n",
       "      <td>731.9400</td>\n",
       "      <td>3</td>\n",
       "      <td>0.00</td>\n",
       "      <td>219.5820</td>\n",
       "    </tr>\n",
       "    <tr>\n",
       "      <th>2</th>\n",
       "      <td>2</td>\n",
       "      <td>3</td>\n",
       "      <td>CA-2013-138688</td>\n",
       "      <td>6/13/2013</td>\n",
       "      <td>6/17/2013</td>\n",
       "      <td>Second Class</td>\n",
       "      <td>DV-13045</td>\n",
       "      <td>Darrin Van Huff</td>\n",
       "      <td>Corporate</td>\n",
       "      <td>United States</td>\n",
       "      <td>...</td>\n",
       "      <td>90036</td>\n",
       "      <td>West</td>\n",
       "      <td>OFF-LA-10000240</td>\n",
       "      <td>Office Supplies</td>\n",
       "      <td>Labels</td>\n",
       "      <td>Self-Adhesive Address Labels for Typewriters b...</td>\n",
       "      <td>14.6200</td>\n",
       "      <td>2</td>\n",
       "      <td>0.00</td>\n",
       "      <td>6.8714</td>\n",
       "    </tr>\n",
       "    <tr>\n",
       "      <th>3</th>\n",
       "      <td>3</td>\n",
       "      <td>4</td>\n",
       "      <td>US-2012-108966</td>\n",
       "      <td>10/11/2012</td>\n",
       "      <td>10/18/2012</td>\n",
       "      <td>Standard Class</td>\n",
       "      <td>SO-20335</td>\n",
       "      <td>Sean O'Donnell</td>\n",
       "      <td>Consumer</td>\n",
       "      <td>United States</td>\n",
       "      <td>...</td>\n",
       "      <td>33311</td>\n",
       "      <td>South</td>\n",
       "      <td>FUR-TA-10000577</td>\n",
       "      <td>Furniture</td>\n",
       "      <td>Tables</td>\n",
       "      <td>Bretford CR4500 Series Slim Rectangular Table</td>\n",
       "      <td>957.5775</td>\n",
       "      <td>5</td>\n",
       "      <td>0.45</td>\n",
       "      <td>-383.0310</td>\n",
       "    </tr>\n",
       "    <tr>\n",
       "      <th>4</th>\n",
       "      <td>4</td>\n",
       "      <td>5</td>\n",
       "      <td>US-2012-108966</td>\n",
       "      <td>10/11/2012</td>\n",
       "      <td>10/18/2012</td>\n",
       "      <td>Standard Class</td>\n",
       "      <td>SO-20335</td>\n",
       "      <td>Sean O'Donnell</td>\n",
       "      <td>Consumer</td>\n",
       "      <td>United States</td>\n",
       "      <td>...</td>\n",
       "      <td>33311</td>\n",
       "      <td>South</td>\n",
       "      <td>OFF-ST-10000760</td>\n",
       "      <td>Office Supplies</td>\n",
       "      <td>Storage</td>\n",
       "      <td>Eldon Fold 'N Roll Cart System</td>\n",
       "      <td>22.3680</td>\n",
       "      <td>2</td>\n",
       "      <td>0.20</td>\n",
       "      <td>2.5164</td>\n",
       "    </tr>\n",
       "    <tr>\n",
       "      <th>5</th>\n",
       "      <td>5</td>\n",
       "      <td>6</td>\n",
       "      <td>CA-2011-115812</td>\n",
       "      <td>6/9/2011</td>\n",
       "      <td>6/14/2011</td>\n",
       "      <td>Standard Class</td>\n",
       "      <td>BH-11710</td>\n",
       "      <td>Brosina Hoffman</td>\n",
       "      <td>Consumer</td>\n",
       "      <td>United States</td>\n",
       "      <td>...</td>\n",
       "      <td>90032</td>\n",
       "      <td>West</td>\n",
       "      <td>FUR-FU-10001487</td>\n",
       "      <td>Furniture</td>\n",
       "      <td>Furnishings</td>\n",
       "      <td>Eldon Expressions Wood and Plastic Desk Access...</td>\n",
       "      <td>48.8600</td>\n",
       "      <td>7</td>\n",
       "      <td>0.00</td>\n",
       "      <td>14.1694</td>\n",
       "    </tr>\n",
       "    <tr>\n",
       "      <th>6</th>\n",
       "      <td>6</td>\n",
       "      <td>7</td>\n",
       "      <td>CA-2011-115812</td>\n",
       "      <td>6/9/2011</td>\n",
       "      <td>6/14/2011</td>\n",
       "      <td>Standard Class</td>\n",
       "      <td>BH-11710</td>\n",
       "      <td>Brosina Hoffman</td>\n",
       "      <td>Consumer</td>\n",
       "      <td>United States</td>\n",
       "      <td>...</td>\n",
       "      <td>90032</td>\n",
       "      <td>West</td>\n",
       "      <td>OFF-AR-10002833</td>\n",
       "      <td>Office Supplies</td>\n",
       "      <td>Art</td>\n",
       "      <td>Newell 322</td>\n",
       "      <td>7.2800</td>\n",
       "      <td>4</td>\n",
       "      <td>0.00</td>\n",
       "      <td>1.9656</td>\n",
       "    </tr>\n",
       "    <tr>\n",
       "      <th>7</th>\n",
       "      <td>7</td>\n",
       "      <td>8</td>\n",
       "      <td>CA-2011-115812</td>\n",
       "      <td>6/9/2011</td>\n",
       "      <td>6/14/2011</td>\n",
       "      <td>Standard Class</td>\n",
       "      <td>BH-11710</td>\n",
       "      <td>Brosina Hoffman</td>\n",
       "      <td>Consumer</td>\n",
       "      <td>United States</td>\n",
       "      <td>...</td>\n",
       "      <td>90032</td>\n",
       "      <td>West</td>\n",
       "      <td>TEC-PH-10002275</td>\n",
       "      <td>Technology</td>\n",
       "      <td>Phones</td>\n",
       "      <td>Mitel 5320 IP Phone VoIP phone</td>\n",
       "      <td>907.1520</td>\n",
       "      <td>6</td>\n",
       "      <td>0.20</td>\n",
       "      <td>90.7152</td>\n",
       "    </tr>\n",
       "    <tr>\n",
       "      <th>8</th>\n",
       "      <td>8</td>\n",
       "      <td>9</td>\n",
       "      <td>CA-2011-115812</td>\n",
       "      <td>6/9/2011</td>\n",
       "      <td>6/14/2011</td>\n",
       "      <td>Standard Class</td>\n",
       "      <td>BH-11710</td>\n",
       "      <td>Brosina Hoffman</td>\n",
       "      <td>Consumer</td>\n",
       "      <td>United States</td>\n",
       "      <td>...</td>\n",
       "      <td>90032</td>\n",
       "      <td>West</td>\n",
       "      <td>OFF-BI-10003910</td>\n",
       "      <td>Office Supplies</td>\n",
       "      <td>Binders</td>\n",
       "      <td>DXL Angle-View Binders with Locking Rings by S...</td>\n",
       "      <td>18.5040</td>\n",
       "      <td>3</td>\n",
       "      <td>0.20</td>\n",
       "      <td>5.7825</td>\n",
       "    </tr>\n",
       "    <tr>\n",
       "      <th>9</th>\n",
       "      <td>9</td>\n",
       "      <td>10</td>\n",
       "      <td>CA-2011-115812</td>\n",
       "      <td>6/9/2011</td>\n",
       "      <td>6/14/2011</td>\n",
       "      <td>Standard Class</td>\n",
       "      <td>BH-11710</td>\n",
       "      <td>Brosina Hoffman</td>\n",
       "      <td>Consumer</td>\n",
       "      <td>United States</td>\n",
       "      <td>...</td>\n",
       "      <td>90032</td>\n",
       "      <td>West</td>\n",
       "      <td>OFF-AP-10002892</td>\n",
       "      <td>Office Supplies</td>\n",
       "      <td>Appliances</td>\n",
       "      <td>Belkin F5C206VTEL 6 Outlet Surge</td>\n",
       "      <td>114.9000</td>\n",
       "      <td>5</td>\n",
       "      <td>0.00</td>\n",
       "      <td>34.4700</td>\n",
       "    </tr>\n",
       "    <tr>\n",
       "      <th>10</th>\n",
       "      <td>10</td>\n",
       "      <td>11</td>\n",
       "      <td>CA-2011-115812</td>\n",
       "      <td>6/9/2011</td>\n",
       "      <td>6/14/2011</td>\n",
       "      <td>Standard Class</td>\n",
       "      <td>BH-11710</td>\n",
       "      <td>Brosina Hoffman</td>\n",
       "      <td>Consumer</td>\n",
       "      <td>United States</td>\n",
       "      <td>...</td>\n",
       "      <td>90032</td>\n",
       "      <td>West</td>\n",
       "      <td>FUR-TA-10001539</td>\n",
       "      <td>Furniture</td>\n",
       "      <td>Tables</td>\n",
       "      <td>Chromcraft Rectangular Conference Tables</td>\n",
       "      <td>1706.1840</td>\n",
       "      <td>9</td>\n",
       "      <td>0.20</td>\n",
       "      <td>85.3092</td>\n",
       "    </tr>\n",
       "    <tr>\n",
       "      <th>11</th>\n",
       "      <td>11</td>\n",
       "      <td>12</td>\n",
       "      <td>CA-2011-115812</td>\n",
       "      <td>6/9/2011</td>\n",
       "      <td>6/14/2011</td>\n",
       "      <td>Standard Class</td>\n",
       "      <td>BH-11710</td>\n",
       "      <td>Brosina Hoffman</td>\n",
       "      <td>Consumer</td>\n",
       "      <td>United States</td>\n",
       "      <td>...</td>\n",
       "      <td>90032</td>\n",
       "      <td>West</td>\n",
       "      <td>TEC-PH-10002033</td>\n",
       "      <td>Technology</td>\n",
       "      <td>Phones</td>\n",
       "      <td>Konftel 250 Conference phone - Charcoal black</td>\n",
       "      <td>911.4240</td>\n",
       "      <td>4</td>\n",
       "      <td>0.20</td>\n",
       "      <td>68.3568</td>\n",
       "    </tr>\n",
       "    <tr>\n",
       "      <th>12</th>\n",
       "      <td>12</td>\n",
       "      <td>13</td>\n",
       "      <td>CA-2014-114412</td>\n",
       "      <td>4/16/2014</td>\n",
       "      <td>4/21/2014</td>\n",
       "      <td>Standard Class</td>\n",
       "      <td>AA-10480</td>\n",
       "      <td>Andrew Allen</td>\n",
       "      <td>Consumer</td>\n",
       "      <td>United States</td>\n",
       "      <td>...</td>\n",
       "      <td>28027</td>\n",
       "      <td>South</td>\n",
       "      <td>OFF-PA-10002365</td>\n",
       "      <td>Office Supplies</td>\n",
       "      <td>Paper</td>\n",
       "      <td>Xerox 1967</td>\n",
       "      <td>15.5520</td>\n",
       "      <td>3</td>\n",
       "      <td>0.20</td>\n",
       "      <td>5.4432</td>\n",
       "    </tr>\n",
       "    <tr>\n",
       "      <th>13</th>\n",
       "      <td>13</td>\n",
       "      <td>14</td>\n",
       "      <td>CA-2013-161389</td>\n",
       "      <td>12/6/2013</td>\n",
       "      <td>12/11/2013</td>\n",
       "      <td>Standard Class</td>\n",
       "      <td>IM-15070</td>\n",
       "      <td>Irene Maddox</td>\n",
       "      <td>Consumer</td>\n",
       "      <td>United States</td>\n",
       "      <td>...</td>\n",
       "      <td>98103</td>\n",
       "      <td>West</td>\n",
       "      <td>OFF-BI-10003656</td>\n",
       "      <td>Office Supplies</td>\n",
       "      <td>Binders</td>\n",
       "      <td>Fellowes PB200 Plastic Comb Binding Machine</td>\n",
       "      <td>407.9760</td>\n",
       "      <td>3</td>\n",
       "      <td>0.20</td>\n",
       "      <td>132.5922</td>\n",
       "    </tr>\n",
       "    <tr>\n",
       "      <th>14</th>\n",
       "      <td>14</td>\n",
       "      <td>15</td>\n",
       "      <td>US-2012-118983</td>\n",
       "      <td>11/22/2012</td>\n",
       "      <td>11/26/2012</td>\n",
       "      <td>Standard Class</td>\n",
       "      <td>HP-14815</td>\n",
       "      <td>Harold Pawlan</td>\n",
       "      <td>Home Office</td>\n",
       "      <td>United States</td>\n",
       "      <td>...</td>\n",
       "      <td>76106</td>\n",
       "      <td>Central</td>\n",
       "      <td>OFF-AP-10002311</td>\n",
       "      <td>Office Supplies</td>\n",
       "      <td>Appliances</td>\n",
       "      <td>Holmes Replacement Filter for HEPA Air Cleaner...</td>\n",
       "      <td>68.8100</td>\n",
       "      <td>5</td>\n",
       "      <td>0.80</td>\n",
       "      <td>-123.8580</td>\n",
       "    </tr>\n",
       "    <tr>\n",
       "      <th>15</th>\n",
       "      <td>15</td>\n",
       "      <td>16</td>\n",
       "      <td>US-2012-118983</td>\n",
       "      <td>11/22/2012</td>\n",
       "      <td>11/26/2012</td>\n",
       "      <td>Standard Class</td>\n",
       "      <td>HP-14815</td>\n",
       "      <td>Harold Pawlan</td>\n",
       "      <td>Home Office</td>\n",
       "      <td>United States</td>\n",
       "      <td>...</td>\n",
       "      <td>76106</td>\n",
       "      <td>Central</td>\n",
       "      <td>OFF-BI-10000756</td>\n",
       "      <td>Office Supplies</td>\n",
       "      <td>Binders</td>\n",
       "      <td>Storex DuraTech Recycled Plastic Frosted Binders</td>\n",
       "      <td>2.5440</td>\n",
       "      <td>3</td>\n",
       "      <td>0.80</td>\n",
       "      <td>-3.8160</td>\n",
       "    </tr>\n",
       "    <tr>\n",
       "      <th>16</th>\n",
       "      <td>16</td>\n",
       "      <td>17</td>\n",
       "      <td>CA-2011-105893</td>\n",
       "      <td>11/11/2011</td>\n",
       "      <td>11/18/2011</td>\n",
       "      <td>Standard Class</td>\n",
       "      <td>PK-19075</td>\n",
       "      <td>Pete Kriz</td>\n",
       "      <td>Consumer</td>\n",
       "      <td>United States</td>\n",
       "      <td>...</td>\n",
       "      <td>53711</td>\n",
       "      <td>Central</td>\n",
       "      <td>OFF-ST-10004186</td>\n",
       "      <td>Office Supplies</td>\n",
       "      <td>Storage</td>\n",
       "      <td>Stur-D-Stor Shelving, Vertical 5-Shelf: 72\"H x...</td>\n",
       "      <td>665.8800</td>\n",
       "      <td>6</td>\n",
       "      <td>0.00</td>\n",
       "      <td>13.3176</td>\n",
       "    </tr>\n",
       "    <tr>\n",
       "      <th>17</th>\n",
       "      <td>17</td>\n",
       "      <td>18</td>\n",
       "      <td>CA-2011-167164</td>\n",
       "      <td>5/13/2011</td>\n",
       "      <td>5/15/2011</td>\n",
       "      <td>Second Class</td>\n",
       "      <td>AG-10270</td>\n",
       "      <td>Alejandro Grove</td>\n",
       "      <td>Consumer</td>\n",
       "      <td>United States</td>\n",
       "      <td>...</td>\n",
       "      <td>84084</td>\n",
       "      <td>West</td>\n",
       "      <td>OFF-ST-10000107</td>\n",
       "      <td>Office Supplies</td>\n",
       "      <td>Storage</td>\n",
       "      <td>Fellowes Super Stor/Drawer</td>\n",
       "      <td>55.5000</td>\n",
       "      <td>2</td>\n",
       "      <td>0.00</td>\n",
       "      <td>9.9900</td>\n",
       "    </tr>\n",
       "    <tr>\n",
       "      <th>18</th>\n",
       "      <td>18</td>\n",
       "      <td>19</td>\n",
       "      <td>CA-2011-143336</td>\n",
       "      <td>8/27/2011</td>\n",
       "      <td>9/1/2011</td>\n",
       "      <td>Second Class</td>\n",
       "      <td>ZD-21925</td>\n",
       "      <td>Zuschuss Donatelli</td>\n",
       "      <td>Consumer</td>\n",
       "      <td>United States</td>\n",
       "      <td>...</td>\n",
       "      <td>94109</td>\n",
       "      <td>West</td>\n",
       "      <td>OFF-AR-10003056</td>\n",
       "      <td>Office Supplies</td>\n",
       "      <td>Art</td>\n",
       "      <td>Newell 341</td>\n",
       "      <td>8.5600</td>\n",
       "      <td>2</td>\n",
       "      <td>0.00</td>\n",
       "      <td>2.4824</td>\n",
       "    </tr>\n",
       "    <tr>\n",
       "      <th>19</th>\n",
       "      <td>19</td>\n",
       "      <td>20</td>\n",
       "      <td>CA-2011-143336</td>\n",
       "      <td>8/27/2011</td>\n",
       "      <td>9/1/2011</td>\n",
       "      <td>Second Class</td>\n",
       "      <td>ZD-21925</td>\n",
       "      <td>Zuschuss Donatelli</td>\n",
       "      <td>Consumer</td>\n",
       "      <td>United States</td>\n",
       "      <td>...</td>\n",
       "      <td>94109</td>\n",
       "      <td>West</td>\n",
       "      <td>TEC-PH-10001949</td>\n",
       "      <td>Technology</td>\n",
       "      <td>Phones</td>\n",
       "      <td>Cisco SPA 501G IP Phone</td>\n",
       "      <td>213.4800</td>\n",
       "      <td>3</td>\n",
       "      <td>0.20</td>\n",
       "      <td>16.0110</td>\n",
       "    </tr>\n",
       "    <tr>\n",
       "      <th>20</th>\n",
       "      <td>20</td>\n",
       "      <td>21</td>\n",
       "      <td>CA-2011-143336</td>\n",
       "      <td>8/27/2011</td>\n",
       "      <td>9/1/2011</td>\n",
       "      <td>Second Class</td>\n",
       "      <td>ZD-21925</td>\n",
       "      <td>Zuschuss Donatelli</td>\n",
       "      <td>Consumer</td>\n",
       "      <td>United States</td>\n",
       "      <td>...</td>\n",
       "      <td>94109</td>\n",
       "      <td>West</td>\n",
       "      <td>OFF-BI-10002215</td>\n",
       "      <td>Office Supplies</td>\n",
       "      <td>Binders</td>\n",
       "      <td>Wilson Jones Hanging View Binder, White, 1\"</td>\n",
       "      <td>22.7200</td>\n",
       "      <td>4</td>\n",
       "      <td>0.20</td>\n",
       "      <td>7.3840</td>\n",
       "    </tr>\n",
       "    <tr>\n",
       "      <th>21</th>\n",
       "      <td>21</td>\n",
       "      <td>22</td>\n",
       "      <td>CA-2013-137330</td>\n",
       "      <td>12/10/2013</td>\n",
       "      <td>12/14/2013</td>\n",
       "      <td>Standard Class</td>\n",
       "      <td>KB-16585</td>\n",
       "      <td>Ken Black</td>\n",
       "      <td>Corporate</td>\n",
       "      <td>United States</td>\n",
       "      <td>...</td>\n",
       "      <td>68025</td>\n",
       "      <td>Central</td>\n",
       "      <td>OFF-AR-10000246</td>\n",
       "      <td>Office Supplies</td>\n",
       "      <td>Art</td>\n",
       "      <td>Newell 318</td>\n",
       "      <td>19.4600</td>\n",
       "      <td>7</td>\n",
       "      <td>0.00</td>\n",
       "      <td>5.0596</td>\n",
       "    </tr>\n",
       "    <tr>\n",
       "      <th>22</th>\n",
       "      <td>22</td>\n",
       "      <td>23</td>\n",
       "      <td>CA-2013-137330</td>\n",
       "      <td>12/10/2013</td>\n",
       "      <td>12/14/2013</td>\n",
       "      <td>Standard Class</td>\n",
       "      <td>KB-16585</td>\n",
       "      <td>Ken Black</td>\n",
       "      <td>Corporate</td>\n",
       "      <td>United States</td>\n",
       "      <td>...</td>\n",
       "      <td>68025</td>\n",
       "      <td>Central</td>\n",
       "      <td>OFF-AP-10001492</td>\n",
       "      <td>Office Supplies</td>\n",
       "      <td>Appliances</td>\n",
       "      <td>Acco Six-Outlet Power Strip, 4' Cord Length</td>\n",
       "      <td>60.3400</td>\n",
       "      <td>7</td>\n",
       "      <td>0.00</td>\n",
       "      <td>15.6884</td>\n",
       "    </tr>\n",
       "    <tr>\n",
       "      <th>23</th>\n",
       "      <td>23</td>\n",
       "      <td>24</td>\n",
       "      <td>US-2014-156909</td>\n",
       "      <td>7/17/2014</td>\n",
       "      <td>7/19/2014</td>\n",
       "      <td>Second Class</td>\n",
       "      <td>SF-20065</td>\n",
       "      <td>Sandra Flanagan</td>\n",
       "      <td>Consumer</td>\n",
       "      <td>United States</td>\n",
       "      <td>...</td>\n",
       "      <td>19140</td>\n",
       "      <td>East</td>\n",
       "      <td>FUR-CH-10002774</td>\n",
       "      <td>Furniture</td>\n",
       "      <td>Chairs</td>\n",
       "      <td>Global Deluxe Stacking Chair, Gray</td>\n",
       "      <td>71.3720</td>\n",
       "      <td>2</td>\n",
       "      <td>0.30</td>\n",
       "      <td>-1.0196</td>\n",
       "    </tr>\n",
       "    <tr>\n",
       "      <th>24</th>\n",
       "      <td>24</td>\n",
       "      <td>25</td>\n",
       "      <td>CA-2012-106320</td>\n",
       "      <td>9/25/2012</td>\n",
       "      <td>9/30/2012</td>\n",
       "      <td>Standard Class</td>\n",
       "      <td>EB-13870</td>\n",
       "      <td>Emily Burns</td>\n",
       "      <td>Consumer</td>\n",
       "      <td>United States</td>\n",
       "      <td>...</td>\n",
       "      <td>84057</td>\n",
       "      <td>West</td>\n",
       "      <td>FUR-TA-10000577</td>\n",
       "      <td>Furniture</td>\n",
       "      <td>Tables</td>\n",
       "      <td>Bretford CR4500 Series Slim Rectangular Table</td>\n",
       "      <td>1044.6300</td>\n",
       "      <td>3</td>\n",
       "      <td>0.00</td>\n",
       "      <td>240.2649</td>\n",
       "    </tr>\n",
       "    <tr>\n",
       "      <th>25</th>\n",
       "      <td>25</td>\n",
       "      <td>26</td>\n",
       "      <td>CA-2013-121755</td>\n",
       "      <td>1/16/2013</td>\n",
       "      <td>1/20/2013</td>\n",
       "      <td>Second Class</td>\n",
       "      <td>EH-13945</td>\n",
       "      <td>Eric Hoffmann</td>\n",
       "      <td>Consumer</td>\n",
       "      <td>United States</td>\n",
       "      <td>...</td>\n",
       "      <td>90049</td>\n",
       "      <td>West</td>\n",
       "      <td>OFF-BI-10001634</td>\n",
       "      <td>Office Supplies</td>\n",
       "      <td>Binders</td>\n",
       "      <td>Wilson Jones Active Use Binders</td>\n",
       "      <td>11.6480</td>\n",
       "      <td>2</td>\n",
       "      <td>0.20</td>\n",
       "      <td>4.2224</td>\n",
       "    </tr>\n",
       "    <tr>\n",
       "      <th>26</th>\n",
       "      <td>26</td>\n",
       "      <td>27</td>\n",
       "      <td>CA-2013-121755</td>\n",
       "      <td>1/16/2013</td>\n",
       "      <td>1/20/2013</td>\n",
       "      <td>Second Class</td>\n",
       "      <td>EH-13945</td>\n",
       "      <td>Eric Hoffmann</td>\n",
       "      <td>Consumer</td>\n",
       "      <td>United States</td>\n",
       "      <td>...</td>\n",
       "      <td>90049</td>\n",
       "      <td>West</td>\n",
       "      <td>TEC-AC-10003027</td>\n",
       "      <td>Technology</td>\n",
       "      <td>Accessories</td>\n",
       "      <td>Imation 8GB Mini TravelDrive USB 2.0 Flash Drive</td>\n",
       "      <td>90.5700</td>\n",
       "      <td>3</td>\n",
       "      <td>0.00</td>\n",
       "      <td>11.7741</td>\n",
       "    </tr>\n",
       "    <tr>\n",
       "      <th>27</th>\n",
       "      <td>27</td>\n",
       "      <td>28</td>\n",
       "      <td>US-2012-150630</td>\n",
       "      <td>9/17/2012</td>\n",
       "      <td>9/21/2012</td>\n",
       "      <td>Standard Class</td>\n",
       "      <td>TB-21520</td>\n",
       "      <td>Tracy Blumstein</td>\n",
       "      <td>Consumer</td>\n",
       "      <td>United States</td>\n",
       "      <td>...</td>\n",
       "      <td>19140</td>\n",
       "      <td>East</td>\n",
       "      <td>FUR-BO-10004834</td>\n",
       "      <td>Furniture</td>\n",
       "      <td>Bookcases</td>\n",
       "      <td>Riverside Palais Royal Lawyers Bookcase, Royal...</td>\n",
       "      <td>3083.4300</td>\n",
       "      <td>7</td>\n",
       "      <td>0.50</td>\n",
       "      <td>-1665.0522</td>\n",
       "    </tr>\n",
       "    <tr>\n",
       "      <th>28</th>\n",
       "      <td>28</td>\n",
       "      <td>29</td>\n",
       "      <td>US-2012-150630</td>\n",
       "      <td>9/17/2012</td>\n",
       "      <td>9/21/2012</td>\n",
       "      <td>Standard Class</td>\n",
       "      <td>TB-21520</td>\n",
       "      <td>Tracy Blumstein</td>\n",
       "      <td>Consumer</td>\n",
       "      <td>United States</td>\n",
       "      <td>...</td>\n",
       "      <td>19140</td>\n",
       "      <td>East</td>\n",
       "      <td>OFF-BI-10000474</td>\n",
       "      <td>Office Supplies</td>\n",
       "      <td>Binders</td>\n",
       "      <td>Avery Recycled Flexi-View Covers for Binding S...</td>\n",
       "      <td>9.6180</td>\n",
       "      <td>2</td>\n",
       "      <td>0.70</td>\n",
       "      <td>-7.0532</td>\n",
       "    </tr>\n",
       "    <tr>\n",
       "      <th>29</th>\n",
       "      <td>29</td>\n",
       "      <td>30</td>\n",
       "      <td>US-2012-150630</td>\n",
       "      <td>9/17/2012</td>\n",
       "      <td>9/21/2012</td>\n",
       "      <td>Standard Class</td>\n",
       "      <td>TB-21520</td>\n",
       "      <td>Tracy Blumstein</td>\n",
       "      <td>Consumer</td>\n",
       "      <td>United States</td>\n",
       "      <td>...</td>\n",
       "      <td>19140</td>\n",
       "      <td>East</td>\n",
       "      <td>FUR-FU-10004848</td>\n",
       "      <td>Furniture</td>\n",
       "      <td>Furnishings</td>\n",
       "      <td>Howard Miller 13-3/4\" Diameter Brushed Chrome ...</td>\n",
       "      <td>124.2000</td>\n",
       "      <td>3</td>\n",
       "      <td>0.20</td>\n",
       "      <td>15.5250</td>\n",
       "    </tr>\n",
       "    <tr>\n",
       "      <th>...</th>\n",
       "      <td>...</td>\n",
       "      <td>...</td>\n",
       "      <td>...</td>\n",
       "      <td>...</td>\n",
       "      <td>...</td>\n",
       "      <td>...</td>\n",
       "      <td>...</td>\n",
       "      <td>...</td>\n",
       "      <td>...</td>\n",
       "      <td>...</td>\n",
       "      <td>...</td>\n",
       "      <td>...</td>\n",
       "      <td>...</td>\n",
       "      <td>...</td>\n",
       "      <td>...</td>\n",
       "      <td>...</td>\n",
       "      <td>...</td>\n",
       "      <td>...</td>\n",
       "      <td>...</td>\n",
       "      <td>...</td>\n",
       "      <td>...</td>\n",
       "    </tr>\n",
       "    <tr>\n",
       "      <th>9964</th>\n",
       "      <td>9964</td>\n",
       "      <td>9965</td>\n",
       "      <td>CA-2013-146374</td>\n",
       "      <td>12/6/2013</td>\n",
       "      <td>12/11/2013</td>\n",
       "      <td>Second Class</td>\n",
       "      <td>HE-14800</td>\n",
       "      <td>Harold Engle</td>\n",
       "      <td>Corporate</td>\n",
       "      <td>United States</td>\n",
       "      <td>...</td>\n",
       "      <td>19711</td>\n",
       "      <td>East</td>\n",
       "      <td>FUR-FU-10002671</td>\n",
       "      <td>Furniture</td>\n",
       "      <td>Furnishings</td>\n",
       "      <td>Electrix 20W Halogen Replacement Bulb for Zoom...</td>\n",
       "      <td>13.4000</td>\n",
       "      <td>1</td>\n",
       "      <td>0.00</td>\n",
       "      <td>6.4320</td>\n",
       "    </tr>\n",
       "    <tr>\n",
       "      <th>9965</th>\n",
       "      <td>9965</td>\n",
       "      <td>9966</td>\n",
       "      <td>CA-2013-146374</td>\n",
       "      <td>12/6/2013</td>\n",
       "      <td>12/11/2013</td>\n",
       "      <td>Second Class</td>\n",
       "      <td>HE-14800</td>\n",
       "      <td>Harold Engle</td>\n",
       "      <td>Corporate</td>\n",
       "      <td>United States</td>\n",
       "      <td>...</td>\n",
       "      <td>19711</td>\n",
       "      <td>East</td>\n",
       "      <td>OFF-PA-10000349</td>\n",
       "      <td>Office Supplies</td>\n",
       "      <td>Paper</td>\n",
       "      <td>Easy-staple paper</td>\n",
       "      <td>4.9800</td>\n",
       "      <td>1</td>\n",
       "      <td>0.00</td>\n",
       "      <td>2.3406</td>\n",
       "    </tr>\n",
       "    <tr>\n",
       "      <th>9966</th>\n",
       "      <td>9966</td>\n",
       "      <td>9967</td>\n",
       "      <td>CA-2013-146374</td>\n",
       "      <td>12/6/2013</td>\n",
       "      <td>12/11/2013</td>\n",
       "      <td>Second Class</td>\n",
       "      <td>HE-14800</td>\n",
       "      <td>Harold Engle</td>\n",
       "      <td>Corporate</td>\n",
       "      <td>United States</td>\n",
       "      <td>...</td>\n",
       "      <td>19711</td>\n",
       "      <td>East</td>\n",
       "      <td>OFF-EN-10004483</td>\n",
       "      <td>Office Supplies</td>\n",
       "      <td>Envelopes</td>\n",
       "      <td>#10 White Business Envelopes,4 1/8 x 9 1/2</td>\n",
       "      <td>109.6900</td>\n",
       "      <td>7</td>\n",
       "      <td>0.00</td>\n",
       "      <td>51.5543</td>\n",
       "    </tr>\n",
       "    <tr>\n",
       "      <th>9967</th>\n",
       "      <td>9967</td>\n",
       "      <td>9968</td>\n",
       "      <td>CA-2014-153871</td>\n",
       "      <td>12/12/2014</td>\n",
       "      <td>12/18/2014</td>\n",
       "      <td>Standard Class</td>\n",
       "      <td>RB-19435</td>\n",
       "      <td>Richard Bierner</td>\n",
       "      <td>Consumer</td>\n",
       "      <td>United States</td>\n",
       "      <td>...</td>\n",
       "      <td>7060</td>\n",
       "      <td>East</td>\n",
       "      <td>OFF-BI-10004209</td>\n",
       "      <td>Office Supplies</td>\n",
       "      <td>Binders</td>\n",
       "      <td>Fellowes Twister Kit, Gray/Clear, 3/pkg</td>\n",
       "      <td>40.2000</td>\n",
       "      <td>5</td>\n",
       "      <td>0.00</td>\n",
       "      <td>18.0900</td>\n",
       "    </tr>\n",
       "    <tr>\n",
       "      <th>9968</th>\n",
       "      <td>9968</td>\n",
       "      <td>9969</td>\n",
       "      <td>CA-2014-153871</td>\n",
       "      <td>12/12/2014</td>\n",
       "      <td>12/18/2014</td>\n",
       "      <td>Standard Class</td>\n",
       "      <td>RB-19435</td>\n",
       "      <td>Richard Bierner</td>\n",
       "      <td>Consumer</td>\n",
       "      <td>United States</td>\n",
       "      <td>...</td>\n",
       "      <td>7060</td>\n",
       "      <td>East</td>\n",
       "      <td>OFF-BI-10004600</td>\n",
       "      <td>Office Supplies</td>\n",
       "      <td>Binders</td>\n",
       "      <td>Ibico Ibimaster 300 Manual Binding System</td>\n",
       "      <td>735.9800</td>\n",
       "      <td>2</td>\n",
       "      <td>0.00</td>\n",
       "      <td>331.1910</td>\n",
       "    </tr>\n",
       "    <tr>\n",
       "      <th>9969</th>\n",
       "      <td>9969</td>\n",
       "      <td>9970</td>\n",
       "      <td>CA-2014-153871</td>\n",
       "      <td>12/12/2014</td>\n",
       "      <td>12/18/2014</td>\n",
       "      <td>Standard Class</td>\n",
       "      <td>RB-19435</td>\n",
       "      <td>Richard Bierner</td>\n",
       "      <td>Consumer</td>\n",
       "      <td>United States</td>\n",
       "      <td>...</td>\n",
       "      <td>7060</td>\n",
       "      <td>East</td>\n",
       "      <td>OFF-AP-10003622</td>\n",
       "      <td>Office Supplies</td>\n",
       "      <td>Appliances</td>\n",
       "      <td>Bravo II Megaboss 12-Amp Hard Body Upright, Re...</td>\n",
       "      <td>22.7500</td>\n",
       "      <td>7</td>\n",
       "      <td>0.00</td>\n",
       "      <td>6.5975</td>\n",
       "    </tr>\n",
       "    <tr>\n",
       "      <th>9970</th>\n",
       "      <td>9970</td>\n",
       "      <td>9971</td>\n",
       "      <td>CA-2012-103772</td>\n",
       "      <td>6/28/2012</td>\n",
       "      <td>7/2/2012</td>\n",
       "      <td>Standard Class</td>\n",
       "      <td>MP-17470</td>\n",
       "      <td>Mark Packer</td>\n",
       "      <td>Home Office</td>\n",
       "      <td>United States</td>\n",
       "      <td>...</td>\n",
       "      <td>30080</td>\n",
       "      <td>South</td>\n",
       "      <td>OFF-BI-10002867</td>\n",
       "      <td>Office Supplies</td>\n",
       "      <td>Binders</td>\n",
       "      <td>GBC Recycled Regency Composition Covers</td>\n",
       "      <td>119.5600</td>\n",
       "      <td>2</td>\n",
       "      <td>0.00</td>\n",
       "      <td>54.9976</td>\n",
       "    </tr>\n",
       "    <tr>\n",
       "      <th>9971</th>\n",
       "      <td>9971</td>\n",
       "      <td>9972</td>\n",
       "      <td>CA-2012-103772</td>\n",
       "      <td>6/28/2012</td>\n",
       "      <td>7/2/2012</td>\n",
       "      <td>Standard Class</td>\n",
       "      <td>MP-17470</td>\n",
       "      <td>Mark Packer</td>\n",
       "      <td>Home Office</td>\n",
       "      <td>United States</td>\n",
       "      <td>...</td>\n",
       "      <td>30080</td>\n",
       "      <td>South</td>\n",
       "      <td>OFF-AR-10000538</td>\n",
       "      <td>Office Supplies</td>\n",
       "      <td>Art</td>\n",
       "      <td>Boston Model 1800 Electric Pencil Sharpener, Gray</td>\n",
       "      <td>140.7500</td>\n",
       "      <td>5</td>\n",
       "      <td>0.00</td>\n",
       "      <td>42.2250</td>\n",
       "    </tr>\n",
       "    <tr>\n",
       "      <th>9972</th>\n",
       "      <td>9972</td>\n",
       "      <td>9973</td>\n",
       "      <td>CA-2013-130225</td>\n",
       "      <td>9/12/2013</td>\n",
       "      <td>9/18/2013</td>\n",
       "      <td>Standard Class</td>\n",
       "      <td>RC-19960</td>\n",
       "      <td>Ryan Crowe</td>\n",
       "      <td>Consumer</td>\n",
       "      <td>United States</td>\n",
       "      <td>...</td>\n",
       "      <td>77041</td>\n",
       "      <td>Central</td>\n",
       "      <td>OFF-EN-10000056</td>\n",
       "      <td>Office Supplies</td>\n",
       "      <td>Envelopes</td>\n",
       "      <td>Cameo Buff Policy Envelopes</td>\n",
       "      <td>99.5680</td>\n",
       "      <td>2</td>\n",
       "      <td>0.20</td>\n",
       "      <td>33.6042</td>\n",
       "    </tr>\n",
       "    <tr>\n",
       "      <th>9973</th>\n",
       "      <td>9973</td>\n",
       "      <td>9974</td>\n",
       "      <td>US-2013-103674</td>\n",
       "      <td>12/7/2013</td>\n",
       "      <td>12/11/2013</td>\n",
       "      <td>Standard Class</td>\n",
       "      <td>AP-10720</td>\n",
       "      <td>Anne Pryor</td>\n",
       "      <td>Home Office</td>\n",
       "      <td>United States</td>\n",
       "      <td>...</td>\n",
       "      <td>90032</td>\n",
       "      <td>West</td>\n",
       "      <td>TEC-PH-10004080</td>\n",
       "      <td>Technology</td>\n",
       "      <td>Phones</td>\n",
       "      <td>Avaya 5410 Digital phone</td>\n",
       "      <td>271.9600</td>\n",
       "      <td>5</td>\n",
       "      <td>0.20</td>\n",
       "      <td>27.1960</td>\n",
       "    </tr>\n",
       "    <tr>\n",
       "      <th>9974</th>\n",
       "      <td>9974</td>\n",
       "      <td>9975</td>\n",
       "      <td>US-2013-103674</td>\n",
       "      <td>12/7/2013</td>\n",
       "      <td>12/11/2013</td>\n",
       "      <td>Standard Class</td>\n",
       "      <td>AP-10720</td>\n",
       "      <td>Anne Pryor</td>\n",
       "      <td>Home Office</td>\n",
       "      <td>United States</td>\n",
       "      <td>...</td>\n",
       "      <td>90032</td>\n",
       "      <td>West</td>\n",
       "      <td>OFF-AR-10004752</td>\n",
       "      <td>Office Supplies</td>\n",
       "      <td>Art</td>\n",
       "      <td>Blackstonian Pencils</td>\n",
       "      <td>18.6900</td>\n",
       "      <td>7</td>\n",
       "      <td>0.00</td>\n",
       "      <td>5.2332</td>\n",
       "    </tr>\n",
       "    <tr>\n",
       "      <th>9975</th>\n",
       "      <td>9975</td>\n",
       "      <td>9976</td>\n",
       "      <td>US-2013-103674</td>\n",
       "      <td>12/7/2013</td>\n",
       "      <td>12/11/2013</td>\n",
       "      <td>Standard Class</td>\n",
       "      <td>AP-10720</td>\n",
       "      <td>Anne Pryor</td>\n",
       "      <td>Home Office</td>\n",
       "      <td>United States</td>\n",
       "      <td>...</td>\n",
       "      <td>90032</td>\n",
       "      <td>West</td>\n",
       "      <td>OFF-PA-10000743</td>\n",
       "      <td>Office Supplies</td>\n",
       "      <td>Paper</td>\n",
       "      <td>Xerox 1977</td>\n",
       "      <td>13.3600</td>\n",
       "      <td>2</td>\n",
       "      <td>0.00</td>\n",
       "      <td>6.4128</td>\n",
       "    </tr>\n",
       "    <tr>\n",
       "      <th>9976</th>\n",
       "      <td>9976</td>\n",
       "      <td>9977</td>\n",
       "      <td>US-2013-103674</td>\n",
       "      <td>12/7/2013</td>\n",
       "      <td>12/11/2013</td>\n",
       "      <td>Standard Class</td>\n",
       "      <td>AP-10720</td>\n",
       "      <td>Anne Pryor</td>\n",
       "      <td>Home Office</td>\n",
       "      <td>United States</td>\n",
       "      <td>...</td>\n",
       "      <td>90032</td>\n",
       "      <td>West</td>\n",
       "      <td>TEC-PH-10002496</td>\n",
       "      <td>Technology</td>\n",
       "      <td>Phones</td>\n",
       "      <td>Cisco SPA301</td>\n",
       "      <td>249.5840</td>\n",
       "      <td>2</td>\n",
       "      <td>0.20</td>\n",
       "      <td>31.1980</td>\n",
       "    </tr>\n",
       "    <tr>\n",
       "      <th>9977</th>\n",
       "      <td>9977</td>\n",
       "      <td>9978</td>\n",
       "      <td>US-2013-103674</td>\n",
       "      <td>12/7/2013</td>\n",
       "      <td>12/11/2013</td>\n",
       "      <td>Standard Class</td>\n",
       "      <td>AP-10720</td>\n",
       "      <td>Anne Pryor</td>\n",
       "      <td>Home Office</td>\n",
       "      <td>United States</td>\n",
       "      <td>...</td>\n",
       "      <td>90032</td>\n",
       "      <td>West</td>\n",
       "      <td>OFF-FA-10003467</td>\n",
       "      <td>Office Supplies</td>\n",
       "      <td>Fasteners</td>\n",
       "      <td>Alliance Big Bands Rubber Bands, 12/Pack</td>\n",
       "      <td>13.8600</td>\n",
       "      <td>7</td>\n",
       "      <td>0.00</td>\n",
       "      <td>0.0000</td>\n",
       "    </tr>\n",
       "    <tr>\n",
       "      <th>9978</th>\n",
       "      <td>9978</td>\n",
       "      <td>9979</td>\n",
       "      <td>US-2013-103674</td>\n",
       "      <td>12/7/2013</td>\n",
       "      <td>12/11/2013</td>\n",
       "      <td>Standard Class</td>\n",
       "      <td>AP-10720</td>\n",
       "      <td>Anne Pryor</td>\n",
       "      <td>Home Office</td>\n",
       "      <td>United States</td>\n",
       "      <td>...</td>\n",
       "      <td>90032</td>\n",
       "      <td>West</td>\n",
       "      <td>OFF-BI-10003727</td>\n",
       "      <td>Office Supplies</td>\n",
       "      <td>Binders</td>\n",
       "      <td>Avery Durable Slant Ring Binders With Label Ho...</td>\n",
       "      <td>13.3760</td>\n",
       "      <td>4</td>\n",
       "      <td>0.20</td>\n",
       "      <td>4.6816</td>\n",
       "    </tr>\n",
       "    <tr>\n",
       "      <th>9979</th>\n",
       "      <td>9979</td>\n",
       "      <td>9980</td>\n",
       "      <td>US-2013-103674</td>\n",
       "      <td>12/7/2013</td>\n",
       "      <td>12/11/2013</td>\n",
       "      <td>Standard Class</td>\n",
       "      <td>AP-10720</td>\n",
       "      <td>Anne Pryor</td>\n",
       "      <td>Home Office</td>\n",
       "      <td>United States</td>\n",
       "      <td>...</td>\n",
       "      <td>90032</td>\n",
       "      <td>West</td>\n",
       "      <td>OFF-BI-10002026</td>\n",
       "      <td>Office Supplies</td>\n",
       "      <td>Binders</td>\n",
       "      <td>Ibico Recycled Linen-Style Covers</td>\n",
       "      <td>437.4720</td>\n",
       "      <td>14</td>\n",
       "      <td>0.20</td>\n",
       "      <td>153.1152</td>\n",
       "    </tr>\n",
       "    <tr>\n",
       "      <th>9980</th>\n",
       "      <td>9980</td>\n",
       "      <td>9981</td>\n",
       "      <td>US-2012-151435</td>\n",
       "      <td>9/6/2012</td>\n",
       "      <td>9/9/2012</td>\n",
       "      <td>Second Class</td>\n",
       "      <td>SW-20455</td>\n",
       "      <td>Shaun Weien</td>\n",
       "      <td>Consumer</td>\n",
       "      <td>United States</td>\n",
       "      <td>...</td>\n",
       "      <td>70506</td>\n",
       "      <td>South</td>\n",
       "      <td>FUR-TA-10001039</td>\n",
       "      <td>Furniture</td>\n",
       "      <td>Tables</td>\n",
       "      <td>KI Adjustable-Height Table</td>\n",
       "      <td>85.9800</td>\n",
       "      <td>1</td>\n",
       "      <td>0.00</td>\n",
       "      <td>22.3548</td>\n",
       "    </tr>\n",
       "    <tr>\n",
       "      <th>9981</th>\n",
       "      <td>9981</td>\n",
       "      <td>9982</td>\n",
       "      <td>CA-2014-163566</td>\n",
       "      <td>8/4/2014</td>\n",
       "      <td>8/7/2014</td>\n",
       "      <td>First Class</td>\n",
       "      <td>TB-21055</td>\n",
       "      <td>Ted Butterfield</td>\n",
       "      <td>Consumer</td>\n",
       "      <td>United States</td>\n",
       "      <td>...</td>\n",
       "      <td>45014</td>\n",
       "      <td>East</td>\n",
       "      <td>OFF-LA-10004484</td>\n",
       "      <td>Office Supplies</td>\n",
       "      <td>Labels</td>\n",
       "      <td>Avery 476</td>\n",
       "      <td>16.5200</td>\n",
       "      <td>5</td>\n",
       "      <td>0.20</td>\n",
       "      <td>5.3690</td>\n",
       "    </tr>\n",
       "    <tr>\n",
       "      <th>9982</th>\n",
       "      <td>9982</td>\n",
       "      <td>9983</td>\n",
       "      <td>US-2013-157728</td>\n",
       "      <td>9/23/2013</td>\n",
       "      <td>9/29/2013</td>\n",
       "      <td>Standard Class</td>\n",
       "      <td>RC-19960</td>\n",
       "      <td>Ryan Crowe</td>\n",
       "      <td>Consumer</td>\n",
       "      <td>United States</td>\n",
       "      <td>...</td>\n",
       "      <td>49505</td>\n",
       "      <td>Central</td>\n",
       "      <td>OFF-PA-10002195</td>\n",
       "      <td>Office Supplies</td>\n",
       "      <td>Paper</td>\n",
       "      <td>RSVP Cards &amp; Envelopes, Blank White, 8-1/2\" X ...</td>\n",
       "      <td>35.5600</td>\n",
       "      <td>7</td>\n",
       "      <td>0.00</td>\n",
       "      <td>16.7132</td>\n",
       "    </tr>\n",
       "    <tr>\n",
       "      <th>9983</th>\n",
       "      <td>9983</td>\n",
       "      <td>9984</td>\n",
       "      <td>US-2013-157728</td>\n",
       "      <td>9/23/2013</td>\n",
       "      <td>9/29/2013</td>\n",
       "      <td>Standard Class</td>\n",
       "      <td>RC-19960</td>\n",
       "      <td>Ryan Crowe</td>\n",
       "      <td>Consumer</td>\n",
       "      <td>United States</td>\n",
       "      <td>...</td>\n",
       "      <td>49505</td>\n",
       "      <td>Central</td>\n",
       "      <td>TEC-PH-10001305</td>\n",
       "      <td>Technology</td>\n",
       "      <td>Phones</td>\n",
       "      <td>Panasonic KX TS208W Corded phone</td>\n",
       "      <td>97.9800</td>\n",
       "      <td>2</td>\n",
       "      <td>0.00</td>\n",
       "      <td>27.4344</td>\n",
       "    </tr>\n",
       "    <tr>\n",
       "      <th>9984</th>\n",
       "      <td>9984</td>\n",
       "      <td>9985</td>\n",
       "      <td>CA-2012-100251</td>\n",
       "      <td>5/17/2012</td>\n",
       "      <td>5/23/2012</td>\n",
       "      <td>Standard Class</td>\n",
       "      <td>DV-13465</td>\n",
       "      <td>Dianna Vittorini</td>\n",
       "      <td>Consumer</td>\n",
       "      <td>United States</td>\n",
       "      <td>...</td>\n",
       "      <td>11561</td>\n",
       "      <td>East</td>\n",
       "      <td>OFF-LA-10003766</td>\n",
       "      <td>Office Supplies</td>\n",
       "      <td>Labels</td>\n",
       "      <td>Self-Adhesive Removable Labels</td>\n",
       "      <td>31.5000</td>\n",
       "      <td>10</td>\n",
       "      <td>0.00</td>\n",
       "      <td>15.1200</td>\n",
       "    </tr>\n",
       "    <tr>\n",
       "      <th>9985</th>\n",
       "      <td>9985</td>\n",
       "      <td>9986</td>\n",
       "      <td>CA-2012-100251</td>\n",
       "      <td>5/17/2012</td>\n",
       "      <td>5/23/2012</td>\n",
       "      <td>Standard Class</td>\n",
       "      <td>DV-13465</td>\n",
       "      <td>Dianna Vittorini</td>\n",
       "      <td>Consumer</td>\n",
       "      <td>United States</td>\n",
       "      <td>...</td>\n",
       "      <td>11561</td>\n",
       "      <td>East</td>\n",
       "      <td>OFF-SU-10000898</td>\n",
       "      <td>Office Supplies</td>\n",
       "      <td>Supplies</td>\n",
       "      <td>Acme Hot Forged Carbon Steel Scissors with Nic...</td>\n",
       "      <td>55.6000</td>\n",
       "      <td>4</td>\n",
       "      <td>0.00</td>\n",
       "      <td>16.1240</td>\n",
       "    </tr>\n",
       "    <tr>\n",
       "      <th>9986</th>\n",
       "      <td>9986</td>\n",
       "      <td>9987</td>\n",
       "      <td>CA-2013-125794</td>\n",
       "      <td>9/30/2013</td>\n",
       "      <td>10/4/2013</td>\n",
       "      <td>Standard Class</td>\n",
       "      <td>ML-17410</td>\n",
       "      <td>Maris LaWare</td>\n",
       "      <td>Consumer</td>\n",
       "      <td>United States</td>\n",
       "      <td>...</td>\n",
       "      <td>90008</td>\n",
       "      <td>West</td>\n",
       "      <td>TEC-AC-10003399</td>\n",
       "      <td>Technology</td>\n",
       "      <td>Accessories</td>\n",
       "      <td>Memorex Mini Travel Drive 64 GB USB 2.0 Flash ...</td>\n",
       "      <td>36.2400</td>\n",
       "      <td>1</td>\n",
       "      <td>0.00</td>\n",
       "      <td>15.2208</td>\n",
       "    </tr>\n",
       "    <tr>\n",
       "      <th>9987</th>\n",
       "      <td>9987</td>\n",
       "      <td>9988</td>\n",
       "      <td>CA-2014-163629</td>\n",
       "      <td>11/18/2014</td>\n",
       "      <td>11/22/2014</td>\n",
       "      <td>Standard Class</td>\n",
       "      <td>RA-19885</td>\n",
       "      <td>Ruben Ausman</td>\n",
       "      <td>Corporate</td>\n",
       "      <td>United States</td>\n",
       "      <td>...</td>\n",
       "      <td>30605</td>\n",
       "      <td>South</td>\n",
       "      <td>TEC-AC-10001539</td>\n",
       "      <td>Technology</td>\n",
       "      <td>Accessories</td>\n",
       "      <td>Logitech G430 Surround Sound Gaming Headset wi...</td>\n",
       "      <td>79.9900</td>\n",
       "      <td>1</td>\n",
       "      <td>0.00</td>\n",
       "      <td>28.7964</td>\n",
       "    </tr>\n",
       "    <tr>\n",
       "      <th>9988</th>\n",
       "      <td>9988</td>\n",
       "      <td>9989</td>\n",
       "      <td>CA-2014-163629</td>\n",
       "      <td>11/18/2014</td>\n",
       "      <td>11/22/2014</td>\n",
       "      <td>Standard Class</td>\n",
       "      <td>RA-19885</td>\n",
       "      <td>Ruben Ausman</td>\n",
       "      <td>Corporate</td>\n",
       "      <td>United States</td>\n",
       "      <td>...</td>\n",
       "      <td>30605</td>\n",
       "      <td>South</td>\n",
       "      <td>TEC-PH-10004006</td>\n",
       "      <td>Technology</td>\n",
       "      <td>Phones</td>\n",
       "      <td>Panasonic KX - TS880B Telephone</td>\n",
       "      <td>206.1000</td>\n",
       "      <td>5</td>\n",
       "      <td>0.00</td>\n",
       "      <td>55.6470</td>\n",
       "    </tr>\n",
       "    <tr>\n",
       "      <th>9989</th>\n",
       "      <td>9989</td>\n",
       "      <td>9990</td>\n",
       "      <td>CA-2011-110422</td>\n",
       "      <td>1/22/2011</td>\n",
       "      <td>1/24/2011</td>\n",
       "      <td>Second Class</td>\n",
       "      <td>TB-21400</td>\n",
       "      <td>Tom Boeckenhauer</td>\n",
       "      <td>Consumer</td>\n",
       "      <td>United States</td>\n",
       "      <td>...</td>\n",
       "      <td>33180</td>\n",
       "      <td>South</td>\n",
       "      <td>FUR-FU-10001889</td>\n",
       "      <td>Furniture</td>\n",
       "      <td>Furnishings</td>\n",
       "      <td>Ultra Door Pull Handle</td>\n",
       "      <td>25.2480</td>\n",
       "      <td>3</td>\n",
       "      <td>0.20</td>\n",
       "      <td>4.1028</td>\n",
       "    </tr>\n",
       "    <tr>\n",
       "      <th>9990</th>\n",
       "      <td>9990</td>\n",
       "      <td>9991</td>\n",
       "      <td>CA-2014-121258</td>\n",
       "      <td>2/27/2014</td>\n",
       "      <td>3/4/2014</td>\n",
       "      <td>Standard Class</td>\n",
       "      <td>DB-13060</td>\n",
       "      <td>Dave Brooks</td>\n",
       "      <td>Consumer</td>\n",
       "      <td>United States</td>\n",
       "      <td>...</td>\n",
       "      <td>92627</td>\n",
       "      <td>West</td>\n",
       "      <td>FUR-FU-10000747</td>\n",
       "      <td>Furniture</td>\n",
       "      <td>Furnishings</td>\n",
       "      <td>Tenex B1-RE Series Chair Mats for Low Pile Car...</td>\n",
       "      <td>91.9600</td>\n",
       "      <td>2</td>\n",
       "      <td>0.00</td>\n",
       "      <td>15.6332</td>\n",
       "    </tr>\n",
       "    <tr>\n",
       "      <th>9991</th>\n",
       "      <td>9991</td>\n",
       "      <td>9992</td>\n",
       "      <td>CA-2014-121258</td>\n",
       "      <td>2/27/2014</td>\n",
       "      <td>3/4/2014</td>\n",
       "      <td>Standard Class</td>\n",
       "      <td>DB-13060</td>\n",
       "      <td>Dave Brooks</td>\n",
       "      <td>Consumer</td>\n",
       "      <td>United States</td>\n",
       "      <td>...</td>\n",
       "      <td>92627</td>\n",
       "      <td>West</td>\n",
       "      <td>TEC-PH-10003645</td>\n",
       "      <td>Technology</td>\n",
       "      <td>Phones</td>\n",
       "      <td>Aastra 57i VoIP phone</td>\n",
       "      <td>258.5760</td>\n",
       "      <td>2</td>\n",
       "      <td>0.20</td>\n",
       "      <td>19.3932</td>\n",
       "    </tr>\n",
       "    <tr>\n",
       "      <th>9992</th>\n",
       "      <td>9992</td>\n",
       "      <td>9993</td>\n",
       "      <td>CA-2014-121258</td>\n",
       "      <td>2/27/2014</td>\n",
       "      <td>3/4/2014</td>\n",
       "      <td>Standard Class</td>\n",
       "      <td>DB-13060</td>\n",
       "      <td>Dave Brooks</td>\n",
       "      <td>Consumer</td>\n",
       "      <td>United States</td>\n",
       "      <td>...</td>\n",
       "      <td>92627</td>\n",
       "      <td>West</td>\n",
       "      <td>OFF-PA-10004041</td>\n",
       "      <td>Office Supplies</td>\n",
       "      <td>Paper</td>\n",
       "      <td>It's Hot Message Books with Stickers, 2 3/4\" x 5\"</td>\n",
       "      <td>29.6000</td>\n",
       "      <td>4</td>\n",
       "      <td>0.00</td>\n",
       "      <td>13.3200</td>\n",
       "    </tr>\n",
       "    <tr>\n",
       "      <th>9993</th>\n",
       "      <td>9993</td>\n",
       "      <td>9994</td>\n",
       "      <td>CA-2014-119914</td>\n",
       "      <td>5/5/2014</td>\n",
       "      <td>5/10/2014</td>\n",
       "      <td>Second Class</td>\n",
       "      <td>CC-12220</td>\n",
       "      <td>Chris Cortes</td>\n",
       "      <td>Consumer</td>\n",
       "      <td>United States</td>\n",
       "      <td>...</td>\n",
       "      <td>92683</td>\n",
       "      <td>West</td>\n",
       "      <td>OFF-AP-10002684</td>\n",
       "      <td>Office Supplies</td>\n",
       "      <td>Appliances</td>\n",
       "      <td>Acco 7-Outlet Masterpiece Power Center, Wihtou...</td>\n",
       "      <td>243.1600</td>\n",
       "      <td>2</td>\n",
       "      <td>0.00</td>\n",
       "      <td>72.9480</td>\n",
       "    </tr>\n",
       "  </tbody>\n",
       "</table>\n",
       "<p>9994 rows × 22 columns</p>\n",
       "</div>"
      ],
      "text/plain": [
       "      Unnamed: 0  Row ID        Order ID  Order Date   Ship Date  \\\n",
       "0              0       1  CA-2013-152156   11/9/2013  11/12/2013   \n",
       "1              1       2  CA-2013-152156   11/9/2013  11/12/2013   \n",
       "2              2       3  CA-2013-138688   6/13/2013   6/17/2013   \n",
       "3              3       4  US-2012-108966  10/11/2012  10/18/2012   \n",
       "4              4       5  US-2012-108966  10/11/2012  10/18/2012   \n",
       "5              5       6  CA-2011-115812    6/9/2011   6/14/2011   \n",
       "6              6       7  CA-2011-115812    6/9/2011   6/14/2011   \n",
       "7              7       8  CA-2011-115812    6/9/2011   6/14/2011   \n",
       "8              8       9  CA-2011-115812    6/9/2011   6/14/2011   \n",
       "9              9      10  CA-2011-115812    6/9/2011   6/14/2011   \n",
       "10            10      11  CA-2011-115812    6/9/2011   6/14/2011   \n",
       "11            11      12  CA-2011-115812    6/9/2011   6/14/2011   \n",
       "12            12      13  CA-2014-114412   4/16/2014   4/21/2014   \n",
       "13            13      14  CA-2013-161389   12/6/2013  12/11/2013   \n",
       "14            14      15  US-2012-118983  11/22/2012  11/26/2012   \n",
       "15            15      16  US-2012-118983  11/22/2012  11/26/2012   \n",
       "16            16      17  CA-2011-105893  11/11/2011  11/18/2011   \n",
       "17            17      18  CA-2011-167164   5/13/2011   5/15/2011   \n",
       "18            18      19  CA-2011-143336   8/27/2011    9/1/2011   \n",
       "19            19      20  CA-2011-143336   8/27/2011    9/1/2011   \n",
       "20            20      21  CA-2011-143336   8/27/2011    9/1/2011   \n",
       "21            21      22  CA-2013-137330  12/10/2013  12/14/2013   \n",
       "22            22      23  CA-2013-137330  12/10/2013  12/14/2013   \n",
       "23            23      24  US-2014-156909   7/17/2014   7/19/2014   \n",
       "24            24      25  CA-2012-106320   9/25/2012   9/30/2012   \n",
       "25            25      26  CA-2013-121755   1/16/2013   1/20/2013   \n",
       "26            26      27  CA-2013-121755   1/16/2013   1/20/2013   \n",
       "27            27      28  US-2012-150630   9/17/2012   9/21/2012   \n",
       "28            28      29  US-2012-150630   9/17/2012   9/21/2012   \n",
       "29            29      30  US-2012-150630   9/17/2012   9/21/2012   \n",
       "...          ...     ...             ...         ...         ...   \n",
       "9964        9964    9965  CA-2013-146374   12/6/2013  12/11/2013   \n",
       "9965        9965    9966  CA-2013-146374   12/6/2013  12/11/2013   \n",
       "9966        9966    9967  CA-2013-146374   12/6/2013  12/11/2013   \n",
       "9967        9967    9968  CA-2014-153871  12/12/2014  12/18/2014   \n",
       "9968        9968    9969  CA-2014-153871  12/12/2014  12/18/2014   \n",
       "9969        9969    9970  CA-2014-153871  12/12/2014  12/18/2014   \n",
       "9970        9970    9971  CA-2012-103772   6/28/2012    7/2/2012   \n",
       "9971        9971    9972  CA-2012-103772   6/28/2012    7/2/2012   \n",
       "9972        9972    9973  CA-2013-130225   9/12/2013   9/18/2013   \n",
       "9973        9973    9974  US-2013-103674   12/7/2013  12/11/2013   \n",
       "9974        9974    9975  US-2013-103674   12/7/2013  12/11/2013   \n",
       "9975        9975    9976  US-2013-103674   12/7/2013  12/11/2013   \n",
       "9976        9976    9977  US-2013-103674   12/7/2013  12/11/2013   \n",
       "9977        9977    9978  US-2013-103674   12/7/2013  12/11/2013   \n",
       "9978        9978    9979  US-2013-103674   12/7/2013  12/11/2013   \n",
       "9979        9979    9980  US-2013-103674   12/7/2013  12/11/2013   \n",
       "9980        9980    9981  US-2012-151435    9/6/2012    9/9/2012   \n",
       "9981        9981    9982  CA-2014-163566    8/4/2014    8/7/2014   \n",
       "9982        9982    9983  US-2013-157728   9/23/2013   9/29/2013   \n",
       "9983        9983    9984  US-2013-157728   9/23/2013   9/29/2013   \n",
       "9984        9984    9985  CA-2012-100251   5/17/2012   5/23/2012   \n",
       "9985        9985    9986  CA-2012-100251   5/17/2012   5/23/2012   \n",
       "9986        9986    9987  CA-2013-125794   9/30/2013   10/4/2013   \n",
       "9987        9987    9988  CA-2014-163629  11/18/2014  11/22/2014   \n",
       "9988        9988    9989  CA-2014-163629  11/18/2014  11/22/2014   \n",
       "9989        9989    9990  CA-2011-110422   1/22/2011   1/24/2011   \n",
       "9990        9990    9991  CA-2014-121258   2/27/2014    3/4/2014   \n",
       "9991        9991    9992  CA-2014-121258   2/27/2014    3/4/2014   \n",
       "9992        9992    9993  CA-2014-121258   2/27/2014    3/4/2014   \n",
       "9993        9993    9994  CA-2014-119914    5/5/2014   5/10/2014   \n",
       "\n",
       "           Ship Mode Customer ID       Customer Name      Segment  \\\n",
       "0       Second Class    CG-12520         Claire Gute     Consumer   \n",
       "1       Second Class    CG-12520         Claire Gute     Consumer   \n",
       "2       Second Class    DV-13045     Darrin Van Huff    Corporate   \n",
       "3     Standard Class    SO-20335      Sean O'Donnell     Consumer   \n",
       "4     Standard Class    SO-20335      Sean O'Donnell     Consumer   \n",
       "5     Standard Class    BH-11710     Brosina Hoffman     Consumer   \n",
       "6     Standard Class    BH-11710     Brosina Hoffman     Consumer   \n",
       "7     Standard Class    BH-11710     Brosina Hoffman     Consumer   \n",
       "8     Standard Class    BH-11710     Brosina Hoffman     Consumer   \n",
       "9     Standard Class    BH-11710     Brosina Hoffman     Consumer   \n",
       "10    Standard Class    BH-11710     Brosina Hoffman     Consumer   \n",
       "11    Standard Class    BH-11710     Brosina Hoffman     Consumer   \n",
       "12    Standard Class    AA-10480        Andrew Allen     Consumer   \n",
       "13    Standard Class    IM-15070        Irene Maddox     Consumer   \n",
       "14    Standard Class    HP-14815       Harold Pawlan  Home Office   \n",
       "15    Standard Class    HP-14815       Harold Pawlan  Home Office   \n",
       "16    Standard Class    PK-19075           Pete Kriz     Consumer   \n",
       "17      Second Class    AG-10270     Alejandro Grove     Consumer   \n",
       "18      Second Class    ZD-21925  Zuschuss Donatelli     Consumer   \n",
       "19      Second Class    ZD-21925  Zuschuss Donatelli     Consumer   \n",
       "20      Second Class    ZD-21925  Zuschuss Donatelli     Consumer   \n",
       "21    Standard Class    KB-16585           Ken Black    Corporate   \n",
       "22    Standard Class    KB-16585           Ken Black    Corporate   \n",
       "23      Second Class    SF-20065     Sandra Flanagan     Consumer   \n",
       "24    Standard Class    EB-13870         Emily Burns     Consumer   \n",
       "25      Second Class    EH-13945       Eric Hoffmann     Consumer   \n",
       "26      Second Class    EH-13945       Eric Hoffmann     Consumer   \n",
       "27    Standard Class    TB-21520     Tracy Blumstein     Consumer   \n",
       "28    Standard Class    TB-21520     Tracy Blumstein     Consumer   \n",
       "29    Standard Class    TB-21520     Tracy Blumstein     Consumer   \n",
       "...              ...         ...                 ...          ...   \n",
       "9964    Second Class    HE-14800        Harold Engle    Corporate   \n",
       "9965    Second Class    HE-14800        Harold Engle    Corporate   \n",
       "9966    Second Class    HE-14800        Harold Engle    Corporate   \n",
       "9967  Standard Class    RB-19435     Richard Bierner     Consumer   \n",
       "9968  Standard Class    RB-19435     Richard Bierner     Consumer   \n",
       "9969  Standard Class    RB-19435     Richard Bierner     Consumer   \n",
       "9970  Standard Class    MP-17470         Mark Packer  Home Office   \n",
       "9971  Standard Class    MP-17470         Mark Packer  Home Office   \n",
       "9972  Standard Class    RC-19960          Ryan Crowe     Consumer   \n",
       "9973  Standard Class    AP-10720          Anne Pryor  Home Office   \n",
       "9974  Standard Class    AP-10720          Anne Pryor  Home Office   \n",
       "9975  Standard Class    AP-10720          Anne Pryor  Home Office   \n",
       "9976  Standard Class    AP-10720          Anne Pryor  Home Office   \n",
       "9977  Standard Class    AP-10720          Anne Pryor  Home Office   \n",
       "9978  Standard Class    AP-10720          Anne Pryor  Home Office   \n",
       "9979  Standard Class    AP-10720          Anne Pryor  Home Office   \n",
       "9980    Second Class    SW-20455         Shaun Weien     Consumer   \n",
       "9981     First Class    TB-21055     Ted Butterfield     Consumer   \n",
       "9982  Standard Class    RC-19960          Ryan Crowe     Consumer   \n",
       "9983  Standard Class    RC-19960          Ryan Crowe     Consumer   \n",
       "9984  Standard Class    DV-13465    Dianna Vittorini     Consumer   \n",
       "9985  Standard Class    DV-13465    Dianna Vittorini     Consumer   \n",
       "9986  Standard Class    ML-17410        Maris LaWare     Consumer   \n",
       "9987  Standard Class    RA-19885        Ruben Ausman    Corporate   \n",
       "9988  Standard Class    RA-19885        Ruben Ausman    Corporate   \n",
       "9989    Second Class    TB-21400    Tom Boeckenhauer     Consumer   \n",
       "9990  Standard Class    DB-13060         Dave Brooks     Consumer   \n",
       "9991  Standard Class    DB-13060         Dave Brooks     Consumer   \n",
       "9992  Standard Class    DB-13060         Dave Brooks     Consumer   \n",
       "9993    Second Class    CC-12220        Chris Cortes     Consumer   \n",
       "\n",
       "            Country  ... Postal Code   Region       Product ID  \\\n",
       "0     United States  ...       42420    South  FUR-BO-10001798   \n",
       "1     United States  ...       42420    South  FUR-CH-10000454   \n",
       "2     United States  ...       90036     West  OFF-LA-10000240   \n",
       "3     United States  ...       33311    South  FUR-TA-10000577   \n",
       "4     United States  ...       33311    South  OFF-ST-10000760   \n",
       "5     United States  ...       90032     West  FUR-FU-10001487   \n",
       "6     United States  ...       90032     West  OFF-AR-10002833   \n",
       "7     United States  ...       90032     West  TEC-PH-10002275   \n",
       "8     United States  ...       90032     West  OFF-BI-10003910   \n",
       "9     United States  ...       90032     West  OFF-AP-10002892   \n",
       "10    United States  ...       90032     West  FUR-TA-10001539   \n",
       "11    United States  ...       90032     West  TEC-PH-10002033   \n",
       "12    United States  ...       28027    South  OFF-PA-10002365   \n",
       "13    United States  ...       98103     West  OFF-BI-10003656   \n",
       "14    United States  ...       76106  Central  OFF-AP-10002311   \n",
       "15    United States  ...       76106  Central  OFF-BI-10000756   \n",
       "16    United States  ...       53711  Central  OFF-ST-10004186   \n",
       "17    United States  ...       84084     West  OFF-ST-10000107   \n",
       "18    United States  ...       94109     West  OFF-AR-10003056   \n",
       "19    United States  ...       94109     West  TEC-PH-10001949   \n",
       "20    United States  ...       94109     West  OFF-BI-10002215   \n",
       "21    United States  ...       68025  Central  OFF-AR-10000246   \n",
       "22    United States  ...       68025  Central  OFF-AP-10001492   \n",
       "23    United States  ...       19140     East  FUR-CH-10002774   \n",
       "24    United States  ...       84057     West  FUR-TA-10000577   \n",
       "25    United States  ...       90049     West  OFF-BI-10001634   \n",
       "26    United States  ...       90049     West  TEC-AC-10003027   \n",
       "27    United States  ...       19140     East  FUR-BO-10004834   \n",
       "28    United States  ...       19140     East  OFF-BI-10000474   \n",
       "29    United States  ...       19140     East  FUR-FU-10004848   \n",
       "...             ...  ...         ...      ...              ...   \n",
       "9964  United States  ...       19711     East  FUR-FU-10002671   \n",
       "9965  United States  ...       19711     East  OFF-PA-10000349   \n",
       "9966  United States  ...       19711     East  OFF-EN-10004483   \n",
       "9967  United States  ...        7060     East  OFF-BI-10004209   \n",
       "9968  United States  ...        7060     East  OFF-BI-10004600   \n",
       "9969  United States  ...        7060     East  OFF-AP-10003622   \n",
       "9970  United States  ...       30080    South  OFF-BI-10002867   \n",
       "9971  United States  ...       30080    South  OFF-AR-10000538   \n",
       "9972  United States  ...       77041  Central  OFF-EN-10000056   \n",
       "9973  United States  ...       90032     West  TEC-PH-10004080   \n",
       "9974  United States  ...       90032     West  OFF-AR-10004752   \n",
       "9975  United States  ...       90032     West  OFF-PA-10000743   \n",
       "9976  United States  ...       90032     West  TEC-PH-10002496   \n",
       "9977  United States  ...       90032     West  OFF-FA-10003467   \n",
       "9978  United States  ...       90032     West  OFF-BI-10003727   \n",
       "9979  United States  ...       90032     West  OFF-BI-10002026   \n",
       "9980  United States  ...       70506    South  FUR-TA-10001039   \n",
       "9981  United States  ...       45014     East  OFF-LA-10004484   \n",
       "9982  United States  ...       49505  Central  OFF-PA-10002195   \n",
       "9983  United States  ...       49505  Central  TEC-PH-10001305   \n",
       "9984  United States  ...       11561     East  OFF-LA-10003766   \n",
       "9985  United States  ...       11561     East  OFF-SU-10000898   \n",
       "9986  United States  ...       90008     West  TEC-AC-10003399   \n",
       "9987  United States  ...       30605    South  TEC-AC-10001539   \n",
       "9988  United States  ...       30605    South  TEC-PH-10004006   \n",
       "9989  United States  ...       33180    South  FUR-FU-10001889   \n",
       "9990  United States  ...       92627     West  FUR-FU-10000747   \n",
       "9991  United States  ...       92627     West  TEC-PH-10003645   \n",
       "9992  United States  ...       92627     West  OFF-PA-10004041   \n",
       "9993  United States  ...       92683     West  OFF-AP-10002684   \n",
       "\n",
       "             Category Sub-Category  \\\n",
       "0           Furniture    Bookcases   \n",
       "1           Furniture       Chairs   \n",
       "2     Office Supplies       Labels   \n",
       "3           Furniture       Tables   \n",
       "4     Office Supplies      Storage   \n",
       "5           Furniture  Furnishings   \n",
       "6     Office Supplies          Art   \n",
       "7          Technology       Phones   \n",
       "8     Office Supplies      Binders   \n",
       "9     Office Supplies   Appliances   \n",
       "10          Furniture       Tables   \n",
       "11         Technology       Phones   \n",
       "12    Office Supplies        Paper   \n",
       "13    Office Supplies      Binders   \n",
       "14    Office Supplies   Appliances   \n",
       "15    Office Supplies      Binders   \n",
       "16    Office Supplies      Storage   \n",
       "17    Office Supplies      Storage   \n",
       "18    Office Supplies          Art   \n",
       "19         Technology       Phones   \n",
       "20    Office Supplies      Binders   \n",
       "21    Office Supplies          Art   \n",
       "22    Office Supplies   Appliances   \n",
       "23          Furniture       Chairs   \n",
       "24          Furniture       Tables   \n",
       "25    Office Supplies      Binders   \n",
       "26         Technology  Accessories   \n",
       "27          Furniture    Bookcases   \n",
       "28    Office Supplies      Binders   \n",
       "29          Furniture  Furnishings   \n",
       "...               ...          ...   \n",
       "9964        Furniture  Furnishings   \n",
       "9965  Office Supplies        Paper   \n",
       "9966  Office Supplies    Envelopes   \n",
       "9967  Office Supplies      Binders   \n",
       "9968  Office Supplies      Binders   \n",
       "9969  Office Supplies   Appliances   \n",
       "9970  Office Supplies      Binders   \n",
       "9971  Office Supplies          Art   \n",
       "9972  Office Supplies    Envelopes   \n",
       "9973       Technology       Phones   \n",
       "9974  Office Supplies          Art   \n",
       "9975  Office Supplies        Paper   \n",
       "9976       Technology       Phones   \n",
       "9977  Office Supplies    Fasteners   \n",
       "9978  Office Supplies      Binders   \n",
       "9979  Office Supplies      Binders   \n",
       "9980        Furniture       Tables   \n",
       "9981  Office Supplies       Labels   \n",
       "9982  Office Supplies        Paper   \n",
       "9983       Technology       Phones   \n",
       "9984  Office Supplies       Labels   \n",
       "9985  Office Supplies     Supplies   \n",
       "9986       Technology  Accessories   \n",
       "9987       Technology  Accessories   \n",
       "9988       Technology       Phones   \n",
       "9989        Furniture  Furnishings   \n",
       "9990        Furniture  Furnishings   \n",
       "9991       Technology       Phones   \n",
       "9992  Office Supplies        Paper   \n",
       "9993  Office Supplies   Appliances   \n",
       "\n",
       "                                           Product Name      Sales Quantity  \\\n",
       "0                     Bush Somerset Collection Bookcase   261.9600        2   \n",
       "1     Hon Deluxe Fabric Upholstered Stacking Chairs,...   731.9400        3   \n",
       "2     Self-Adhesive Address Labels for Typewriters b...    14.6200        2   \n",
       "3         Bretford CR4500 Series Slim Rectangular Table   957.5775        5   \n",
       "4                        Eldon Fold 'N Roll Cart System    22.3680        2   \n",
       "5     Eldon Expressions Wood and Plastic Desk Access...    48.8600        7   \n",
       "6                                            Newell 322     7.2800        4   \n",
       "7                        Mitel 5320 IP Phone VoIP phone   907.1520        6   \n",
       "8     DXL Angle-View Binders with Locking Rings by S...    18.5040        3   \n",
       "9                      Belkin F5C206VTEL 6 Outlet Surge   114.9000        5   \n",
       "10             Chromcraft Rectangular Conference Tables  1706.1840        9   \n",
       "11        Konftel 250 Conference phone - Charcoal black   911.4240        4   \n",
       "12                                           Xerox 1967    15.5520        3   \n",
       "13          Fellowes PB200 Plastic Comb Binding Machine   407.9760        3   \n",
       "14    Holmes Replacement Filter for HEPA Air Cleaner...    68.8100        5   \n",
       "15     Storex DuraTech Recycled Plastic Frosted Binders     2.5440        3   \n",
       "16    Stur-D-Stor Shelving, Vertical 5-Shelf: 72\"H x...   665.8800        6   \n",
       "17                           Fellowes Super Stor/Drawer    55.5000        2   \n",
       "18                                           Newell 341     8.5600        2   \n",
       "19                              Cisco SPA 501G IP Phone   213.4800        3   \n",
       "20          Wilson Jones Hanging View Binder, White, 1\"    22.7200        4   \n",
       "21                                           Newell 318    19.4600        7   \n",
       "22          Acco Six-Outlet Power Strip, 4' Cord Length    60.3400        7   \n",
       "23                   Global Deluxe Stacking Chair, Gray    71.3720        2   \n",
       "24        Bretford CR4500 Series Slim Rectangular Table  1044.6300        3   \n",
       "25                      Wilson Jones Active Use Binders    11.6480        2   \n",
       "26     Imation 8GB Mini TravelDrive USB 2.0 Flash Drive    90.5700        3   \n",
       "27    Riverside Palais Royal Lawyers Bookcase, Royal...  3083.4300        7   \n",
       "28    Avery Recycled Flexi-View Covers for Binding S...     9.6180        2   \n",
       "29    Howard Miller 13-3/4\" Diameter Brushed Chrome ...   124.2000        3   \n",
       "...                                                 ...        ...      ...   \n",
       "9964  Electrix 20W Halogen Replacement Bulb for Zoom...    13.4000        1   \n",
       "9965                                  Easy-staple paper     4.9800        1   \n",
       "9966         #10 White Business Envelopes,4 1/8 x 9 1/2   109.6900        7   \n",
       "9967            Fellowes Twister Kit, Gray/Clear, 3/pkg    40.2000        5   \n",
       "9968          Ibico Ibimaster 300 Manual Binding System   735.9800        2   \n",
       "9969  Bravo II Megaboss 12-Amp Hard Body Upright, Re...    22.7500        7   \n",
       "9970            GBC Recycled Regency Composition Covers   119.5600        2   \n",
       "9971  Boston Model 1800 Electric Pencil Sharpener, Gray   140.7500        5   \n",
       "9972                        Cameo Buff Policy Envelopes    99.5680        2   \n",
       "9973                           Avaya 5410 Digital phone   271.9600        5   \n",
       "9974                               Blackstonian Pencils    18.6900        7   \n",
       "9975                                         Xerox 1977    13.3600        2   \n",
       "9976                                       Cisco SPA301   249.5840        2   \n",
       "9977           Alliance Big Bands Rubber Bands, 12/Pack    13.8600        7   \n",
       "9978  Avery Durable Slant Ring Binders With Label Ho...    13.3760        4   \n",
       "9979                  Ibico Recycled Linen-Style Covers   437.4720       14   \n",
       "9980                         KI Adjustable-Height Table    85.9800        1   \n",
       "9981                                          Avery 476    16.5200        5   \n",
       "9982  RSVP Cards & Envelopes, Blank White, 8-1/2\" X ...    35.5600        7   \n",
       "9983                   Panasonic KX TS208W Corded phone    97.9800        2   \n",
       "9984                     Self-Adhesive Removable Labels    31.5000       10   \n",
       "9985  Acme Hot Forged Carbon Steel Scissors with Nic...    55.6000        4   \n",
       "9986  Memorex Mini Travel Drive 64 GB USB 2.0 Flash ...    36.2400        1   \n",
       "9987  Logitech G430 Surround Sound Gaming Headset wi...    79.9900        1   \n",
       "9988                    Panasonic KX - TS880B Telephone   206.1000        5   \n",
       "9989                             Ultra Door Pull Handle    25.2480        3   \n",
       "9990  Tenex B1-RE Series Chair Mats for Low Pile Car...    91.9600        2   \n",
       "9991                              Aastra 57i VoIP phone   258.5760        2   \n",
       "9992  It's Hot Message Books with Stickers, 2 3/4\" x 5\"    29.6000        4   \n",
       "9993  Acco 7-Outlet Masterpiece Power Center, Wihtou...   243.1600        2   \n",
       "\n",
       "      Discount     Profit  \n",
       "0         0.00    41.9136  \n",
       "1         0.00   219.5820  \n",
       "2         0.00     6.8714  \n",
       "3         0.45  -383.0310  \n",
       "4         0.20     2.5164  \n",
       "5         0.00    14.1694  \n",
       "6         0.00     1.9656  \n",
       "7         0.20    90.7152  \n",
       "8         0.20     5.7825  \n",
       "9         0.00    34.4700  \n",
       "10        0.20    85.3092  \n",
       "11        0.20    68.3568  \n",
       "12        0.20     5.4432  \n",
       "13        0.20   132.5922  \n",
       "14        0.80  -123.8580  \n",
       "15        0.80    -3.8160  \n",
       "16        0.00    13.3176  \n",
       "17        0.00     9.9900  \n",
       "18        0.00     2.4824  \n",
       "19        0.20    16.0110  \n",
       "20        0.20     7.3840  \n",
       "21        0.00     5.0596  \n",
       "22        0.00    15.6884  \n",
       "23        0.30    -1.0196  \n",
       "24        0.00   240.2649  \n",
       "25        0.20     4.2224  \n",
       "26        0.00    11.7741  \n",
       "27        0.50 -1665.0522  \n",
       "28        0.70    -7.0532  \n",
       "29        0.20    15.5250  \n",
       "...        ...        ...  \n",
       "9964      0.00     6.4320  \n",
       "9965      0.00     2.3406  \n",
       "9966      0.00    51.5543  \n",
       "9967      0.00    18.0900  \n",
       "9968      0.00   331.1910  \n",
       "9969      0.00     6.5975  \n",
       "9970      0.00    54.9976  \n",
       "9971      0.00    42.2250  \n",
       "9972      0.20    33.6042  \n",
       "9973      0.20    27.1960  \n",
       "9974      0.00     5.2332  \n",
       "9975      0.00     6.4128  \n",
       "9976      0.20    31.1980  \n",
       "9977      0.00     0.0000  \n",
       "9978      0.20     4.6816  \n",
       "9979      0.20   153.1152  \n",
       "9980      0.00    22.3548  \n",
       "9981      0.20     5.3690  \n",
       "9982      0.00    16.7132  \n",
       "9983      0.00    27.4344  \n",
       "9984      0.00    15.1200  \n",
       "9985      0.00    16.1240  \n",
       "9986      0.00    15.2208  \n",
       "9987      0.00    28.7964  \n",
       "9988      0.00    55.6470  \n",
       "9989      0.20     4.1028  \n",
       "9990      0.00    15.6332  \n",
       "9991      0.20    19.3932  \n",
       "9992      0.00    13.3200  \n",
       "9993      0.00    72.9480  \n",
       "\n",
       "[9994 rows x 22 columns]"
      ]
     },
     "execution_count": 17,
     "metadata": {},
     "output_type": "execute_result"
    }
   ],
   "source": [
    "#all observations\n",
    "data"
   ]
  },
  {
   "cell_type": "code",
   "execution_count": 20,
   "metadata": {},
   "outputs": [
    {
     "data": {
      "text/html": [
       "<div>\n",
       "<style scoped>\n",
       "    .dataframe tbody tr th:only-of-type {\n",
       "        vertical-align: middle;\n",
       "    }\n",
       "\n",
       "    .dataframe tbody tr th {\n",
       "        vertical-align: top;\n",
       "    }\n",
       "\n",
       "    .dataframe thead th {\n",
       "        text-align: right;\n",
       "    }\n",
       "</style>\n",
       "<table border=\"1\" class=\"dataframe\">\n",
       "  <thead>\n",
       "    <tr style=\"text-align: right;\">\n",
       "      <th></th>\n",
       "      <th>Unnamed: 0</th>\n",
       "      <th>Row ID</th>\n",
       "      <th>Order ID</th>\n",
       "      <th>Order Date</th>\n",
       "      <th>Ship Date</th>\n",
       "      <th>Ship Mode</th>\n",
       "      <th>Customer ID</th>\n",
       "      <th>Customer Name</th>\n",
       "      <th>Segment</th>\n",
       "      <th>Country</th>\n",
       "      <th>...</th>\n",
       "      <th>Postal Code</th>\n",
       "      <th>Region</th>\n",
       "      <th>Product ID</th>\n",
       "      <th>Category</th>\n",
       "      <th>Sub-Category</th>\n",
       "      <th>Product Name</th>\n",
       "      <th>Sales</th>\n",
       "      <th>Quantity</th>\n",
       "      <th>Discount</th>\n",
       "      <th>Profit</th>\n",
       "    </tr>\n",
       "  </thead>\n",
       "  <tbody>\n",
       "    <tr>\n",
       "      <th>9992</th>\n",
       "      <td>9992</td>\n",
       "      <td>9993</td>\n",
       "      <td>CA-2014-121258</td>\n",
       "      <td>2/27/2014</td>\n",
       "      <td>3/4/2014</td>\n",
       "      <td>Standard Class</td>\n",
       "      <td>DB-13060</td>\n",
       "      <td>Dave Brooks</td>\n",
       "      <td>Consumer</td>\n",
       "      <td>United States</td>\n",
       "      <td>...</td>\n",
       "      <td>92627</td>\n",
       "      <td>West</td>\n",
       "      <td>OFF-PA-10004041</td>\n",
       "      <td>Office Supplies</td>\n",
       "      <td>Paper</td>\n",
       "      <td>It's Hot Message Books with Stickers, 2 3/4\" x 5\"</td>\n",
       "      <td>29.60</td>\n",
       "      <td>4</td>\n",
       "      <td>0.0</td>\n",
       "      <td>13.320</td>\n",
       "    </tr>\n",
       "    <tr>\n",
       "      <th>9993</th>\n",
       "      <td>9993</td>\n",
       "      <td>9994</td>\n",
       "      <td>CA-2014-119914</td>\n",
       "      <td>5/5/2014</td>\n",
       "      <td>5/10/2014</td>\n",
       "      <td>Second Class</td>\n",
       "      <td>CC-12220</td>\n",
       "      <td>Chris Cortes</td>\n",
       "      <td>Consumer</td>\n",
       "      <td>United States</td>\n",
       "      <td>...</td>\n",
       "      <td>92683</td>\n",
       "      <td>West</td>\n",
       "      <td>OFF-AP-10002684</td>\n",
       "      <td>Office Supplies</td>\n",
       "      <td>Appliances</td>\n",
       "      <td>Acco 7-Outlet Masterpiece Power Center, Wihtou...</td>\n",
       "      <td>243.16</td>\n",
       "      <td>2</td>\n",
       "      <td>0.0</td>\n",
       "      <td>72.948</td>\n",
       "    </tr>\n",
       "  </tbody>\n",
       "</table>\n",
       "<p>2 rows × 22 columns</p>\n",
       "</div>"
      ],
      "text/plain": [
       "      Unnamed: 0  Row ID        Order ID Order Date  Ship Date  \\\n",
       "9992        9992    9993  CA-2014-121258  2/27/2014   3/4/2014   \n",
       "9993        9993    9994  CA-2014-119914   5/5/2014  5/10/2014   \n",
       "\n",
       "           Ship Mode Customer ID Customer Name   Segment        Country  ...  \\\n",
       "9992  Standard Class    DB-13060   Dave Brooks  Consumer  United States  ...   \n",
       "9993    Second Class    CC-12220  Chris Cortes  Consumer  United States  ...   \n",
       "\n",
       "     Postal Code Region       Product ID         Category Sub-Category  \\\n",
       "9992       92627   West  OFF-PA-10004041  Office Supplies        Paper   \n",
       "9993       92683   West  OFF-AP-10002684  Office Supplies   Appliances   \n",
       "\n",
       "                                           Product Name   Sales Quantity  \\\n",
       "9992  It's Hot Message Books with Stickers, 2 3/4\" x 5\"   29.60        4   \n",
       "9993  Acco 7-Outlet Masterpiece Power Center, Wihtou...  243.16        2   \n",
       "\n",
       "      Discount  Profit  \n",
       "9992       0.0  13.320  \n",
       "9993       0.0  72.948  \n",
       "\n",
       "[2 rows x 22 columns]"
      ]
     },
     "execution_count": 20,
     "metadata": {},
     "output_type": "execute_result"
    }
   ],
   "source": [
    "#last 2 observations\n",
    "data.tail(2)"
   ]
  },
  {
   "cell_type": "code",
   "execution_count": 21,
   "metadata": {},
   "outputs": [
    {
     "data": {
      "text/plain": [
       "'C:\\\\Users\\\\Nithya'"
      ]
     },
     "execution_count": 21,
     "metadata": {},
     "output_type": "execute_result"
    }
   ],
   "source": [
    "#Other way to load csv file in Python\n",
    "#import os module to connect os to Python environment\n",
    "import os\n",
    "#Checking of current working directory\n",
    "os.getcwd()"
   ]
  },
  {
   "cell_type": "code",
   "execution_count": 23,
   "metadata": {},
   "outputs": [
    {
     "data": {
      "text/plain": [
       "'D:\\\\Files'"
      ]
     },
     "execution_count": 23,
     "metadata": {},
     "output_type": "execute_result"
    }
   ],
   "source": [
    "#Changing working directory\n",
    "os.chdir(\"D://Files\")\n",
    "os.getcwd()"
   ]
  },
  {
   "cell_type": "code",
   "execution_count": 26,
   "metadata": {
    "collapsed": true
   },
   "outputs": [],
   "source": [
    "#read Store.csv file\n",
    "Flight=pd.read_csv('FlightDelays.csv')"
   ]
  },
  {
   "cell_type": "code",
   "execution_count": 27,
   "metadata": {},
   "outputs": [
    {
     "data": {
      "text/html": [
       "<div>\n",
       "<style scoped>\n",
       "    .dataframe tbody tr th:only-of-type {\n",
       "        vertical-align: middle;\n",
       "    }\n",
       "\n",
       "    .dataframe tbody tr th {\n",
       "        vertical-align: top;\n",
       "    }\n",
       "\n",
       "    .dataframe thead th {\n",
       "        text-align: right;\n",
       "    }\n",
       "</style>\n",
       "<table border=\"1\" class=\"dataframe\">\n",
       "  <thead>\n",
       "    <tr style=\"text-align: right;\">\n",
       "      <th></th>\n",
       "      <th>schedtime</th>\n",
       "      <th>carrier</th>\n",
       "      <th>deptime</th>\n",
       "      <th>dest</th>\n",
       "      <th>distance</th>\n",
       "      <th>date</th>\n",
       "      <th>flightnumber</th>\n",
       "      <th>origin</th>\n",
       "      <th>weather</th>\n",
       "      <th>dayweek</th>\n",
       "      <th>daymonth</th>\n",
       "      <th>tailnu</th>\n",
       "      <th>delay</th>\n",
       "    </tr>\n",
       "  </thead>\n",
       "  <tbody>\n",
       "    <tr>\n",
       "      <th>0</th>\n",
       "      <td>1455</td>\n",
       "      <td>OH</td>\n",
       "      <td>1455</td>\n",
       "      <td>JFK</td>\n",
       "      <td>184</td>\n",
       "      <td>01-01-2004</td>\n",
       "      <td>5935</td>\n",
       "      <td>BWI</td>\n",
       "      <td>0</td>\n",
       "      <td>4</td>\n",
       "      <td>1</td>\n",
       "      <td>N940CA</td>\n",
       "      <td>ontime</td>\n",
       "    </tr>\n",
       "    <tr>\n",
       "      <th>1</th>\n",
       "      <td>1640</td>\n",
       "      <td>DH</td>\n",
       "      <td>1640</td>\n",
       "      <td>JFK</td>\n",
       "      <td>213</td>\n",
       "      <td>01-01-2004</td>\n",
       "      <td>6155</td>\n",
       "      <td>DCA</td>\n",
       "      <td>0</td>\n",
       "      <td>4</td>\n",
       "      <td>1</td>\n",
       "      <td>N405FJ</td>\n",
       "      <td>ontime</td>\n",
       "    </tr>\n",
       "  </tbody>\n",
       "</table>\n",
       "</div>"
      ],
      "text/plain": [
       "   schedtime carrier  deptime dest  distance        date  flightnumber origin  \\\n",
       "0       1455      OH     1455  JFK       184  01-01-2004          5935    BWI   \n",
       "1       1640      DH     1640  JFK       213  01-01-2004          6155    DCA   \n",
       "\n",
       "   weather  dayweek  daymonth  tailnu   delay  \n",
       "0        0        4         1  N940CA  ontime  \n",
       "1        0        4         1  N405FJ  ontime  "
      ]
     },
     "execution_count": 27,
     "metadata": {},
     "output_type": "execute_result"
    }
   ],
   "source": [
    "Flight.head(2)"
   ]
  },
  {
   "cell_type": "code",
   "execution_count": 28,
   "metadata": {},
   "outputs": [
    {
     "data": {
      "text/plain": [
       "(2201, 13)"
      ]
     },
     "execution_count": 28,
     "metadata": {},
     "output_type": "execute_result"
    }
   ],
   "source": [
    "Flight.shape"
   ]
  },
  {
   "cell_type": "markdown",
   "metadata": {},
   "source": [
    "#txt file (tab separated file)\n",
    "#read_table() helps to read txt file"
   ]
  },
  {
   "cell_type": "code",
   "execution_count": 29,
   "metadata": {},
   "outputs": [
    {
     "name": "stderr",
     "output_type": "stream",
     "text": [
      "C:\\Users\\Nithya\\Anaconda3\\lib\\site-packages\\ipykernel_launcher.py:1: FutureWarning: read_table is deprecated, use read_csv instead, passing sep='\\t'.\n",
      "  \"\"\"Entry point for launching an IPython kernel.\n"
     ]
    },
    {
     "data": {
      "text/html": [
       "<div>\n",
       "<style scoped>\n",
       "    .dataframe tbody tr th:only-of-type {\n",
       "        vertical-align: middle;\n",
       "    }\n",
       "\n",
       "    .dataframe tbody tr th {\n",
       "        vertical-align: top;\n",
       "    }\n",
       "\n",
       "    .dataframe thead th {\n",
       "        text-align: right;\n",
       "    }\n",
       "</style>\n",
       "<table border=\"1\" class=\"dataframe\">\n",
       "  <thead>\n",
       "    <tr style=\"text-align: right;\">\n",
       "      <th></th>\n",
       "      <th>Age</th>\n",
       "      <th>Customer</th>\n",
       "      <th>Income</th>\n",
       "      <th>Location</th>\n",
       "    </tr>\n",
       "  </thead>\n",
       "  <tbody>\n",
       "    <tr>\n",
       "      <th>0</th>\n",
       "      <td>30</td>\n",
       "      <td>A</td>\n",
       "      <td>1200</td>\n",
       "      <td>A1</td>\n",
       "    </tr>\n",
       "    <tr>\n",
       "      <th>1</th>\n",
       "      <td>32</td>\n",
       "      <td>B</td>\n",
       "      <td>1333</td>\n",
       "      <td>A2</td>\n",
       "    </tr>\n",
       "    <tr>\n",
       "      <th>2</th>\n",
       "      <td>33</td>\n",
       "      <td>NaN</td>\n",
       "      <td>Missing</td>\n",
       "      <td>NaN</td>\n",
       "    </tr>\n",
       "  </tbody>\n",
       "</table>\n",
       "</div>"
      ],
      "text/plain": [
       "   Age Customer   Income Location\n",
       "0   30        A     1200       A1\n",
       "1   32        B     1333       A2\n",
       "2   33      NaN  Missing      NaN"
      ]
     },
     "execution_count": 29,
     "metadata": {},
     "output_type": "execute_result"
    }
   ],
   "source": [
    "d=pd.read_table('sample1.txt')\n",
    "d.head()"
   ]
  },
  {
   "cell_type": "code",
   "execution_count": 30,
   "metadata": {},
   "outputs": [
    {
     "data": {
      "text/html": [
       "<div>\n",
       "<style scoped>\n",
       "    .dataframe tbody tr th:only-of-type {\n",
       "        vertical-align: middle;\n",
       "    }\n",
       "\n",
       "    .dataframe tbody tr th {\n",
       "        vertical-align: top;\n",
       "    }\n",
       "\n",
       "    .dataframe thead th {\n",
       "        text-align: right;\n",
       "    }\n",
       "</style>\n",
       "<table border=\"1\" class=\"dataframe\">\n",
       "  <thead>\n",
       "    <tr style=\"text-align: right;\">\n",
       "      <th></th>\n",
       "      <th>Age</th>\n",
       "      <th>Customer</th>\n",
       "      <th>Income</th>\n",
       "      <th>Location</th>\n",
       "    </tr>\n",
       "  </thead>\n",
       "  <tbody>\n",
       "    <tr>\n",
       "      <th>0</th>\n",
       "      <td>30</td>\n",
       "      <td>A</td>\n",
       "      <td>1200</td>\n",
       "      <td>A1</td>\n",
       "    </tr>\n",
       "    <tr>\n",
       "      <th>1</th>\n",
       "      <td>32</td>\n",
       "      <td>B</td>\n",
       "      <td>1333</td>\n",
       "      <td>A2</td>\n",
       "    </tr>\n",
       "  </tbody>\n",
       "</table>\n",
       "</div>"
      ],
      "text/plain": [
       "   Age Customer Income Location\n",
       "0   30        A   1200       A1\n",
       "1   32        B   1333       A2"
      ]
     },
     "execution_count": 30,
     "metadata": {},
     "output_type": "execute_result"
    }
   ],
   "source": [
    "sample=pd.read_csv('sample1.txt',sep ='\\t')\n",
    "sample.head(2)"
   ]
  },
  {
   "cell_type": "code",
   "execution_count": 36,
   "metadata": {},
   "outputs": [
    {
     "name": "stdout",
     "output_type": "stream",
     "text": [
      "D:\\Files\n"
     ]
    }
   ],
   "source": [
    "print(os.getcwd())\n",
    "#candidates.csv stores in \"D://Files//Files1\"\n",
    "#pd.read_csv(\"Files1//candidates.csv\")\n",
    "#pd.read_csv(\"Files2//contributions.csv\")"
   ]
  },
  {
   "cell_type": "code",
   "execution_count": null,
   "metadata": {
    "collapsed": true
   },
   "outputs": [],
   "source": [
    "#read xlsx files"
   ]
  },
  {
   "cell_type": "code",
   "execution_count": 37,
   "metadata": {},
   "outputs": [
    {
     "data": {
      "text/html": [
       "<div>\n",
       "<style scoped>\n",
       "    .dataframe tbody tr th:only-of-type {\n",
       "        vertical-align: middle;\n",
       "    }\n",
       "\n",
       "    .dataframe tbody tr th {\n",
       "        vertical-align: top;\n",
       "    }\n",
       "\n",
       "    .dataframe thead th {\n",
       "        text-align: right;\n",
       "    }\n",
       "</style>\n",
       "<table border=\"1\" class=\"dataframe\">\n",
       "  <thead>\n",
       "    <tr style=\"text-align: right;\">\n",
       "      <th></th>\n",
       "      <th>id</th>\n",
       "      <th>member_id</th>\n",
       "      <th>loan_amnt</th>\n",
       "      <th>funded_amnt</th>\n",
       "      <th>funded_amnt_inv</th>\n",
       "      <th>int_rate</th>\n",
       "      <th>installment</th>\n",
       "      <th>grade</th>\n",
       "      <th>sub_grade</th>\n",
       "      <th>is_inc_v</th>\n",
       "      <th>accept_d</th>\n",
       "      <th>issue_d</th>\n",
       "      <th>loan_status</th>\n",
       "    </tr>\n",
       "  </thead>\n",
       "  <tbody>\n",
       "    <tr>\n",
       "      <th>0</th>\n",
       "      <td>54734</td>\n",
       "      <td>80364</td>\n",
       "      <td>25000</td>\n",
       "      <td>25000</td>\n",
       "      <td>19419.94</td>\n",
       "      <td>0.1189</td>\n",
       "      <td>829.10</td>\n",
       "      <td>B</td>\n",
       "      <td>B4</td>\n",
       "      <td>True</td>\n",
       "      <td>2009-07-26</td>\n",
       "      <td>2009-08-05</td>\n",
       "      <td>Fully Paid</td>\n",
       "    </tr>\n",
       "    <tr>\n",
       "      <th>1</th>\n",
       "      <td>55742</td>\n",
       "      <td>114426</td>\n",
       "      <td>7000</td>\n",
       "      <td>7000</td>\n",
       "      <td>6549.40</td>\n",
       "      <td>0.1071</td>\n",
       "      <td>228.22</td>\n",
       "      <td>B</td>\n",
       "      <td>B5</td>\n",
       "      <td>False</td>\n",
       "      <td>2008-05-12</td>\n",
       "      <td>2008-05-27</td>\n",
       "      <td>Fully Paid</td>\n",
       "    </tr>\n",
       "  </tbody>\n",
       "</table>\n",
       "</div>"
      ],
      "text/plain": [
       "      id  member_id  loan_amnt  funded_amnt  funded_amnt_inv  int_rate  \\\n",
       "0  54734      80364      25000        25000         19419.94    0.1189   \n",
       "1  55742     114426       7000         7000          6549.40    0.1071   \n",
       "\n",
       "   installment grade sub_grade  is_inc_v   accept_d    issue_d loan_status  \n",
       "0       829.10     B        B4      True 2009-07-26 2009-08-05  Fully Paid  \n",
       "1       228.22     B        B5     False 2008-05-12 2008-05-27  Fully Paid  "
      ]
     },
     "execution_count": 37,
     "metadata": {},
     "output_type": "execute_result"
    }
   ],
   "source": [
    "e=pd.read_excel(\"Loandetails.xlsx\")\n",
    "e.head(2)"
   ]
  },
  {
   "cell_type": "code",
   "execution_count": 39,
   "metadata": {},
   "outputs": [
    {
     "data": {
      "text/plain": [
       "(11825, 13)"
      ]
     },
     "execution_count": 39,
     "metadata": {},
     "output_type": "execute_result"
    }
   ],
   "source": [
    "e.shape"
   ]
  },
  {
   "cell_type": "code",
   "execution_count": 40,
   "metadata": {},
   "outputs": [
    {
     "data": {
      "text/plain": [
       "['.RData',\n",
       " '.Rhistory',\n",
       " '1__RA3mCS30Pr0vUxbp25Yxw.png',\n",
       " '5th April - Basic Python.zip',\n",
       " '5th April - Store.csv',\n",
       " '5th April - wines.xlsx',\n",
       " 'advanced stat.R',\n",
       " 'Adv_Hyp_GradedAssignmentSol_1.docx',\n",
       " 'Airlines_Data-1.csv',\n",
       " 'amesterdem.csv',\n",
       " 'amesterden.csv',\n",
       " 'amsterdam.json',\n",
       " 'audit.csv',\n",
       " 'Automobile data.csv',\n",
       " 'Automobile_data.csv',\n",
       " 'barley.csv',\n",
       " 'Baseball.csv',\n",
       " 'BH.csv',\n",
       " 'boston_prices.csv',\n",
       " 'Business Statistics - Non Graded Assignment.xlsx',\n",
       " 'Campaign_File.txt',\n",
       " 'Canada.xlsx',\n",
       " 'candidates.csv',\n",
       " 'Cars_Retail_Price.xlsx',\n",
       " 'categoricalprofile.csv',\n",
       " 'City.ipynb',\n",
       " 'class.docx',\n",
       " 'classifiers.R',\n",
       " 'comey.csv',\n",
       " 'continousprofiles.csv',\n",
       " 'contributions.csv',\n",
       " 'copy.txt',\n",
       " 'corr_matrix_incl_anno_double.png',\n",
       " 'Credit Card - SAS Functions.csv',\n",
       " 'Credit.csv',\n",
       " 'credit.csv-data dictionary.xlsx',\n",
       " 'credit_history.csv',\n",
       " 'Cricket_Data-2.xlsx',\n",
       " 'customers.xlsx',\n",
       " 'Data Dic_oj.xlsx',\n",
       " 'Data Quality Report.csv',\n",
       " 'Data Visualization Graded Case Study Dataset.xlsx',\n",
       " 'dataquality.csv',\n",
       " 'Dataset.xlsx',\n",
       " 'day.csv',\n",
       " 'Deciled Usable Continuous variables.csv',\n",
       " 'Decisin tree.txt',\n",
       " 'decisiontree.r',\n",
       " 'DirectMarketing.csv',\n",
       " 'dm-1.csv',\n",
       " 'dqr.csv',\n",
       " 'earthquake_report.csv',\n",
       " 'Ecommerce-Purchases.csv',\n",
       " 'Ecommerce-Purchases.xls',\n",
       " 'Ecommerce_Purchases',\n",
       " 'Employee_Details-0.5 KB.csv',\n",
       " 'essays_Audit.csv',\n",
       " 'Event Rate - Categorical variables1.csv',\n",
       " 'Event Rate - Categorical variables2.csv',\n",
       " 'example_1.json',\n",
       " 'FAQs.html',\n",
       " 'FAQs.Rmd',\n",
       " 'file.csv',\n",
       " 'Files',\n",
       " 'Files1',\n",
       " 'final_data',\n",
       " 'first.xlsx',\n",
       " 'FlightDelays.csv',\n",
       " 'functions_examples.csv',\n",
       " 'Gokhale Project Similarities.csv',\n",
       " 'Gokhale-Project Similarities.csv',\n",
       " 'Gokhale-Project Similarities.xlsx',\n",
       " 'Gokhale.csv',\n",
       " 'Gokhalep.csv',\n",
       " 'GOODBAD.CSV',\n",
       " 'goodforu-variable-descriptions-class13.xlsx',\n",
       " 'hr.csv',\n",
       " 'img_name',\n",
       " 'Insurance Dataset.xlsx',\n",
       " 'insurance.csv',\n",
       " 'iris.csv',\n",
       " 'json file.txt',\n",
       " 'K means-Images',\n",
       " 'kavya.R',\n",
       " 'LC - 12 Oct.csv',\n",
       " 'LCDataDictionary - 12 Oct.xlsx',\n",
       " 'Loandetails.xlsx',\n",
       " 'milk.csv',\n",
       " 'MMix.csv',\n",
       " 'MMwoes.csv',\n",
       " 'model.rda',\n",
       " 'names.csv',\n",
       " 'New Microsoft Word Document.docx',\n",
       " 'New Text Document.txt',\n",
       " 'new.xlsx',\n",
       " 'new1.xlsx',\n",
       " 'newfile.csv',\n",
       " 'nithya.txt',\n",
       " 'NYSE_dividends.tsv',\n",
       " 'Oozie',\n",
       " 'outcomes_Audit.csv',\n",
       " 'pet_licenses.rda',\n",
       " 'pred (1)-Devangiri.csv',\n",
       " 'pred.csv',\n",
       " 'Products_File.txt',\n",
       " 'projects_Audit.csv',\n",
       " 'read.csv',\n",
       " 'regression.csv',\n",
       " 'retailmcq.csv',\n",
       " 'Retail_Sales-2 KB.csv',\n",
       " 'retail_sales.csv',\n",
       " 'Rplot.png',\n",
       " 's.csv',\n",
       " 'Salaries.csv',\n",
       " 'Sample Data quality report.xlsx',\n",
       " 'sample.txt',\n",
       " 'sample1.txt',\n",
       " 'Sampledataframe.csv',\n",
       " 'sampletelecomfinal.csv',\n",
       " 'Sample_file.csv',\n",
       " 'Sample_SAS-1.3 KB.csv',\n",
       " 'SAS-questions.xlsx',\n",
       " 'schools.csv',\n",
       " 'stackoverflow.csv',\n",
       " 'starbucks_final.csv',\n",
       " 'Statistics.xlsx',\n",
       " 'Store.csv',\n",
       " 'Store_Sales-0.8 KB.txt',\n",
       " 'Telco-Customer-Churn_Final (1).csv',\n",
       " 'Telco-Customer-Churn_Final.csv',\n",
       " 'telecomfinal.csv',\n",
       " 'test.csv',\n",
       " 'The World_s Most Valuable Brands List - Forbes.html',\n",
       " 'train-Titanic.csv',\n",
       " 'US Population by State.csv',\n",
       " 'Weekday Bootcamp - Feb 18th Schedule..pdf',\n",
       " 'winequality.csv',\n",
       " 'write.txt',\n",
       " 'xml.xml',\n",
       " '_RData.gz',\n",
       " '_Rhistory']"
      ]
     },
     "execution_count": 40,
     "metadata": {},
     "output_type": "execute_result"
    }
   ],
   "source": [
    "os.listdir(\"D://Files\")"
   ]
  },
  {
   "cell_type": "code",
   "execution_count": 45,
   "metadata": {},
   "outputs": [
    {
     "data": {
      "text/html": [
       "<div>\n",
       "<style scoped>\n",
       "    .dataframe tbody tr th:only-of-type {\n",
       "        vertical-align: middle;\n",
       "    }\n",
       "\n",
       "    .dataframe tbody tr th {\n",
       "        vertical-align: top;\n",
       "    }\n",
       "\n",
       "    .dataframe thead th {\n",
       "        text-align: right;\n",
       "    }\n",
       "</style>\n",
       "<table border=\"1\" class=\"dataframe\">\n",
       "  <thead>\n",
       "    <tr style=\"text-align: right;\">\n",
       "      <th></th>\n",
       "      <th>host_listings_count</th>\n",
       "      <th>accommodates</th>\n",
       "      <th>bathrooms</th>\n",
       "      <th>bedrooms</th>\n",
       "      <th>guests_included</th>\n",
       "      <th>minimum_nights</th>\n",
       "      <th>number_of_reviews</th>\n",
       "      <th>calculated_host_listings_count</th>\n",
       "      <th>price</th>\n",
       "      <th>latitude</th>\n",
       "      <th>longitude</th>\n",
       "      <th>room_type</th>\n",
       "      <th>instant_bookable</th>\n",
       "    </tr>\n",
       "  </thead>\n",
       "  <tbody>\n",
       "    <tr>\n",
       "      <th>0</th>\n",
       "      <td>1.0</td>\n",
       "      <td>6</td>\n",
       "      <td>1.0</td>\n",
       "      <td>2.0</td>\n",
       "      <td>1</td>\n",
       "      <td>3</td>\n",
       "      <td>4</td>\n",
       "      <td>1</td>\n",
       "      <td>$145.00</td>\n",
       "      <td>52.361173</td>\n",
       "      <td>4.866755</td>\n",
       "      <td>Entire home/apt</td>\n",
       "      <td>f</td>\n",
       "    </tr>\n",
       "    <tr>\n",
       "      <th>1</th>\n",
       "      <td>1.0</td>\n",
       "      <td>2</td>\n",
       "      <td>1.0</td>\n",
       "      <td>1.0</td>\n",
       "      <td>1</td>\n",
       "      <td>2</td>\n",
       "      <td>17</td>\n",
       "      <td>1</td>\n",
       "      <td>$88.00</td>\n",
       "      <td>52.370237</td>\n",
       "      <td>4.859507</td>\n",
       "      <td>Entire home/apt</td>\n",
       "      <td>f</td>\n",
       "    </tr>\n",
       "    <tr>\n",
       "      <th>10</th>\n",
       "      <td>1.0</td>\n",
       "      <td>2</td>\n",
       "      <td>1.0</td>\n",
       "      <td>1.0</td>\n",
       "      <td>1</td>\n",
       "      <td>3</td>\n",
       "      <td>0</td>\n",
       "      <td>1</td>\n",
       "      <td>$130.00</td>\n",
       "      <td>52.371424</td>\n",
       "      <td>4.848644</td>\n",
       "      <td>Entire home/apt</td>\n",
       "      <td>f</td>\n",
       "    </tr>\n",
       "  </tbody>\n",
       "</table>\n",
       "</div>"
      ],
      "text/plain": [
       "    host_listings_count  accommodates  bathrooms  bedrooms  guests_included  \\\n",
       "0                   1.0             6        1.0       2.0                1   \n",
       "1                   1.0             2        1.0       1.0                1   \n",
       "10                  1.0             2        1.0       1.0                1   \n",
       "\n",
       "    minimum_nights  number_of_reviews  calculated_host_listings_count  \\\n",
       "0                3                  4                               1   \n",
       "1                2                 17                               1   \n",
       "10               3                  0                               1   \n",
       "\n",
       "      price   latitude  longitude        room_type instant_bookable  \n",
       "0   $145.00  52.361173   4.866755  Entire home/apt                f  \n",
       "1    $88.00  52.370237   4.859507  Entire home/apt                f  \n",
       "10  $130.00  52.371424   4.848644  Entire home/apt                f  "
      ]
     },
     "execution_count": 45,
     "metadata": {},
     "output_type": "execute_result"
    }
   ],
   "source": [
    "#read json files\n",
    "ams=pd.read_json(\"amsterdam.json\")\n",
    "ams.head(3)"
   ]
  },
  {
   "cell_type": "code",
   "execution_count": 77,
   "metadata": {
    "collapsed": true
   },
   "outputs": [],
   "source": []
  },
  {
   "cell_type": "code",
   "execution_count": 60,
   "metadata": {},
   "outputs": [
    {
     "data": {
      "text/html": [
       "<div>\n",
       "<style scoped>\n",
       "    .dataframe tbody tr th:only-of-type {\n",
       "        vertical-align: middle;\n",
       "    }\n",
       "\n",
       "    .dataframe tbody tr th {\n",
       "        vertical-align: top;\n",
       "    }\n",
       "\n",
       "    .dataframe thead th {\n",
       "        text-align: right;\n",
       "    }\n",
       "</style>\n",
       "<table border=\"1\" class=\"dataframe\">\n",
       "  <thead>\n",
       "    <tr style=\"text-align: right;\">\n",
       "      <th></th>\n",
       "      <th>accommodates</th>\n",
       "    </tr>\n",
       "  </thead>\n",
       "  <tbody>\n",
       "    <tr>\n",
       "      <th>0</th>\n",
       "      <td>6</td>\n",
       "    </tr>\n",
       "    <tr>\n",
       "      <th>1</th>\n",
       "      <td>2</td>\n",
       "    </tr>\n",
       "  </tbody>\n",
       "</table>\n",
       "</div>"
      ],
      "text/plain": [
       "   accommodates\n",
       "0             6\n",
       "1             2"
      ]
     },
     "execution_count": 60,
     "metadata": {},
     "output_type": "execute_result"
    }
   ],
   "source": [
    "ams.iloc[:,[1]].head(2)"
   ]
  },
  {
   "cell_type": "code",
   "execution_count": 59,
   "metadata": {},
   "outputs": [
    {
     "data": {
      "text/plain": [
       "0    6\n",
       "1    2\n",
       "Name: accommodates, dtype: int64"
      ]
     },
     "execution_count": 59,
     "metadata": {},
     "output_type": "execute_result"
    }
   ],
   "source": [
    "ams['accommodates'].head(2)  #it returns series object"
   ]
  },
  {
   "cell_type": "code",
   "execution_count": 61,
   "metadata": {},
   "outputs": [
    {
     "data": {
      "text/plain": [
       "pandas.core.series.Series"
      ]
     },
     "execution_count": 61,
     "metadata": {},
     "output_type": "execute_result"
    }
   ],
   "source": [
    "type(ams['accommodates'])"
   ]
  },
  {
   "cell_type": "code",
   "execution_count": 64,
   "metadata": {},
   "outputs": [
    {
     "data": {
      "text/html": [
       "<div>\n",
       "<style scoped>\n",
       "    .dataframe tbody tr th:only-of-type {\n",
       "        vertical-align: middle;\n",
       "    }\n",
       "\n",
       "    .dataframe tbody tr th {\n",
       "        vertical-align: top;\n",
       "    }\n",
       "\n",
       "    .dataframe thead th {\n",
       "        text-align: right;\n",
       "    }\n",
       "</style>\n",
       "<table border=\"1\" class=\"dataframe\">\n",
       "  <thead>\n",
       "    <tr style=\"text-align: right;\">\n",
       "      <th></th>\n",
       "      <th>accommodates</th>\n",
       "    </tr>\n",
       "  </thead>\n",
       "  <tbody>\n",
       "    <tr>\n",
       "      <th>0</th>\n",
       "      <td>6</td>\n",
       "    </tr>\n",
       "    <tr>\n",
       "      <th>1</th>\n",
       "      <td>2</td>\n",
       "    </tr>\n",
       "  </tbody>\n",
       "</table>\n",
       "</div>"
      ],
      "text/plain": [
       "   accommodates\n",
       "0             6\n",
       "1             2"
      ]
     },
     "execution_count": 64,
     "metadata": {},
     "output_type": "execute_result"
    }
   ],
   "source": [
    "ams[['accommodates']].head(2) # returns DataFrame object"
   ]
  },
  {
   "cell_type": "code",
   "execution_count": 63,
   "metadata": {},
   "outputs": [
    {
     "data": {
      "text/plain": [
       "pandas.core.frame.DataFrame"
      ]
     },
     "execution_count": 63,
     "metadata": {},
     "output_type": "execute_result"
    }
   ],
   "source": [
    "type(ams[['accommodates']])"
   ]
  },
  {
   "cell_type": "code",
   "execution_count": null,
   "metadata": {
    "collapsed": true
   },
   "outputs": [],
   "source": [
    "#Export csv file\n",
    "ams.to_csv(\"E://copies//new.csv\")"
   ]
  },
  {
   "cell_type": "code",
   "execution_count": null,
   "metadata": {
    "collapsed": true
   },
   "outputs": [],
   "source": [
    "# Data frame built on series object"
   ]
  },
  {
   "cell_type": "code",
   "execution_count": null,
   "metadata": {
    "collapsed": true
   },
   "outputs": [],
   "source": []
  },
  {
   "cell_type": "markdown",
   "metadata": {},
   "source": [
    "#Exercises:\n",
    "Exercise 1: Create a DataFrame that looks like this:\n",
    "\n",
    "  Apple    Banana\n",
    "  \n",
    "0   30      21\n",
    "1   15      31"
   ]
  },
  {
   "cell_type": "code",
   "execution_count": 67,
   "metadata": {},
   "outputs": [
    {
     "data": {
      "text/html": [
       "<div>\n",
       "<style scoped>\n",
       "    .dataframe tbody tr th:only-of-type {\n",
       "        vertical-align: middle;\n",
       "    }\n",
       "\n",
       "    .dataframe tbody tr th {\n",
       "        vertical-align: top;\n",
       "    }\n",
       "\n",
       "    .dataframe thead th {\n",
       "        text-align: right;\n",
       "    }\n",
       "</style>\n",
       "<table border=\"1\" class=\"dataframe\">\n",
       "  <thead>\n",
       "    <tr style=\"text-align: right;\">\n",
       "      <th></th>\n",
       "      <th>Apple</th>\n",
       "      <th>Banana</th>\n",
       "    </tr>\n",
       "  </thead>\n",
       "  <tbody>\n",
       "    <tr>\n",
       "      <th>0</th>\n",
       "      <td>30</td>\n",
       "      <td>21</td>\n",
       "    </tr>\n",
       "    <tr>\n",
       "      <th>1</th>\n",
       "      <td>15</td>\n",
       "      <td>31</td>\n",
       "    </tr>\n",
       "  </tbody>\n",
       "</table>\n",
       "</div>"
      ],
      "text/plain": [
       "   Apple  Banana\n",
       "0     30      21\n",
       "1     15      31"
      ]
     },
     "execution_count": 67,
     "metadata": {},
     "output_type": "execute_result"
    }
   ],
   "source": [
    "d={'Apple':[30,15],'Banana':[21,31]}\n",
    "d1=pd.DataFrame(d)\n",
    "d1"
   ]
  },
  {
   "cell_type": "code",
   "execution_count": 69,
   "metadata": {},
   "outputs": [
    {
     "data": {
      "text/html": [
       "<div>\n",
       "<style scoped>\n",
       "    .dataframe tbody tr th:only-of-type {\n",
       "        vertical-align: middle;\n",
       "    }\n",
       "\n",
       "    .dataframe tbody tr th {\n",
       "        vertical-align: top;\n",
       "    }\n",
       "\n",
       "    .dataframe thead th {\n",
       "        text-align: right;\n",
       "    }\n",
       "</style>\n",
       "<table border=\"1\" class=\"dataframe\">\n",
       "  <thead>\n",
       "    <tr style=\"text-align: right;\">\n",
       "      <th></th>\n",
       "      <th>p</th>\n",
       "      <th>q</th>\n",
       "      <th>r</th>\n",
       "      <th>s</th>\n",
       "    </tr>\n",
       "  </thead>\n",
       "  <tbody>\n",
       "    <tr>\n",
       "      <th>0</th>\n",
       "      <td>2</td>\n",
       "      <td>3</td>\n",
       "      <td>4</td>\n",
       "      <td>5</td>\n",
       "    </tr>\n",
       "    <tr>\n",
       "      <th>1</th>\n",
       "      <td>20</td>\n",
       "      <td>30</td>\n",
       "      <td>40</td>\n",
       "      <td>50</td>\n",
       "    </tr>\n",
       "    <tr>\n",
       "      <th>2</th>\n",
       "      <td>200</td>\n",
       "      <td>300</td>\n",
       "      <td>400</td>\n",
       "      <td>500</td>\n",
       "    </tr>\n",
       "  </tbody>\n",
       "</table>\n",
       "</div>"
      ],
      "text/plain": [
       "     p    q    r    s\n",
       "0    2    3    4    5\n",
       "1   20   30   40   50\n",
       "2  200  300  400  500"
      ]
     },
     "execution_count": 69,
     "metadata": {},
     "output_type": "execute_result"
    }
   ],
   "source": [
    "#2.a\n",
    "mydict = [{'p': 2, 'q': 3, 'r': 4, 's': 5},\n",
    "           {'p': 20, 'q': 30, 'r': 40, 's': 50},\n",
    "           {'p': 200, 'q': 300, 'r': 400, 's': 500 }]\n",
    "    \n",
    "#create data frame from the given dictionary \n",
    "d2=pd.DataFrame(mydict)\n",
    "d2"
   ]
  },
  {
   "cell_type": "code",
   "execution_count": 76,
   "metadata": {},
   "outputs": [
    {
     "data": {
      "text/html": [
       "<div>\n",
       "<style scoped>\n",
       "    .dataframe tbody tr th:only-of-type {\n",
       "        vertical-align: middle;\n",
       "    }\n",
       "\n",
       "    .dataframe tbody tr th {\n",
       "        vertical-align: top;\n",
       "    }\n",
       "\n",
       "    .dataframe thead th {\n",
       "        text-align: right;\n",
       "    }\n",
       "</style>\n",
       "<table border=\"1\" class=\"dataframe\">\n",
       "  <thead>\n",
       "    <tr style=\"text-align: right;\">\n",
       "      <th></th>\n",
       "      <th>q</th>\n",
       "      <th>r</th>\n",
       "    </tr>\n",
       "  </thead>\n",
       "  <tbody>\n",
       "    <tr>\n",
       "      <th>0</th>\n",
       "      <td>3</td>\n",
       "      <td>4</td>\n",
       "    </tr>\n",
       "    <tr>\n",
       "      <th>1</th>\n",
       "      <td>30</td>\n",
       "      <td>40</td>\n",
       "    </tr>\n",
       "    <tr>\n",
       "      <th>2</th>\n",
       "      <td>300</td>\n",
       "      <td>400</td>\n",
       "    </tr>\n",
       "  </tbody>\n",
       "</table>\n",
       "</div>"
      ],
      "text/plain": [
       "     q    r\n",
       "0    3    4\n",
       "1   30   40\n",
       "2  300  400"
      ]
     },
     "execution_count": 76,
     "metadata": {},
     "output_type": "execute_result"
    }
   ],
   "source": [
    "#2.b.\n",
    "#indexing the rows with the list of integers using loc/iloc\n",
    "d2.iloc[0,1]\n",
    "d2.iloc[:,3]\n",
    "d2.iloc[:,1:3]"
   ]
  },
  {
   "cell_type": "code",
   "execution_count": null,
   "metadata": {
    "collapsed": true
   },
   "outputs": [],
   "source": [
    "#3.give different index in the data frame mydict\n"
   ]
  },
  {
   "cell_type": "code",
   "execution_count": null,
   "metadata": {
    "collapsed": true
   },
   "outputs": [],
   "source": [
    "#4.select the last row values"
   ]
  },
  {
   "cell_type": "code",
   "execution_count": null,
   "metadata": {
    "collapsed": true
   },
   "outputs": [],
   "source": [
    "#5. Create a `Series` that looks like this:\n",
    "\n",
    "Flour     4 cups\n",
    "Milk       1 cup\n",
    "Eggs     2 large\n",
    "Spam       1 can"
   ]
  },
  {
   "cell_type": "code",
   "execution_count": null,
   "metadata": {
    "collapsed": true
   },
   "outputs": [],
   "source": [
    "#6.use lambda function to select the rows whose label index is even from the data frame frame3[%=remainder,x.index%2==0]\n"
   ]
  },
  {
   "cell_type": "code",
   "execution_count": 4,
   "metadata": {},
   "outputs": [
    {
     "ename": "NameError",
     "evalue": "name 'Series' is not defined",
     "output_type": "error",
     "traceback": [
      "\u001b[1;31m---------------------------------------------------------------------------\u001b[0m",
      "\u001b[1;31mNameError\u001b[0m                                 Traceback (most recent call last)",
      "\u001b[1;32m<ipython-input-4-223f1d029161>\u001b[0m in \u001b[0;36m<module>\u001b[1;34m()\u001b[0m\n\u001b[0;32m      2\u001b[0m \u001b[1;31m#Pandas Series support vectorization\u001b[0m\u001b[1;33m\u001b[0m\u001b[1;33m\u001b[0m\u001b[0m\n\u001b[0;32m      3\u001b[0m \u001b[0mlist1\u001b[0m\u001b[1;33m=\u001b[0m\u001b[1;33m[\u001b[0m\u001b[1;36m1\u001b[0m\u001b[1;33m,\u001b[0m\u001b[1;36m2\u001b[0m\u001b[1;33m,\u001b[0m\u001b[1;36m3\u001b[0m\u001b[1;33m,\u001b[0m\u001b[1;36m4\u001b[0m\u001b[1;33m]\u001b[0m\u001b[1;33m\u001b[0m\u001b[0m\n\u001b[1;32m----> 4\u001b[1;33m \u001b[0ms\u001b[0m\u001b[1;33m=\u001b[0m\u001b[0mSeries\u001b[0m\u001b[1;33m(\u001b[0m\u001b[0mlist1\u001b[0m\u001b[1;33m)\u001b[0m\u001b[1;33m\u001b[0m\u001b[0m\n\u001b[0m\u001b[0;32m      5\u001b[0m \u001b[0ms\u001b[0m\u001b[1;33m*\u001b[0m\u001b[1;36m8\u001b[0m\u001b[1;33m\u001b[0m\u001b[0m\n",
      "\u001b[1;31mNameError\u001b[0m: name 'Series' is not defined"
     ]
    }
   ],
   "source": [
    "#7. create pandas series object which has product of all the elements in a list list1 and 8\n",
    "#Pandas Series support vectorization\n",
    "list1=[1,2,3,4]\n",
    "s=Series(list1)\n",
    "s*8"
   ]
  },
  {
   "cell_type": "code",
   "execution_count": null,
   "metadata": {
    "collapsed": true
   },
   "outputs": [],
   "source": [
    "#8.get index and values of a series\n",
    "ser1 = pd.Series({\"India\": \"New Delhi\",\n",
    "                  \"Japan\": \"Tokyo\",\n",
    "                  \"UK\": \"London\"})"
   ]
  },
  {
   "cell_type": "code",
   "execution_count": null,
   "metadata": {
    "collapsed": true
   },
   "outputs": [],
   "source": [
    "#9.create a dataframe with index and columns"
   ]
  },
  {
   "cell_type": "code",
   "execution_count": null,
   "metadata": {
    "collapsed": true
   },
   "outputs": [],
   "source": [
    "#10. get first 5 observartions from the data set medal.csv\n",
    "#Download a data set medal.csv from Jigsaw LMS and load it in Python environment"
   ]
  },
  {
   "cell_type": "code",
   "execution_count": null,
   "metadata": {
    "collapsed": true
   },
   "outputs": [],
   "source": [
    "#endswith method:\n",
    "#returns true if a string endswith the specified suffix. If not, it returns false\n",
    "text=\"python is easy to learn.\"\n",
    "text.endswith(\"easy to\")\n"
   ]
  },
  {
   "cell_type": "code",
   "execution_count": null,
   "metadata": {
    "collapsed": true
   },
   "outputs": [],
   "source": [
    "text.endswith(\"easy to learn\")"
   ]
  },
  {
   "cell_type": "code",
   "execution_count": null,
   "metadata": {
    "collapsed": true
   },
   "outputs": [],
   "source": [
    "text.endswith(\"easy to learn.\")"
   ]
  }
 ],
 "metadata": {
  "kernelspec": {
   "display_name": "Python 3",
   "language": "python",
   "name": "python3"
  }
 },
 "nbformat": 4,
 "nbformat_minor": 2
}
